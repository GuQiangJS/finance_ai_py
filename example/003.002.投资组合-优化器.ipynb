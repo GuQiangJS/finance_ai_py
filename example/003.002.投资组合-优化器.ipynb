{
 "cells": [
  {
   "cell_type": "markdown",
   "metadata": {},
   "source": [
    "## 什么是优化器\n",
    "\n",
    "[https://www.youtube.com/watch?v=Ym1m4Bh14ps](https://www.youtube.com/watch?v=Ym1m4Bh14ps)\n",
    "\n",
    "* 用来寻找函数最小值\n",
    "* 从数据中查找并建立参数化模型（从实验数据中找到一个多项式来拟合实验数据）\n",
    "* 使用优化器来改善股票投资组合中的分配方式"
   ]
  },
  {
   "cell_type": "markdown",
   "metadata": {},
   "source": [
    "## 凸优化\n",
    "\n",
    "[https://zh.wikipedia.org/wiki/%E5%87%B8%E5%84%AA%E5%8C%96](https://zh.wikipedia.org/wiki/%E5%87%B8%E5%84%AA%E5%8C%96)"
   ]
  },
  {
   "cell_type": "code",
   "execution_count": null,
   "metadata": {},
   "outputs": [],
   "source": []
  }
 ],
 "metadata": {
  "kernelspec": {
   "display_name": "Python 3",
   "language": "python",
   "name": "python3"
  },
  "language_info": {
   "codemirror_mode": {
    "name": "ipython",
    "version": 3
   },
   "file_extension": ".py",
   "mimetype": "text/x-python",
   "name": "python",
   "nbconvert_exporter": "python",
   "pygments_lexer": "ipython3",
   "version": "3.6.2"
  }
 },
 "nbformat": 4,
 "nbformat_minor": 2
}
