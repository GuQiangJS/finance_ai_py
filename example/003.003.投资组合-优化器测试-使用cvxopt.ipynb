{
 "cells": [
  {
   "cell_type": "code",
   "execution_count": 1,
   "metadata": {},
   "outputs": [
    {
     "ename": "SyntaxError",
     "evalue": "invalid syntax (QAQuery_Async.py, line 64)",
     "output_type": "error",
     "traceback": [
      "Traceback \u001b[1;36m(most recent call last)\u001b[0m:\n",
      "  File \u001b[0;32m\"C:\\Users\\GuQiang\\AppData\\Local\\conda\\conda\\envs\\finance\\lib\\site-packages\\IPython\\core\\interactiveshell.py\"\u001b[0m, line \u001b[0;32m3265\u001b[0m, in \u001b[0;35mrun_code\u001b[0m\n    exec(code_obj, self.user_global_ns, self.user_ns)\n",
      "  File \u001b[0;32m\"<ipython-input-1-76b37e3f8fa9>\"\u001b[0m, line \u001b[0;32m2\u001b[0m, in \u001b[0;35m<module>\u001b[0m\n    import quantaxis_ext\n",
      "  File \u001b[0;32m\"D:\\Github\\finance_ai_py\\example\\quantaxis_ext.py\"\u001b[0m, line \u001b[0;32m5\u001b[0m, in \u001b[0;35m<module>\u001b[0m\n    from QUANTAXIS import QA_fetch_index_day_adv\n",
      "  File \u001b[0;32m\"C:\\Users\\GuQiang\\AppData\\Local\\conda\\conda\\envs\\finance\\lib\\site-packages\\QUANTAXIS\\__init__.py\"\u001b[0m, line \u001b[0;32m57\u001b[0m, in \u001b[0;35m<module>\u001b[0m\n    from QUANTAXIS.QAFetch.Fetcher import QA_quotation\n",
      "\u001b[1;36m  File \u001b[1;32m\"C:\\Users\\GuQiang\\AppData\\Local\\conda\\conda\\envs\\finance\\lib\\site-packages\\QUANTAXIS\\QAFetch\\Fetcher.py\"\u001b[1;36m, line \u001b[1;32m37\u001b[1;36m, in \u001b[1;35m<module>\u001b[1;36m\u001b[0m\n\u001b[1;33m    from QUANTAXIS.QAFetch import QAQuery_Async as QAQueryAsync\u001b[0m\n",
      "\u001b[1;36m  File \u001b[1;32m\"C:\\Users\\GuQiang\\AppData\\Local\\conda\\conda\\envs\\finance\\lib\\site-packages\\QUANTAXIS\\QAFetch\\QAQuery_Async.py\"\u001b[1;36m, line \u001b[1;32m64\u001b[0m\n\u001b[1;33m    res = pd.DataFrame([item async for item in cursor])\u001b[0m\n\u001b[1;37m                                 ^\u001b[0m\n\u001b[1;31mSyntaxError\u001b[0m\u001b[1;31m:\u001b[0m invalid syntax\n"
     ]
    }
   ],
   "source": [
    "import pandas as pd\n",
    "import quantaxis_ext\n",
    "from QUANTAXIS import QA_fetch_stock_day_adv\n",
    "from QUANTAXIS import QA_fetch_index_day_adv\n",
    "import ploter\n",
    "import talib\n",
    "import numpy as np\n",
    "import settings\n",
    "import units\n",
    "import header\n",
    "import calculator as calc\n",
    "import matplotlib.pyplot as plt\n",
    "\n",
    "#设定绘图的默认大小\n",
    "import matplotlib\n",
    "matplotlib.rcParams[\"figure.figsize\"]=[16,5]\n",
    "\n",
    "#加载 seaborn，并且设置默认使用 seaborn\n",
    "import seaborn as sns\n",
    "sns.set()\n",
    "\n",
    "matplotlib.rcParams['font.family'] = 'sans-serif'\n",
    "matplotlib.rcParams['font.sans-serif'] = ['Noto Sans CJK SC','SimHei']\n",
    "matplotlib.rcParams['axes.unicode_minus']=False #用来正常显示负号\n",
    "\n",
    "from IPython.core.interactiveshell import InteractiveShell\n",
    "InteractiveShell.ast_node_interactivity = \"all\" "
   ]
  },
  {
   "cell_type": "code",
   "execution_count": null,
   "metadata": {},
   "outputs": [],
   "source": [
    "START_VALS = 1000000 # 初始投资总额\n",
    "START = '2018-01-01' # 初始投资日期\n",
    "END = '2018-12-31' # 结束投资日期\n",
    "# 投资组合：贵州茅台、中国平安、招商银行、格力电器\n",
    "SYMBOLS = ['600519','601318','600036','000651'] \n",
    "# 比率分配\n",
    "ALLOCS = [0.4,0.4,0.1,0.1]\n",
    "ZS_CODE='000300'#指数代码。沪深300"
   ]
  },
  {
   "cell_type": "markdown",
   "metadata": {},
   "source": [
    "## 日回报率"
   ]
  },
  {
   "cell_type": "code",
   "execution_count": null,
   "metadata": {},
   "outputs": [],
   "source": [
    "daily_return=quantaxis_ext.fetch_index_stock_daily_adv(SYMBOLS, ZS_CODE, START, END).pct_change()[1:]\n",
    "daily_return.head()"
   ]
  },
  {
   "cell_type": "markdown",
   "metadata": {},
   "source": [
    "## 组合的日回报率"
   ]
  },
  {
   "cell_type": "code",
   "execution_count": null,
   "metadata": {},
   "outputs": [],
   "source": [
    "symbol_daily_return=daily_return.drop(columns=['zs_'+ZS_CODE])\n",
    "symbol_daily_return.head()"
   ]
  },
  {
   "cell_type": "markdown",
   "metadata": {},
   "source": [
    "## 组合日收益协方差矩阵"
   ]
  },
  {
   "cell_type": "code",
   "execution_count": null,
   "metadata": {},
   "outputs": [],
   "source": [
    "symbol_cov_mat=symbol_daily_return.cov()\n",
    "symbol_cov_mat.head()"
   ]
  },
  {
   "cell_type": "markdown",
   "metadata": {},
   "source": [
    "## 组合日收益均值"
   ]
  },
  {
   "cell_type": "code",
   "execution_count": null,
   "metadata": {},
   "outputs": [],
   "source": [
    "symbol_avg_rets =symbol_daily_return.mean()\n",
    "symbol_avg_rets.head()"
   ]
  },
  {
   "cell_type": "markdown",
   "metadata": {},
   "source": [
    "## 按照默认的组合分配比率，默认的初始资金，计算期末时的价值"
   ]
  },
  {
   "cell_type": "code",
   "execution_count": null,
   "metadata": {},
   "outputs": [],
   "source": [
    "port_vals=calc.calc_residual_value_of_portfolio(SYMBOLS,ZS_CODE,START,END,ALLOCS,START_VALS)"
   ]
  },
  {
   "cell_type": "code",
   "execution_count": null,
   "metadata": {},
   "outputs": [],
   "source": [
    "print('按照最默认组合 {0}\\n计算后的期末余额为 {1}。\\n比期初降低 {2:.2%}。'.format(ALLOCS,\n",
    "                                                        port_vals.iloc[-1].sum(),\n",
    "                                                        port_vals.iloc[-1].sum()/START_VALS-1))"
   ]
  },
  {
   "cell_type": "markdown",
   "metadata": {},
   "source": [
    "## 计算最小方差组合（长期投资，比率不可为负）"
   ]
  },
  {
   "cell_type": "code",
   "execution_count": null,
   "metadata": {},
   "outputs": [],
   "source": [
    "import portfolioopt as opt"
   ]
  },
  {
   "cell_type": "code",
   "execution_count": null,
   "metadata": {},
   "outputs": [],
   "source": [
    "weight_min_portfolio=opt.min_var_portfolio(symbol_cov_mat)\n",
    "weight_min_portfolio"
   ]
  },
  {
   "cell_type": "code",
   "execution_count": null,
   "metadata": {},
   "outputs": [],
   "source": [
    "min_portfolio_port_vals=calc.calc_residual_value_of_portfolio(SYMBOLS,ZS_CODE,START,END,weight_min_portfolio.values,START_VALS)"
   ]
  },
  {
   "cell_type": "code",
   "execution_count": null,
   "metadata": {},
   "outputs": [],
   "source": [
    "print('按照最小方差组合（长期投资，比率不可为负） {0}\\n计算后的期末余额为 {1}\\n比默认组合增加 {2:.2%}。'.format(weight_min_portfolio.values,\n",
    "                                                        min_portfolio_port_vals.iloc[-1].sum(),\n",
    "                                                        min_portfolio_port_vals.iloc[-1].sum()/port_vals.iloc[-1].sum()-1))"
   ]
  },
  {
   "cell_type": "markdown",
   "metadata": {},
   "source": [
    "## 计算最小方差组合（短期投资，比率可为负）"
   ]
  },
  {
   "cell_type": "code",
   "execution_count": null,
   "metadata": {},
   "outputs": [],
   "source": [
    "weight_min_portfolio_short=opt.min_var_portfolio(symbol_cov_mat,allow_short=True)\n",
    "weight_min_portfolio_short"
   ]
  },
  {
   "cell_type": "code",
   "execution_count": null,
   "metadata": {},
   "outputs": [],
   "source": [
    "min_portfolio_short_port_vals=calc.calc_residual_value_of_portfolio(SYMBOLS,ZS_CODE,START,END,weight_min_portfolio_short.values,START_VALS)"
   ]
  },
  {
   "cell_type": "code",
   "execution_count": null,
   "metadata": {},
   "outputs": [],
   "source": [
    "print('按照最小方差组合（短期投资，比率可为负） {0}\\n计算后的期末余额为 {1}\\n比默认组合增加 {2:.2%}。'.format(weight_min_portfolio_short.values,\n",
    "                                                        min_portfolio_short_port_vals.iloc[-1].sum(),\n",
    "                                                        min_portfolio_short_port_vals.iloc[-1].sum()/port_vals.iloc[-1].sum()-1))"
   ]
  },
  {
   "cell_type": "markdown",
   "metadata": {},
   "source": [
    "## 计算Markowitz组合"
   ]
  },
  {
   "cell_type": "code",
   "execution_count": null,
   "metadata": {},
   "outputs": [],
   "source": [
    "weight_markowitz=opt.markowitz_portfolio(symbol_cov_mat,symbol_avg_rets,symbol_avg_rets.quantile(0.7))\n",
    "weight_markowitz"
   ]
  },
  {
   "cell_type": "code",
   "execution_count": null,
   "metadata": {},
   "outputs": [],
   "source": [
    "markowitz_port_vals=calc.calc_residual_value_of_portfolio(SYMBOLS,ZS_CODE,START,END,weight_markowitz.values,START_VALS)"
   ]
  },
  {
   "cell_type": "code",
   "execution_count": null,
   "metadata": {},
   "outputs": [],
   "source": [
    "print('按照Markowitz组合 {0}\\n计算后的期末余额为 {1}\\n比默认组合增加 {2:.2%}。'.format(weight_markowitz.values,\n",
    "                                                        markowitz_port_vals.iloc[-1].sum(),\n",
    "                                                        markowitz_port_vals.iloc[-1].sum()/port_vals.iloc[-1].sum()-1))"
   ]
  },
  {
   "cell_type": "markdown",
   "metadata": {},
   "source": [
    "## 计算“切线资产组合” (tangency portfolio)"
   ]
  },
  {
   "cell_type": "code",
   "execution_count": null,
   "metadata": {},
   "outputs": [],
   "source": [
    "weight_tangency=opt.tangency_portfolio(symbol_cov_mat, symbol_avg_rets)\n",
    "weight_tangency"
   ]
  },
  {
   "cell_type": "code",
   "execution_count": null,
   "metadata": {},
   "outputs": [],
   "source": [
    "tangency_port_vals=calc.calc_residual_value_of_portfolio(SYMBOLS,ZS_CODE,START,END,weight_tangency.values,START_VALS)"
   ]
  },
  {
   "cell_type": "code",
   "execution_count": null,
   "metadata": {},
   "outputs": [],
   "source": [
    "print('按照切线资产组合 {0}\\n计算后的期末余额为 {1}\\n比默认组合增加 {2:.2%}。'.format(weight_tangency.values,\n",
    "                                                        tangency_port_vals.iloc[-1].sum(),\n",
    "                                                        tangency_port_vals.iloc[-1].sum()/port_vals.iloc[-1].sum()-1))"
   ]
  }
 ],
 "metadata": {
  "kernelspec": {
   "display_name": "Python 3",
   "language": "python",
   "name": "python3"
  },
  "language_info": {
   "codemirror_mode": {
    "name": "ipython",
    "version": 3
   },
   "file_extension": ".py",
   "mimetype": "text/x-python",
   "name": "python",
   "nbconvert_exporter": "python",
   "pygments_lexer": "ipython3",
   "version": "3.5.5"
  }
 },
 "nbformat": 4,
 "nbformat_minor": 2
}
