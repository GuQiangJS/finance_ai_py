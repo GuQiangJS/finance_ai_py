{
 "cells": [
  {
   "cell_type": "code",
   "execution_count": 1,
   "metadata": {},
   "outputs": [],
   "source": [
    "import pandas as pd\n",
    "import quantaxis_ext\n",
    "from QUANTAXIS import QA_fetch_stock_day_adv\n",
    "from QUANTAXIS import QA_fetch_index_day_adv\n",
    "import ploter\n",
    "import talib\n",
    "import numpy as np\n",
    "import settings\n",
    "import units\n",
    "import header\n",
    "import calculator as calc\n",
    "import matplotlib.pyplot as plt\n",
    "\n",
    "#设定绘图的默认大小\n",
    "import matplotlib\n",
    "matplotlib.rcParams[\"figure.figsize\"]=[16,5]\n",
    "\n",
    "#加载 seaborn，并且设置默认使用 seaborn\n",
    "import seaborn as sns\n",
    "sns.set()\n",
    "\n",
    "matplotlib.rcParams['font.family'] = 'sans-serif'\n",
    "matplotlib.rcParams['font.sans-serif'] = ['Noto Sans CJK SC','SimHei']\n",
    "matplotlib.rcParams['axes.unicode_minus']=False #用来正常显示负号\n",
    "\n",
    "from IPython.core.interactiveshell import InteractiveShell\n",
    "InteractiveShell.ast_node_interactivity = \"all\" "
   ]
  },
  {
   "cell_type": "code",
   "execution_count": 2,
   "metadata": {},
   "outputs": [],
   "source": [
    "START_VALS = 1000000 # 初始投资总额\n",
    "START = '2018-01-01' # 初始投资日期\n",
    "END = '2018-12-31' # 结束投资日期\n",
    "# 投资组合：贵州茅台、中国平安、招商银行、格力电器\n",
    "SYMBOLS = ['600519','601318','600036','000651'] \n",
    "# 比率分配\n",
    "ALLOCS = [0.4,0.4,0.1,0.1]\n",
    "ZS_CODE='000300'#指数代码。沪深300"
   ]
  },
  {
   "cell_type": "markdown",
   "metadata": {},
   "source": [
    "## 组合日回报率"
   ]
  },
  {
   "cell_type": "code",
   "execution_count": 3,
   "metadata": {},
   "outputs": [
    {
     "data": {
      "text/html": [
       "<div>\n",
       "<style scoped>\n",
       "    .dataframe tbody tr th:only-of-type {\n",
       "        vertical-align: middle;\n",
       "    }\n",
       "\n",
       "    .dataframe tbody tr th {\n",
       "        vertical-align: top;\n",
       "    }\n",
       "\n",
       "    .dataframe thead th {\n",
       "        text-align: right;\n",
       "    }\n",
       "</style>\n",
       "<table border=\"1\" class=\"dataframe\">\n",
       "  <thead>\n",
       "    <tr style=\"text-align: right;\">\n",
       "      <th></th>\n",
       "      <th>zs_000300</th>\n",
       "      <th>600519</th>\n",
       "      <th>601318</th>\n",
       "      <th>600036</th>\n",
       "      <th>000651</th>\n",
       "    </tr>\n",
       "    <tr>\n",
       "      <th>date</th>\n",
       "      <th></th>\n",
       "      <th></th>\n",
       "      <th></th>\n",
       "      <th></th>\n",
       "      <th></th>\n",
       "    </tr>\n",
       "  </thead>\n",
       "  <tbody>\n",
       "    <tr>\n",
       "      <th>2018-01-03</th>\n",
       "      <td>0.005869</td>\n",
       "      <td>0.017063</td>\n",
       "      <td>-0.022317</td>\n",
       "      <td>0.011816</td>\n",
       "      <td>0.011074</td>\n",
       "    </tr>\n",
       "    <tr>\n",
       "      <th>2018-01-04</th>\n",
       "      <td>0.004237</td>\n",
       "      <td>0.029629</td>\n",
       "      <td>0.002959</td>\n",
       "      <td>-0.010677</td>\n",
       "      <td>0.020372</td>\n",
       "    </tr>\n",
       "    <tr>\n",
       "      <th>2018-01-05</th>\n",
       "      <td>0.002407</td>\n",
       "      <td>0.001750</td>\n",
       "      <td>-0.004074</td>\n",
       "      <td>0.015177</td>\n",
       "      <td>0.027909</td>\n",
       "    </tr>\n",
       "    <tr>\n",
       "      <th>2018-01-08</th>\n",
       "      <td>0.005173</td>\n",
       "      <td>0.018649</td>\n",
       "      <td>-0.012414</td>\n",
       "      <td>-0.020930</td>\n",
       "      <td>-0.001044</td>\n",
       "    </tr>\n",
       "    <tr>\n",
       "      <th>2018-01-09</th>\n",
       "      <td>0.007005</td>\n",
       "      <td>0.040405</td>\n",
       "      <td>0.026568</td>\n",
       "      <td>0.010180</td>\n",
       "      <td>0.032825</td>\n",
       "    </tr>\n",
       "  </tbody>\n",
       "</table>\n",
       "</div>"
      ],
      "text/plain": [
       "            zs_000300    600519    601318    600036    000651\n",
       "date                                                         \n",
       "2018-01-03   0.005869  0.017063 -0.022317  0.011816  0.011074\n",
       "2018-01-04   0.004237  0.029629  0.002959 -0.010677  0.020372\n",
       "2018-01-05   0.002407  0.001750 -0.004074  0.015177  0.027909\n",
       "2018-01-08   0.005173  0.018649 -0.012414 -0.020930 -0.001044\n",
       "2018-01-09   0.007005  0.040405  0.026568  0.010180  0.032825"
      ]
     },
     "execution_count": 3,
     "metadata": {},
     "output_type": "execute_result"
    }
   ],
   "source": [
    "daily_return=quantaxis_ext.fetch_index_stock_daily_adv(SYMBOLS, ZS_CODE, START, END).pct_change().dropna()\n",
    "daily_return.head()"
   ]
  },
  {
   "cell_type": "markdown",
   "metadata": {},
   "source": [
    "## 协方差矩阵"
   ]
  },
  {
   "cell_type": "code",
   "execution_count": 5,
   "metadata": {},
   "outputs": [
    {
     "data": {
      "text/html": [
       "<div>\n",
       "<style scoped>\n",
       "    .dataframe tbody tr th:only-of-type {\n",
       "        vertical-align: middle;\n",
       "    }\n",
       "\n",
       "    .dataframe tbody tr th {\n",
       "        vertical-align: top;\n",
       "    }\n",
       "\n",
       "    .dataframe thead th {\n",
       "        text-align: right;\n",
       "    }\n",
       "</style>\n",
       "<table border=\"1\" class=\"dataframe\">\n",
       "  <thead>\n",
       "    <tr style=\"text-align: right;\">\n",
       "      <th></th>\n",
       "      <th>zs_000300</th>\n",
       "      <th>600519</th>\n",
       "      <th>601318</th>\n",
       "      <th>600036</th>\n",
       "      <th>000651</th>\n",
       "    </tr>\n",
       "  </thead>\n",
       "  <tbody>\n",
       "    <tr>\n",
       "      <th>zs_000300</th>\n",
       "      <td>0.000182</td>\n",
       "      <td>0.000224</td>\n",
       "      <td>0.000224</td>\n",
       "      <td>0.000184</td>\n",
       "      <td>0.000233</td>\n",
       "    </tr>\n",
       "    <tr>\n",
       "      <th>600519</th>\n",
       "      <td>0.000224</td>\n",
       "      <td>0.000506</td>\n",
       "      <td>0.000297</td>\n",
       "      <td>0.000225</td>\n",
       "      <td>0.000374</td>\n",
       "    </tr>\n",
       "    <tr>\n",
       "      <th>601318</th>\n",
       "      <td>0.000224</td>\n",
       "      <td>0.000297</td>\n",
       "      <td>0.000396</td>\n",
       "      <td>0.000284</td>\n",
       "      <td>0.000322</td>\n",
       "    </tr>\n",
       "    <tr>\n",
       "      <th>600036</th>\n",
       "      <td>0.000184</td>\n",
       "      <td>0.000225</td>\n",
       "      <td>0.000284</td>\n",
       "      <td>0.000370</td>\n",
       "      <td>0.000249</td>\n",
       "    </tr>\n",
       "    <tr>\n",
       "      <th>000651</th>\n",
       "      <td>0.000233</td>\n",
       "      <td>0.000374</td>\n",
       "      <td>0.000322</td>\n",
       "      <td>0.000249</td>\n",
       "      <td>0.000532</td>\n",
       "    </tr>\n",
       "  </tbody>\n",
       "</table>\n",
       "</div>"
      ],
      "text/plain": [
       "           zs_000300    600519    601318    600036    000651\n",
       "zs_000300   0.000182  0.000224  0.000224  0.000184  0.000233\n",
       "600519      0.000224  0.000506  0.000297  0.000225  0.000374\n",
       "601318      0.000224  0.000297  0.000396  0.000284  0.000322\n",
       "600036      0.000184  0.000225  0.000284  0.000370  0.000249\n",
       "000651      0.000233  0.000374  0.000322  0.000249  0.000532"
      ]
     },
     "execution_count": 5,
     "metadata": {},
     "output_type": "execute_result"
    }
   ],
   "source": [
    "daily_return.cov()"
   ]
  },
  {
   "cell_type": "markdown",
   "metadata": {},
   "source": [
    "## 按照默认的组合分配比率，默认的初始资金，计算期末时的价值"
   ]
  },
  {
   "cell_type": "code",
   "execution_count": 6,
   "metadata": {},
   "outputs": [],
   "source": [
    "port_vals=calc.calc_residual_value_of_portfolio(SYMBOLS,ZS_CODE,START,END,ALLOCS,START_VALS)"
   ]
  },
  {
   "cell_type": "code",
   "execution_count": 31,
   "metadata": {},
   "outputs": [
    {
     "name": "stdout",
     "output_type": "stream",
     "text": [
      "按照最默认组合 [0.4, 0.4, 0.1, 0.1]\n",
      "计算后 的期末余额为 808563.1559890351。\n",
      "比期初降低 -19.14%。\n"
     ]
    }
   ],
   "source": [
    "print('按照最默认组合 {0}\\n计算后的期末余额为 {1}。\\n比期初降低 {2:.2%}。'.format(ALLOCS,\n",
    "                                                        port_vals.iloc[-1].sum(),\n",
    "                                                        port_vals.iloc[-1].sum()/START_VALS-1))"
   ]
  },
  {
   "cell_type": "markdown",
   "metadata": {},
   "source": [
    "## 计算最小方差组合"
   ]
  },
  {
   "cell_type": "code",
   "execution_count": 8,
   "metadata": {},
   "outputs": [],
   "source": [
    "import optimizer as opt"
   ]
  },
  {
   "cell_type": "code",
   "execution_count": 9,
   "metadata": {},
   "outputs": [
    {
     "data": {
      "text/plain": [
       "600519    0.220303\n",
       "601318    0.200134\n",
       "600036    0.506971\n",
       "000651    0.072591\n",
       "dtype: float64"
      ]
     },
     "execution_count": 9,
     "metadata": {},
     "output_type": "execute_result"
    }
   ],
   "source": [
    "weight_min_portfolio=opt.min_var_portfolio(daily_return.drop(columns=['zs_000300']).cov())\n",
    "weight_min_portfolio"
   ]
  },
  {
   "cell_type": "code",
   "execution_count": 11,
   "metadata": {},
   "outputs": [],
   "source": [
    "min_portfolio_port_vals=calc.calc_residual_value_of_portfolio(SYMBOLS,ZS_CODE,START,END,weight_min_portfolio.values,START_VALS)"
   ]
  },
  {
   "cell_type": "code",
   "execution_count": 32,
   "metadata": {},
   "outputs": [
    {
     "name": "stdout",
     "output_type": "stream",
     "text": [
      "按照最小方差组合 [0.22030341 0.20013408 0.50697133 0.07259118]\n",
      "计算后的期末余额为 828043.0164388939\n",
      "比默认组合增加 2.41%。\n"
     ]
    }
   ],
   "source": [
    "print('按照最小方差组合 {0}\\n计算后的期末余额为 {1}\\n比默认组合增加 {2:.2%}。'.format(weight_min_portfolio.values,\n",
    "                                                        min_portfolio_port_vals.iloc[-1].sum(),\n",
    "                                                        min_portfolio_port_vals.iloc[-1].sum()/port_vals.iloc[-1].sum()-1))"
   ]
  },
  {
   "cell_type": "code",
   "execution_count": null,
   "metadata": {},
   "outputs": [],
   "source": []
  }
 ],
 "metadata": {
  "kernelspec": {
   "display_name": "Python 3",
   "language": "python",
   "name": "python3"
  },
  "language_info": {
   "codemirror_mode": {
    "name": "ipython",
    "version": 3
   },
   "file_extension": ".py",
   "mimetype": "text/x-python",
   "name": "python",
   "nbconvert_exporter": "python",
   "pygments_lexer": "ipython3",
   "version": "3.7.2"
  }
 },
 "nbformat": 4,
 "nbformat_minor": 2
}
