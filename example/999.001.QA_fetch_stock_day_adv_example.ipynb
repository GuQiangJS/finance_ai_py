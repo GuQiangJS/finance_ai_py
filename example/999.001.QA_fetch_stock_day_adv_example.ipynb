{
 "cells": [
  {
   "cell_type": "code",
   "execution_count": 3,
   "metadata": {},
   "outputs": [],
   "source": [
    "import warnings\n",
    "warnings.filterwarnings('ignore')\n",
    "from IPython.core.interactiveshell import InteractiveShell\n",
    "InteractiveShell.ast_node_interactivity = \"all\" \n",
    "\n",
    "from datetime import date\n",
    "from QUANTAXIS import QA_fetch_stock_day_adv\n",
    "from QUANTAXIS import QA_fetch_index_day_adv"
   ]
  },
  {
   "cell_type": "code",
   "execution_count": 5,
   "metadata": {},
   "outputs": [
    {
     "data": {
      "text/plain": [
       "'开始日期:1991-01-01'"
      ]
     },
     "execution_count": 5,
     "metadata": {},
     "output_type": "execute_result"
    },
    {
     "data": {
      "text/plain": [
       "'结束日期:2019-01-26'"
      ]
     },
     "execution_count": 5,
     "metadata": {},
     "output_type": "execute_result"
    },
    {
     "data": {
      "text/plain": [
       "'指数代码:399300'"
      ]
     },
     "execution_count": 5,
     "metadata": {},
     "output_type": "execute_result"
    }
   ],
   "source": [
    "def _format_date(date_value: date, fmt='%Y-%m-%d'):\n",
    "    # pylint: disable=C0301\n",
    "    \"\"\"格式化输出日期类型数据\n",
    "\n",
    "\n",
    "    Args:\n",
    "        date_value:\n",
    "        fmt: 格式化字符串。\n",
    "            参考：https://docs.python.org/zh-cn/3.7/library/datetime.html#strftime-and-strptime-behavior\n",
    "\n",
    "    Returns:\n",
    "\n",
    "    \"\"\"\n",
    "    return date_value.strftime(fmt)\n",
    "\n",
    "def _test_index(code,start='2018-01-01',end='2018-12-31'):\n",
    "    \"\"\"测试指数数据是否在本地能读取到\n",
    "    \n",
    "    Return:\n",
    "        如果数据读取正常，则返回True，否则返回False\n",
    "    \"\"\"\n",
    "    return not QA_fetch_index_day_adv(code,start,end).data.empty\n",
    "\n",
    "def _get_zs_code():\n",
    "    \"\"\"获取示例时的指数（沪深300）代码，返回000300或者399300\"\"\"\n",
    "\n",
    "    ZS_CODE=['399300','000300']#指数代码。沪深300\n",
    "    for z in ZS_CODE:\n",
    "        if _test_index(z):\n",
    "            return z\n",
    "    if not isinstance(ZS_CODE, str):\n",
    "        raise AssertionError\n",
    "        \n",
    "start_date=date(1991,1,1)\n",
    "start_str = _format_date(start_date)\n",
    "'开始日期:{0}'.format(start_str)\n",
    "end_str = _format_date(date.today())\n",
    "'结束日期:{0}'.format(end_str)\n",
    "\n",
    "zs_code=_get_zs_code()\n",
    "'指数代码:{0}'.format(zs_code)"
   ]
  },
  {
   "cell_type": "code",
   "execution_count": 6,
   "metadata": {},
   "outputs": [],
   "source": [
    "zs_data=QA_fetch_index_day_adv(zs_code,start_str,end_str)"
   ]
  },
  {
   "cell_type": "code",
   "execution_count": 7,
   "metadata": {},
   "outputs": [
    {
     "data": {
      "text/plain": [
       "< QA_DataStruct_Index_day with 1 securities >"
      ]
     },
     "execution_count": 7,
     "metadata": {},
     "output_type": "execute_result"
    }
   ],
   "source": [
    "zs_data"
   ]
  },
  {
   "cell_type": "code",
   "execution_count": 9,
   "metadata": {},
   "outputs": [
    {
     "data": {
      "text/html": [
       "<div>\n",
       "<style scoped>\n",
       "    .dataframe tbody tr th:only-of-type {\n",
       "        vertical-align: middle;\n",
       "    }\n",
       "\n",
       "    .dataframe tbody tr th {\n",
       "        vertical-align: top;\n",
       "    }\n",
       "\n",
       "    .dataframe thead th {\n",
       "        text-align: right;\n",
       "    }\n",
       "</style>\n",
       "<table border=\"1\" class=\"dataframe\">\n",
       "  <thead>\n",
       "    <tr style=\"text-align: right;\">\n",
       "      <th></th>\n",
       "      <th></th>\n",
       "      <th>close</th>\n",
       "      <th>low</th>\n",
       "      <th>high</th>\n",
       "      <th>amount</th>\n",
       "      <th>open</th>\n",
       "      <th>volume</th>\n",
       "    </tr>\n",
       "    <tr>\n",
       "      <th>date</th>\n",
       "      <th>code</th>\n",
       "      <th></th>\n",
       "      <th></th>\n",
       "      <th></th>\n",
       "      <th></th>\n",
       "      <th></th>\n",
       "      <th></th>\n",
       "    </tr>\n",
       "  </thead>\n",
       "  <tbody>\n",
       "    <tr>\n",
       "      <th>2018-12-23</th>\n",
       "      <th>399300</th>\n",
       "      <td>3029.40</td>\n",
       "      <td>3007.61</td>\n",
       "      <td>3167.51</td>\n",
       "      <td>3.800654e+11</td>\n",
       "      <td>3158.28</td>\n",
       "      <td>3323471.0</td>\n",
       "    </tr>\n",
       "    <tr>\n",
       "      <th>2018-12-30</th>\n",
       "      <th>399300</th>\n",
       "      <td>3010.65</td>\n",
       "      <td>2964.88</td>\n",
       "      <td>3047.24</td>\n",
       "      <td>3.621738e+11</td>\n",
       "      <td>3015.50</td>\n",
       "      <td>3432314.0</td>\n",
       "    </tr>\n",
       "    <tr>\n",
       "      <th>2019-01-06</th>\n",
       "      <th>399300</th>\n",
       "      <td>3035.87</td>\n",
       "      <td>2935.83</td>\n",
       "      <td>3036.81</td>\n",
       "      <td>2.599114e+11</td>\n",
       "      <td>3017.07</td>\n",
       "      <td>2428490.0</td>\n",
       "    </tr>\n",
       "    <tr>\n",
       "      <th>2019-01-13</th>\n",
       "      <th>399300</th>\n",
       "      <td>3094.78</td>\n",
       "      <td>3035.91</td>\n",
       "      <td>3117.96</td>\n",
       "      <td>4.700896e+11</td>\n",
       "      <td>3055.15</td>\n",
       "      <td>4517572.0</td>\n",
       "    </tr>\n",
       "    <tr>\n",
       "      <th>2019-01-20</th>\n",
       "      <th>399300</th>\n",
       "      <td>3168.17</td>\n",
       "      <td>3064.38</td>\n",
       "      <td>3171.69</td>\n",
       "      <td>4.435433e+11</td>\n",
       "      <td>3092.50</td>\n",
       "      <td>4192475.0</td>\n",
       "    </tr>\n",
       "  </tbody>\n",
       "</table>\n",
       "</div>"
      ],
      "text/plain": [
       "                     close      low     high        amount     open     volume\n",
       "date       code                                                               \n",
       "2018-12-23 399300  3029.40  3007.61  3167.51  3.800654e+11  3158.28  3323471.0\n",
       "2018-12-30 399300  3010.65  2964.88  3047.24  3.621738e+11  3015.50  3432314.0\n",
       "2019-01-06 399300  3035.87  2935.83  3036.81  2.599114e+11  3017.07  2428490.0\n",
       "2019-01-13 399300  3094.78  3035.91  3117.96  4.700896e+11  3055.15  4517572.0\n",
       "2019-01-20 399300  3168.17  3064.38  3171.69  4.435433e+11  3092.50  4192475.0"
      ]
     },
     "execution_count": 9,
     "metadata": {},
     "output_type": "execute_result"
    }
   ],
   "source": [
    "zs_data.week.tail()"
   ]
  },
  {
   "cell_type": "code",
   "execution_count": 11,
   "metadata": {},
   "outputs": [
    {
     "data": {
      "text/html": [
       "<div>\n",
       "<style scoped>\n",
       "    .dataframe tbody tr th:only-of-type {\n",
       "        vertical-align: middle;\n",
       "    }\n",
       "\n",
       "    .dataframe tbody tr th {\n",
       "        vertical-align: top;\n",
       "    }\n",
       "\n",
       "    .dataframe thead th {\n",
       "        text-align: right;\n",
       "    }\n",
       "</style>\n",
       "<table border=\"1\" class=\"dataframe\">\n",
       "  <thead>\n",
       "    <tr style=\"text-align: right;\">\n",
       "      <th></th>\n",
       "      <th></th>\n",
       "      <th>close</th>\n",
       "      <th>low</th>\n",
       "      <th>high</th>\n",
       "      <th>amount</th>\n",
       "      <th>open</th>\n",
       "      <th>volume</th>\n",
       "    </tr>\n",
       "    <tr>\n",
       "      <th>date</th>\n",
       "      <th>code</th>\n",
       "      <th></th>\n",
       "      <th></th>\n",
       "      <th></th>\n",
       "      <th></th>\n",
       "      <th></th>\n",
       "      <th></th>\n",
       "    </tr>\n",
       "  </thead>\n",
       "  <tbody>\n",
       "    <tr>\n",
       "      <th>2018-09-30</th>\n",
       "      <th>399300</th>\n",
       "      <td>3438.87</td>\n",
       "      <td>3191.40</td>\n",
       "      <td>3448.26</td>\n",
       "      <td>1.622261e+12</td>\n",
       "      <td>3320.69</td>\n",
       "      <td>13296280.0</td>\n",
       "    </tr>\n",
       "    <tr>\n",
       "      <th>2018-10-31</th>\n",
       "      <th>399300</th>\n",
       "      <td>3153.82</td>\n",
       "      <td>3009.50</td>\n",
       "      <td>3364.46</td>\n",
       "      <td>1.941885e+12</td>\n",
       "      <td>3361.56</td>\n",
       "      <td>17417518.0</td>\n",
       "    </tr>\n",
       "    <tr>\n",
       "      <th>2018-11-30</th>\n",
       "      <th>399300</th>\n",
       "      <td>3172.69</td>\n",
       "      <td>3126.29</td>\n",
       "      <td>3294.60</td>\n",
       "      <td>2.226474e+12</td>\n",
       "      <td>3185.20</td>\n",
       "      <td>20860696.0</td>\n",
       "    </tr>\n",
       "    <tr>\n",
       "      <th>2018-12-31</th>\n",
       "      <th>399300</th>\n",
       "      <td>3010.65</td>\n",
       "      <td>2964.88</td>\n",
       "      <td>3273.64</td>\n",
       "      <td>1.620744e+12</td>\n",
       "      <td>3260.69</td>\n",
       "      <td>14270390.0</td>\n",
       "    </tr>\n",
       "    <tr>\n",
       "      <th>2019-01-31</th>\n",
       "      <th>399300</th>\n",
       "      <td>3168.17</td>\n",
       "      <td>2935.83</td>\n",
       "      <td>3171.69</td>\n",
       "      <td>1.173544e+12</td>\n",
       "      <td>3017.07</td>\n",
       "      <td>11138537.0</td>\n",
       "    </tr>\n",
       "  </tbody>\n",
       "</table>\n",
       "</div>"
      ],
      "text/plain": [
       "                     close      low     high        amount     open  \\\n",
       "date       code                                                       \n",
       "2018-09-30 399300  3438.87  3191.40  3448.26  1.622261e+12  3320.69   \n",
       "2018-10-31 399300  3153.82  3009.50  3364.46  1.941885e+12  3361.56   \n",
       "2018-11-30 399300  3172.69  3126.29  3294.60  2.226474e+12  3185.20   \n",
       "2018-12-31 399300  3010.65  2964.88  3273.64  1.620744e+12  3260.69   \n",
       "2019-01-31 399300  3168.17  2935.83  3171.69  1.173544e+12  3017.07   \n",
       "\n",
       "                       volume  \n",
       "date       code                \n",
       "2018-09-30 399300  13296280.0  \n",
       "2018-10-31 399300  17417518.0  \n",
       "2018-11-30 399300  20860696.0  \n",
       "2018-12-31 399300  14270390.0  \n",
       "2019-01-31 399300  11138537.0  "
      ]
     },
     "execution_count": 11,
     "metadata": {},
     "output_type": "execute_result"
    }
   ],
   "source": [
    "zs_data.month.tail()"
   ]
  },
  {
   "cell_type": "code",
   "execution_count": 12,
   "metadata": {},
   "outputs": [
    {
     "data": {
      "text/html": [
       "<div>\n",
       "<style scoped>\n",
       "    .dataframe tbody tr th:only-of-type {\n",
       "        vertical-align: middle;\n",
       "    }\n",
       "\n",
       "    .dataframe tbody tr th {\n",
       "        vertical-align: top;\n",
       "    }\n",
       "\n",
       "    .dataframe thead th {\n",
       "        text-align: right;\n",
       "    }\n",
       "</style>\n",
       "<table border=\"1\" class=\"dataframe\">\n",
       "  <thead>\n",
       "    <tr style=\"text-align: right;\">\n",
       "      <th></th>\n",
       "      <th></th>\n",
       "      <th>close</th>\n",
       "      <th>low</th>\n",
       "      <th>high</th>\n",
       "      <th>amount</th>\n",
       "      <th>open</th>\n",
       "      <th>volume</th>\n",
       "    </tr>\n",
       "    <tr>\n",
       "      <th>date</th>\n",
       "      <th>code</th>\n",
       "      <th></th>\n",
       "      <th></th>\n",
       "      <th></th>\n",
       "      <th></th>\n",
       "      <th></th>\n",
       "      <th></th>\n",
       "    </tr>\n",
       "  </thead>\n",
       "  <tbody>\n",
       "    <tr>\n",
       "      <th>2018-03-31</th>\n",
       "      <th>399300</th>\n",
       "      <td>3898.50</td>\n",
       "      <td>3759.15</td>\n",
       "      <td>4403.34</td>\n",
       "      <td>1.076545e+13</td>\n",
       "      <td>4045.21</td>\n",
       "      <td>81541576.0</td>\n",
       "    </tr>\n",
       "    <tr>\n",
       "      <th>2018-06-30</th>\n",
       "      <th>399300</th>\n",
       "      <td>3510.98</td>\n",
       "      <td>3416.95</td>\n",
       "      <td>3958.71</td>\n",
       "      <td>6.949604e+12</td>\n",
       "      <td>3897.01</td>\n",
       "      <td>50811222.0</td>\n",
       "    </tr>\n",
       "    <tr>\n",
       "      <th>2018-09-30</th>\n",
       "      <th>399300</th>\n",
       "      <td>3438.87</td>\n",
       "      <td>3191.40</td>\n",
       "      <td>3596.51</td>\n",
       "      <td>6.039305e+12</td>\n",
       "      <td>3504.46</td>\n",
       "      <td>49146760.0</td>\n",
       "    </tr>\n",
       "    <tr>\n",
       "      <th>2018-12-31</th>\n",
       "      <th>399300</th>\n",
       "      <td>3010.65</td>\n",
       "      <td>2964.88</td>\n",
       "      <td>3364.46</td>\n",
       "      <td>5.789104e+12</td>\n",
       "      <td>3361.56</td>\n",
       "      <td>52548604.0</td>\n",
       "    </tr>\n",
       "    <tr>\n",
       "      <th>2019-03-31</th>\n",
       "      <th>399300</th>\n",
       "      <td>3168.17</td>\n",
       "      <td>2935.83</td>\n",
       "      <td>3171.69</td>\n",
       "      <td>1.173544e+12</td>\n",
       "      <td>3017.07</td>\n",
       "      <td>11138537.0</td>\n",
       "    </tr>\n",
       "  </tbody>\n",
       "</table>\n",
       "</div>"
      ],
      "text/plain": [
       "                     close      low     high        amount     open  \\\n",
       "date       code                                                       \n",
       "2018-03-31 399300  3898.50  3759.15  4403.34  1.076545e+13  4045.21   \n",
       "2018-06-30 399300  3510.98  3416.95  3958.71  6.949604e+12  3897.01   \n",
       "2018-09-30 399300  3438.87  3191.40  3596.51  6.039305e+12  3504.46   \n",
       "2018-12-31 399300  3010.65  2964.88  3364.46  5.789104e+12  3361.56   \n",
       "2019-03-31 399300  3168.17  2935.83  3171.69  1.173544e+12  3017.07   \n",
       "\n",
       "                       volume  \n",
       "date       code                \n",
       "2018-03-31 399300  81541576.0  \n",
       "2018-06-30 399300  50811222.0  \n",
       "2018-09-30 399300  49146760.0  \n",
       "2018-12-31 399300  52548604.0  \n",
       "2019-03-31 399300  11138537.0  "
      ]
     },
     "execution_count": 12,
     "metadata": {},
     "output_type": "execute_result"
    }
   ],
   "source": [
    "zs_data.quarter.tail()"
   ]
  },
  {
   "cell_type": "code",
   "execution_count": 10,
   "metadata": {},
   "outputs": [
    {
     "data": {
      "text/html": [
       "<div>\n",
       "<style scoped>\n",
       "    .dataframe tbody tr th:only-of-type {\n",
       "        vertical-align: middle;\n",
       "    }\n",
       "\n",
       "    .dataframe tbody tr th {\n",
       "        vertical-align: top;\n",
       "    }\n",
       "\n",
       "    .dataframe thead th {\n",
       "        text-align: right;\n",
       "    }\n",
       "</style>\n",
       "<table border=\"1\" class=\"dataframe\">\n",
       "  <thead>\n",
       "    <tr style=\"text-align: right;\">\n",
       "      <th></th>\n",
       "      <th></th>\n",
       "      <th>close</th>\n",
       "      <th>low</th>\n",
       "      <th>high</th>\n",
       "      <th>amount</th>\n",
       "      <th>open</th>\n",
       "      <th>volume</th>\n",
       "    </tr>\n",
       "    <tr>\n",
       "      <th>date</th>\n",
       "      <th>code</th>\n",
       "      <th></th>\n",
       "      <th></th>\n",
       "      <th></th>\n",
       "      <th></th>\n",
       "      <th></th>\n",
       "      <th></th>\n",
       "    </tr>\n",
       "  </thead>\n",
       "  <tbody>\n",
       "    <tr>\n",
       "      <th>2015-12-31</th>\n",
       "      <th>399300</th>\n",
       "      <td>3731.00</td>\n",
       "      <td>2952.01</td>\n",
       "      <td>5380.43</td>\n",
       "      <td>9.560133e+13</td>\n",
       "      <td>3566.09</td>\n",
       "      <td>709439038.0</td>\n",
       "    </tr>\n",
       "    <tr>\n",
       "      <th>2016-12-31</th>\n",
       "      <th>399300</th>\n",
       "      <td>3310.08</td>\n",
       "      <td>2821.22</td>\n",
       "      <td>3726.25</td>\n",
       "      <td>2.825912e+13</td>\n",
       "      <td>3725.86</td>\n",
       "      <td>258954940.0</td>\n",
       "    </tr>\n",
       "    <tr>\n",
       "      <th>2017-12-31</th>\n",
       "      <th>399300</th>\n",
       "      <td>4030.86</td>\n",
       "      <td>3264.21</td>\n",
       "      <td>4260.64</td>\n",
       "      <td>3.156389e+13</td>\n",
       "      <td>3313.95</td>\n",
       "      <td>264923773.0</td>\n",
       "    </tr>\n",
       "    <tr>\n",
       "      <th>2018-12-31</th>\n",
       "      <th>399300</th>\n",
       "      <td>3010.65</td>\n",
       "      <td>2964.88</td>\n",
       "      <td>4403.34</td>\n",
       "      <td>2.954346e+13</td>\n",
       "      <td>4045.21</td>\n",
       "      <td>234048162.0</td>\n",
       "    </tr>\n",
       "    <tr>\n",
       "      <th>2019-12-31</th>\n",
       "      <th>399300</th>\n",
       "      <td>3168.17</td>\n",
       "      <td>2935.83</td>\n",
       "      <td>3171.69</td>\n",
       "      <td>1.173544e+12</td>\n",
       "      <td>3017.07</td>\n",
       "      <td>11138537.0</td>\n",
       "    </tr>\n",
       "  </tbody>\n",
       "</table>\n",
       "</div>"
      ],
      "text/plain": [
       "                     close      low     high        amount     open  \\\n",
       "date       code                                                       \n",
       "2015-12-31 399300  3731.00  2952.01  5380.43  9.560133e+13  3566.09   \n",
       "2016-12-31 399300  3310.08  2821.22  3726.25  2.825912e+13  3725.86   \n",
       "2017-12-31 399300  4030.86  3264.21  4260.64  3.156389e+13  3313.95   \n",
       "2018-12-31 399300  3010.65  2964.88  4403.34  2.954346e+13  4045.21   \n",
       "2019-12-31 399300  3168.17  2935.83  3171.69  1.173544e+12  3017.07   \n",
       "\n",
       "                        volume  \n",
       "date       code                 \n",
       "2015-12-31 399300  709439038.0  \n",
       "2016-12-31 399300  258954940.0  \n",
       "2017-12-31 399300  264923773.0  \n",
       "2018-12-31 399300  234048162.0  \n",
       "2019-12-31 399300   11138537.0  "
      ]
     },
     "execution_count": 10,
     "metadata": {},
     "output_type": "execute_result"
    }
   ],
   "source": [
    "zs_data.year.tail()"
   ]
  },
  {
   "cell_type": "code",
   "execution_count": 13,
   "metadata": {},
   "outputs": [
    {
     "data": {
      "text/plain": [
       "date        code  \n",
       "2019-01-14  399300    3097.41\n",
       "2019-01-15  399300    3129.37\n",
       "2019-01-16  399300    3135.01\n",
       "2019-01-17  399300    3141.71\n",
       "2019-01-18  399300    3171.69\n",
       "Name: high, dtype: float64"
      ]
     },
     "execution_count": 13,
     "metadata": {},
     "output_type": "execute_result"
    }
   ],
   "source": [
    "zs_data.high.tail()"
   ]
  },
  {
   "cell_type": "code",
   "execution_count": 14,
   "metadata": {},
   "outputs": [
    {
     "data": {
      "text/plain": [
       "date        code  \n",
       "2019-01-14  399300    3067.78\n",
       "2019-01-15  399300    3127.99\n",
       "2019-01-16  399300    3128.65\n",
       "2019-01-17  399300    3111.42\n",
       "2019-01-18  399300    3168.17\n",
       "Name: close, dtype: float64"
      ]
     },
     "execution_count": 14,
     "metadata": {},
     "output_type": "execute_result"
    }
   ],
   "source": [
    "zs_data.close.tail()"
   ]
  },
  {
   "cell_type": "code",
   "execution_count": 15,
   "metadata": {},
   "outputs": [
    {
     "data": {
      "text/plain": [
       "date        code  \n",
       "2019-01-14  399300    3092.50\n",
       "2019-01-15  399300    3071.52\n",
       "2019-01-16  399300    3126.13\n",
       "2019-01-17  399300    3132.63\n",
       "2019-01-18  399300    3124.50\n",
       "Name: open, dtype: float64"
      ]
     },
     "execution_count": 15,
     "metadata": {},
     "output_type": "execute_result"
    }
   ],
   "source": [
    "zs_data.open.tail()"
   ]
  },
  {
   "cell_type": "code",
   "execution_count": 16,
   "metadata": {},
   "outputs": [
    {
     "data": {
      "text/plain": [
       "date        code  \n",
       "2019-01-14  399300    3064.38\n",
       "2019-01-15  399300    3064.67\n",
       "2019-01-16  399300    3117.29\n",
       "2019-01-17  399300    3110.06\n",
       "2019-01-18  399300    3120.35\n",
       "Name: low, dtype: float64"
      ]
     },
     "execution_count": 16,
     "metadata": {},
     "output_type": "execute_result"
    }
   ],
   "source": [
    "zs_data.low.tail()"
   ]
  },
  {
   "cell_type": "code",
   "execution_count": 17,
   "metadata": {},
   "outputs": [
    {
     "data": {
      "text/plain": [
       "date        code  \n",
       "2019-01-14  399300     661217.0\n",
       "2019-01-15  399300     887729.0\n",
       "2019-01-16  399300     802143.0\n",
       "2019-01-17  399300     801748.0\n",
       "2019-01-18  399300    1039638.0\n",
       "Name: volume, dtype: float64"
      ]
     },
     "execution_count": 17,
     "metadata": {},
     "output_type": "execute_result"
    }
   ],
   "source": [
    "zs_data.volume.tail()"
   ]
  },
  {
   "cell_type": "code",
   "execution_count": 18,
   "metadata": {},
   "outputs": [
    {
     "data": {
      "text/plain": [
       "date        code  \n",
       "2019-01-14  399300    6.811597e+10\n",
       "2019-01-15  399300    9.997689e+10\n",
       "2019-01-16  399300    8.578159e+10\n",
       "2019-01-17  399300    8.288820e+10\n",
       "2019-01-18  399300    1.067807e+11\n",
       "Name: amount, dtype: float64"
      ]
     },
     "execution_count": 18,
     "metadata": {},
     "output_type": "execute_result"
    }
   ],
   "source": [
    "zs_data.amount.tail()"
   ]
  },
  {
   "cell_type": "markdown",
   "metadata": {},
   "source": [
    "#### 开盘 收盘 最高 最低 的 平均价"
   ]
  },
  {
   "cell_type": "code",
   "execution_count": 19,
   "metadata": {},
   "outputs": [
    {
     "data": {
      "text/plain": [
       "date        code  \n",
       "2019-01-14  399300    3080.5175\n",
       "2019-01-15  399300    3098.3875\n",
       "2019-01-16  399300    3126.7700\n",
       "2019-01-17  399300    3123.9550\n",
       "2019-01-18  399300    3146.1775\n",
       "Name: price, dtype: float64"
      ]
     },
     "execution_count": 19,
     "metadata": {},
     "output_type": "execute_result"
    }
   ],
   "source": [
    "zs_data.price.tail()"
   ]
  },
  {
   "cell_type": "markdown",
   "metadata": {},
   "source": [
    "#### 交易日期"
   ]
  },
  {
   "cell_type": "code",
   "execution_count": 21,
   "metadata": {},
   "outputs": [
    {
     "data": {
      "text/plain": [
       "DatetimeIndex(['2005-04-08', '2005-04-11', '2005-04-12', '2005-04-13',\n",
       "               '2005-04-14', '2005-04-15', '2005-04-18', '2005-04-19',\n",
       "               '2005-04-20', '2005-04-21',\n",
       "               ...\n",
       "               '2019-01-07', '2019-01-08', '2019-01-09', '2019-01-10',\n",
       "               '2019-01-11', '2019-01-14', '2019-01-15', '2019-01-16',\n",
       "               '2019-01-17', '2019-01-18'],\n",
       "              dtype='datetime64[ns]', name='date', length=3354, freq=None)"
      ]
     },
     "execution_count": 21,
     "metadata": {},
     "output_type": "execute_result"
    }
   ],
   "source": [
    "zs_data.date"
   ]
  },
  {
   "cell_type": "markdown",
   "metadata": {},
   "source": [
    "#### \n",
    "`amount/volume`"
   ]
  },
  {
   "cell_type": "code",
   "execution_count": 22,
   "metadata": {},
   "outputs": [
    {
     "data": {
      "text/plain": [
       "date        code  \n",
       "2019-01-14  399300    103016.056756\n",
       "2019-01-15  399300    112620.955629\n",
       "2019-01-16  399300    106940.525707\n",
       "2019-01-17  399300    103384.360532\n",
       "2019-01-18  399300    102709.458115\n",
       "Name: avg, dtype: float64"
      ]
     },
     "execution_count": 22,
     "metadata": {},
     "output_type": "execute_result"
    }
   ],
   "source": [
    "zs_data.avg.tail()"
   ]
  },
  {
   "cell_type": "code",
   "execution_count": 27,
   "metadata": {},
   "outputs": [
    {
     "data": {
      "text/plain": [
       "date        code  \n",
       "2005-04-08  399300         NaN\n",
       "2005-04-11  399300    0.007418\n",
       "2005-04-12  399300   -0.014117\n",
       "2005-04-13  399300    0.009883\n",
       "2005-04-14  399300    0.000078\n",
       "2005-04-15  399300   -0.018169\n",
       "2005-04-18  399300   -0.012014\n",
       "2005-04-19  399300   -0.002238\n",
       "2005-04-20  399300   -0.007838\n",
       "2005-04-21  399300   -0.010036\n",
       "2005-04-22  399300   -0.005836\n",
       "2005-04-25  399300   -0.011334\n",
       "2005-04-26  399300    0.002058\n",
       "2005-04-27  399300    0.000029\n",
       "2005-04-28  399300   -0.001086\n",
       "2005-04-29  399300    0.005244\n",
       "2005-05-09  399300   -0.014708\n",
       "2005-05-10  399300   -0.017901\n",
       "2005-05-11  399300    0.001940\n",
       "2005-05-12  399300   -0.017071\n",
       "2005-05-13  399300   -0.006786\n",
       "2005-05-16  399300   -0.008395\n",
       "2005-05-17  399300   -0.001237\n",
       "2005-05-18  399300    0.004423\n",
       "2005-05-19  399300   -0.000068\n",
       "2005-05-20  399300    0.002878\n",
       "2005-05-23  399300   -0.014271\n",
       "2005-05-24  399300   -0.008313\n",
       "2005-05-25  399300    0.004932\n",
       "2005-05-26  399300   -0.006097\n",
       "                        ...   \n",
       "2018-12-06  399300   -0.012339\n",
       "2018-12-07  399300   -0.004968\n",
       "2018-12-10  399300   -0.010736\n",
       "2018-12-11  399300    0.000858\n",
       "2018-12-12  399300    0.006426\n",
       "2018-12-13  399300    0.008461\n",
       "2018-12-14  399300   -0.004077\n",
       "2018-12-17  399300   -0.010081\n",
       "2018-12-18  399300   -0.005824\n",
       "2018-12-19  399300   -0.007907\n",
       "2018-12-20  399300   -0.012505\n",
       "2018-12-21  399300   -0.011651\n",
       "2018-12-24  399300   -0.003980\n",
       "2018-12-25  399300   -0.006793\n",
       "2018-12-26  399300    0.001769\n",
       "2018-12-27  399300    0.002556\n",
       "2018-12-28  399300   -0.004688\n",
       "2019-01-02  399300   -0.004223\n",
       "2019-01-03  399300   -0.006881\n",
       "2019-01-04  399300    0.005651\n",
       "2019-01-07  399300    0.021627\n",
       "2019-01-08  399300   -0.001270\n",
       "2019-01-09  399300    0.010902\n",
       "2019-01-10  399300   -0.001561\n",
       "2019-01-11  399300    0.003707\n",
       "2019-01-14  399300   -0.002334\n",
       "2019-01-15  399300    0.005801\n",
       "2019-01-16  399300    0.009160\n",
       "2019-01-17  399300   -0.000900\n",
       "2019-01-18  399300    0.007114\n",
       "Name: pct_change, Length: 3354, dtype: float64"
      ]
     },
     "execution_count": 27,
     "metadata": {},
     "output_type": "execute_result"
    }
   ],
   "source": [
    "zs_data.pct_change"
   ]
  },
  {
   "cell_type": "code",
   "execution_count": 25,
   "metadata": {},
   "outputs": [
    {
     "data": {
      "text/plain": [
       "code\n",
       "399300    816.6025\n",
       "Name: min, dtype: float64"
      ]
     },
     "execution_count": 25,
     "metadata": {},
     "output_type": "execute_result"
    }
   ],
   "source": [
    "zs_data.min"
   ]
  },
  {
   "cell_type": "code",
   "execution_count": null,
   "metadata": {},
   "outputs": [],
   "source": []
  }
 ],
 "metadata": {
  "kernelspec": {
   "display_name": "finance_py_35",
   "language": "python",
   "name": "finance35"
  },
  "language_info": {
   "codemirror_mode": {
    "name": "ipython",
    "version": 3
   },
   "file_extension": ".py",
   "mimetype": "text/x-python",
   "name": "python",
   "nbconvert_exporter": "python",
   "pygments_lexer": "ipython3",
   "version": "3.5.5"
  }
 },
 "nbformat": 4,
 "nbformat_minor": 2
}
