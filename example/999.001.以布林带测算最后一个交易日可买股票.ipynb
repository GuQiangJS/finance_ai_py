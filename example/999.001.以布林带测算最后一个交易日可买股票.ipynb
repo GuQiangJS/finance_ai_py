{
 "cells": [
  {
   "cell_type": "markdown",
   "metadata": {
    "hide_input": true
   },
   "source": [
    "# 以布林带测算最后一个交易日可买股票"
   ]
  },
  {
   "cell_type": "code",
   "execution_count": 1,
   "metadata": {
    "ExecuteTime": {
     "end_time": "2019-01-25T07:12:35.636875Z",
     "start_time": "2019-01-25T07:12:35.630877Z"
    }
   },
   "outputs": [],
   "source": [
    "import warnings\n",
    "warnings.filterwarnings('ignore')\n",
    "\n",
    "from datetime import date\n",
    "import pyfolio as pf\n",
    "import pandas as pd\n",
    "import talib\n",
    "from QUANTAXIS import QA_fetch_stock_day_adv\n",
    "from QUANTAXIS import QA_fetch_stock_list_adv\n",
    "from QUANTAXIS import QA_fetch_index_day_adv"
   ]
  },
  {
   "cell_type": "code",
   "execution_count": 2,
   "metadata": {
    "ExecuteTime": {
     "end_time": "2019-01-25T07:12:36.993931Z",
     "start_time": "2019-01-25T07:12:36.986879Z"
    }
   },
   "outputs": [],
   "source": [
    "#设定绘图的默认大小\n",
    "import matplotlib\n",
    "matplotlib.rcParams[\"figure.figsize\"]=[16,5]\n",
    "\n",
    "#加载 seaborn，并且设置默认使用 seaborn\n",
    "import seaborn as sns\n",
    "sns.set()\n",
    "\n",
    "matplotlib.rcParams['font.family'] = 'sans-serif'\n",
    "matplotlib.rcParams['font.sans-serif'] = ['Noto Sans CJK SC','SimHei']\n",
    "matplotlib.rcParams['axes.unicode_minus']=False #用来正常显示负号\n",
    "\n",
    "from IPython.core.interactiveshell import InteractiveShell\n",
    "InteractiveShell.ast_node_interactivity = \"all\" "
   ]
  },
  {
   "cell_type": "code",
   "execution_count": 3,
   "metadata": {
    "ExecuteTime": {
     "end_time": "2019-01-25T07:12:39.102789Z",
     "start_time": "2019-01-25T07:12:39.098748Z"
    }
   },
   "outputs": [],
   "source": [
    "# import logging\n",
    "# import sys\n",
    "\n",
    "# # Create logger\n",
    "# logger = logging.getLogger()\n",
    "# logger.setLevel(logging.Info)\n",
    "\n",
    "# # Create STDERR handler\n",
    "# handler = logging.StreamHandler(sys.stderr)\n",
    "# # ch.setLevel(logging.DEBUG)\n",
    "\n",
    "# # # Create formatter and add it to the handler\n",
    "# # formatter = logging.Formatter('%(name)s - %(levelname)s - %(message)s')\n",
    "# # handler.setFormatter(formatter)\n",
    "\n",
    "# # Set STDERR handler as the only handler \n",
    "# logger.handlers = [handler]"
   ]
  },
  {
   "cell_type": "code",
   "execution_count": 4,
   "metadata": {
    "ExecuteTime": {
     "end_time": "2019-01-25T07:12:40.401116Z",
     "start_time": "2019-01-25T07:12:40.390106Z"
    },
    "code_folding": [
     0
    ]
   },
   "outputs": [],
   "source": [
    "def _format_date(date_value: date, fmt='%Y-%m-%d'):\n",
    "    # pylint: disable=C0301\n",
    "    \"\"\"格式化输出日期类型数据\n",
    "\n",
    "\n",
    "    Args:\n",
    "        date_value:\n",
    "        fmt: 格式化字符串。\n",
    "            参考：https://docs.python.org/zh-cn/3.7/library/datetime.html#strftime-and-strptime-behavior\n",
    "\n",
    "    Returns:\n",
    "\n",
    "    \"\"\"\n",
    "    return date_value.strftime(fmt)\n",
    "\n",
    "\n",
    "def _calc_bbands_cross(s: pd.Series,\n",
    "                       ma_type: talib.MA_Type,\n",
    "                       timeperiod=5,\n",
    "                       nbdevup=2,\n",
    "                       nbdevdn=2):\n",
    "    \"\"\"计算穿越布林带的数据\n",
    "\n",
    "    Args:\n",
    "        timeperiod: 时间段\n",
    "        nbdevup: 上轨与平均值无偏差的标准差的数量\n",
    "        nbdevdn: 下轨与平均值无偏差的标准差的数量\n",
    "        s: 原始值\n",
    "        ma_type:\n",
    "\n",
    "    Returns:\n",
    "        [低于下轨的`pd.Series`，超过上轨的`pd.Series`]\n",
    "\n",
    "    \"\"\"\n",
    "    upper, middle, lower = talib.BBANDS(\n",
    "        s,\n",
    "        matype=ma_type,\n",
    "        timeperiod=timeperiod,\n",
    "        nbdevup=nbdevup,\n",
    "        nbdevdn=nbdevdn)\n",
    "    return s[lower > s], s[upper < s]\n",
    "\n",
    "def _calc_daily_return(s:pd.Series):\n",
    "    return (s / s.shift(1) - 1)[1:]\n",
    "\n",
    "def _split_daily_return_to_year(s:pd.Series)->pd.DataFrame:\n",
    "    \"\"\"将日收益拆分成包含年份数据的DataFrame\"\"\"\n",
    "    df=pd.DataFrame(s)\n",
    "    \n",
    "def _test_index(code,start='2018-01-01',end='2018-12-31'):\n",
    "    \"\"\"测试指数数据是否在本地能读取到\n",
    "    \n",
    "    Return:\n",
    "        如果数据读取正常，则返回True，否则返回False\n",
    "    \"\"\"\n",
    "    return not QA_fetch_index_day_adv(code,start,end).data.empty\n",
    "\n",
    "def _get_zs_code():\n",
    "    \"\"\"获取示例时的指数（沪深300）代码，返回000300或者399300\"\"\"\n",
    "\n",
    "    ZS_CODE=['399300','000300']#指数代码。沪深300\n",
    "    for z in ZS_CODE:\n",
    "        if _test_index(z):\n",
    "            return z\n",
    "    if not isinstance(ZS_CODE, str):\n",
    "        raise AssertionError"
   ]
  },
  {
   "cell_type": "code",
   "execution_count": 5,
   "metadata": {
    "ExecuteTime": {
     "end_time": "2019-01-25T08:07:37.987461Z",
     "start_time": "2019-01-25T08:07:37.904456Z"
    }
   },
   "outputs": [
    {
     "data": {
      "text/plain": [
       "'获取本地股票列表'"
      ]
     },
     "execution_count": 5,
     "metadata": {},
     "output_type": "execute_result"
    },
    {
     "data": {
      "text/plain": [
       "'开始日期:1991-01-01'"
      ]
     },
     "execution_count": 5,
     "metadata": {},
     "output_type": "execute_result"
    },
    {
     "data": {
      "text/plain": [
       "'结束日期:2019-01-26'"
      ]
     },
     "execution_count": 5,
     "metadata": {},
     "output_type": "execute_result"
    },
    {
     "data": {
      "text/plain": [
       "'指数代码:399300'"
      ]
     },
     "execution_count": 5,
     "metadata": {},
     "output_type": "execute_result"
    },
    {
     "data": {
      "text/plain": [
       "'今天:2019-01-26'"
      ]
     },
     "execution_count": 5,
     "metadata": {},
     "output_type": "execute_result"
    },
    {
     "data": {
      "text/plain": [
       "'今天:26'"
      ]
     },
     "execution_count": 5,
     "metadata": {},
     "output_type": "execute_result"
    },
    {
     "data": {
      "text/plain": [
       "'今年:2019'"
      ]
     },
     "execution_count": 5,
     "metadata": {},
     "output_type": "execute_result"
    },
    {
     "data": {
      "text/plain": [
       "'当月:1'"
      ]
     },
     "execution_count": 5,
     "metadata": {},
     "output_type": "execute_result"
    }
   ],
   "source": [
    "'获取本地股票列表'\n",
    "lst = QA_fetch_stock_list_adv()\n",
    "\n",
    "start_date=date(1991,1,1)\n",
    "start_str = _format_date(start_date)\n",
    "'开始日期:{0}'.format(start_str)\n",
    "end_str = _format_date(date.today())\n",
    "'结束日期:{0}'.format(end_str)\n",
    "\n",
    "zs_code=_get_zs_code()\n",
    "'指数代码:{0}'.format(zs_code)\n",
    "\n",
    "cur_month=date.today().month\n",
    "cur_year=date.today().year\n",
    "cur_day=date.today().day\n",
    "\n",
    "'今天:{0}'.format(date.today())\n",
    "'今天:{0}'.format(cur_day)\n",
    "'今年:{0}'.format(cur_year)\n",
    "'当月:{0}'.format(cur_month)\n",
    "\n",
    "\n",
    "\n",
    "# logging.debug('获取到所有列表的QADataStruct格式的股票日线数据')\n",
    "# data = QA_fetch_stock_day_adv(lst['code'].tolist(), start_str, end_str)"
   ]
  },
  {
   "cell_type": "markdown",
   "metadata": {},
   "source": [
    "##### 复权计算的意义\n",
    "\n",
    "https://www.zhihu.com/question/31004373\n",
    "\n",
    "> 前复权的意义是为了【技术指标】的连续性， 后复权的意义是为了【股价走势】的连续性， 不复权的意义是最直观的显示股价除权除息后【填权】还是【贴权】的走势。"
   ]
  },
  {
   "cell_type": "code",
   "execution_count": 6,
   "metadata": {
    "ExecuteTime": {
     "end_time": "2019-01-25T07:14:37.964013Z",
     "start_time": "2019-01-25T07:14:37.954055Z"
    }
   },
   "outputs": [],
   "source": [
    "from QUANTAXIS.QAData import QA_DataStruct_Stock_day\n",
    "\n",
    "def _trans_daily_include_date(data):\n",
    "    \"\"\"取data中的close，并增加year，month信息，组合成一个新的DataFrame\"\"\"\n",
    "    return pd.DataFrame({'close':data.close,'year':data.datetime.year,'month':data.datetime.month})\n",
    "\n",
    "def _trans_daily(data):\n",
    "    \"\"\"\n",
    "    \n",
    "    Args:\n",
    "        data: 不复权的日线数据\n",
    "        \n",
    "    Returns:\n",
    "        [不复权日线,前复权日线,后复权日线,增加了年份和月份列的前复权日线]\n",
    "    \"\"\"\n",
    "    \n",
    "    if not isinstance(data,QA_DataStruct_Stock_day):\n",
    "        return data,pd.DataFrame.empty,pd.DataFrame.empty,_trans_daily_include_date(data)\n",
    "    data_qfq=data.to_qfq()#前复权\n",
    "    data_hfq=data.to_hfq()#后复权\n",
    "    '日收盘价(不复权)'\n",
    "    data_bfq.close.tail()\n",
    "    '日收盘价(前复权)'\n",
    "    data_qfq.close.tail()\n",
    "    '日收盘价(后复权)'\n",
    "    data_hfq.close.tail()\n",
    "    '日收益（前复权）'\n",
    "    daily_return_qfq=_calc_daily_return(data_qfq.close)\n",
    "    daily_return_qfq.tail()\n",
    "    '增加包含年度信息的前复权日收盘价 DataFrame'\n",
    "    df=_trans_daily_include_date(data_qfq)\n",
    "    df.tail()\n",
    "    return data,data_qfq,data_hfq,df"
   ]
  },
  {
   "cell_type": "markdown",
   "metadata": {},
   "source": [
    "### 指数日收益数据"
   ]
  },
  {
   "cell_type": "code",
   "execution_count": 7,
   "metadata": {
    "ExecuteTime": {
     "end_time": "2019-01-25T07:36:50.542279Z",
     "start_time": "2019-01-25T07:36:50.480251Z"
    }
   },
   "outputs": [],
   "source": [
    "zs_data=QA_fetch_index_day_adv(zs_code,start_str,end_str)#不复权的价格\n",
    "zs_daily,zs_daily_qfq,zs_daily_hfq,zs_daily_date=_trans_daily(zs_data)"
   ]
  },
  {
   "cell_type": "code",
   "execution_count": 8,
   "metadata": {
    "ExecuteTime": {
     "end_time": "2019-01-25T08:08:00.435040Z",
     "start_time": "2019-01-25T08:08:00.427035Z"
    }
   },
   "outputs": [
    {
     "data": {
      "text/plain": [
       "'根据指数开始日期调整数据获取日期'"
      ]
     },
     "execution_count": 8,
     "metadata": {},
     "output_type": "execute_result"
    },
    {
     "data": {
      "text/plain": [
       "'开始日期:2005-04-08'"
      ]
     },
     "execution_count": 8,
     "metadata": {},
     "output_type": "execute_result"
    }
   ],
   "source": [
    "'根据指数开始日期调整数据获取日期'\n",
    "start_date=zs_data.data.index.levels[0][0]\n",
    "start_str = _format_date(start_date)\n",
    "'开始日期:{0}'.format(start_str)"
   ]
  },
  {
   "cell_type": "code",
   "execution_count": 26,
   "metadata": {
    "ExecuteTime": {
     "end_time": "2019-01-25T07:38:11.120599Z",
     "start_time": "2019-01-25T07:38:10.739540Z"
    }
   },
   "outputs": [],
   "source": [
    "symbol=lst['code'][0]\n",
    "data_bfq=QA_fetch_stock_day_adv(symbol,start_str,end_str)#不复权的价格\n",
    "data,data_qfq,data_hfq,df=_trans_daily(data_bfq)\n",
    "data_qfq_daily_return=_calc_daily_return(data_qfq.close)#单支股票前复权后的日回报数据\n",
    "zs_data_daily_return=_calc_daily_return(zs_data.close)#指数日回报数据\n",
    "\n",
    "data_qfq_daily_return_remove_code_year=data_qfq_daily_return_remove_code[data_qfq_daily_return_remove_code.index.year==year]#当年股票日收益（前复权）\n",
    "zs_daily_return_remove_code_year=zs_daily_return_remove_code[zs_daily_return_remove_code.index.year==year]#当年指数日收益"
   ]
  },
  {
   "cell_type": "code",
   "execution_count": 10,
   "metadata": {
    "ExecuteTime": {
     "end_time": "2019-01-25T08:05:11.604677Z",
     "start_time": "2019-01-25T08:05:11.522678Z"
    }
   },
   "outputs": [
    {
     "data": {
      "text/plain": [
       "date        code  \n",
       "2019-01-14  000001   -0.008824\n",
       "2019-01-15  000001    0.012859\n",
       "2019-01-16  000001    0.023438\n",
       "2019-01-17  000001   -0.021947\n",
       "2019-01-18  000001    0.017561\n",
       "Name: close, dtype: float64"
      ]
     },
     "execution_count": 10,
     "metadata": {},
     "output_type": "execute_result"
    },
    {
     "data": {
      "text/plain": [
       "date        code  \n",
       "2019-01-14  399300   -0.008724\n",
       "2019-01-15  399300    0.019627\n",
       "2019-01-16  399300    0.000211\n",
       "2019-01-17  399300   -0.005507\n",
       "2019-01-18  399300    0.018239\n",
       "Name: close, dtype: float64"
      ]
     },
     "execution_count": 10,
     "metadata": {},
     "output_type": "execute_result"
    }
   ],
   "source": [
    "data_qfq_daily_return.tail()\n",
    "zs_data_daily_return.tail()"
   ]
  },
  {
   "cell_type": "markdown",
   "metadata": {},
   "source": [
    "##### Alpha\n",
    "\n",
    "投資中面臨着系統性風險（即Beta）和非系統性風險（即Alpha），Alpha是投資者獲得與市場波動無關的回報。比如投資者獲得了15%的回報，其基準獲得了10%的回報，那麼Alpha或者價值增值的部分就是5%。"
   ]
  },
  {
   "cell_type": "code",
   "execution_count": 11,
   "metadata": {
    "ExecuteTime": {
     "end_time": "2019-01-25T08:05:18.957068Z",
     "start_time": "2019-01-25T08:05:18.937034Z"
    }
   },
   "outputs": [
    {
     "data": {
      "text/plain": [
       "'相对于 399300 的 Alpha:0.11653899014333133'"
      ]
     },
     "execution_count": 11,
     "metadata": {},
     "output_type": "execute_result"
    }
   ],
   "source": [
    "'相对于 {0} 的 Alpha:{1}'.format(zs_code,pf.timeseries.alpha(data_qfq_daily_return.reset_index().drop(columns=['code']).set_index('date'),zs_data_daily_return.reset_index().drop(columns=['code']).set_index('date')))"
   ]
  },
  {
   "cell_type": "markdown",
   "metadata": {},
   "source": [
    "##### Beta\n",
    "\n",
    "表示投資的系統性風險，反映了策略對大盤變化的敏感性。例如一個策略的Beta為1.5，則大盤漲1%的時候，策略可能漲1.5%，反之亦然；如果一個策略的Beta為-1.5，説明大盤漲1%的時候，策略可能跌1.5%，反之亦然。"
   ]
  },
  {
   "cell_type": "code",
   "execution_count": 12,
   "metadata": {
    "ExecuteTime": {
     "end_time": "2019-01-25T08:05:46.385956Z",
     "start_time": "2019-01-25T08:05:46.366930Z"
    }
   },
   "outputs": [
    {
     "data": {
      "text/plain": [
       "'相对于 399300 的 Beta:1.088923230540105'"
      ]
     },
     "execution_count": 12,
     "metadata": {},
     "output_type": "execute_result"
    }
   ],
   "source": [
    "'相对于 {0} 的 Beta:{1}'.format(zs_code,pf.timeseries.beta(data_qfq_daily_return.reset_index().drop(columns=['code']).set_index('date'),zs_data_daily_return.reset_index().drop(columns=['code']).set_index('date')))"
   ]
  },
  {
   "cell_type": "markdown",
   "metadata": {},
   "source": [
    "##### SharpeRatio\n",
    "\n",
    "核心思想：理性的投資者將選擇並持有有效的投資組合.\n",
    "\n",
    "公式意義：夏普指數代表投資人每多承擔一分風險，可以拿到幾分收益；若為正值，代表基金收益率高過波動風險；若為負值，代表基金操作風險大過於收益率。每個投資組合都可以計算Sharpe ratio，即投資回報與多冒風險的比例，這個比例越高，投資組合越佳。"
   ]
  },
  {
   "cell_type": "code",
   "execution_count": 13,
   "metadata": {
    "ExecuteTime": {
     "end_time": "2019-01-25T07:38:16.054391Z",
     "start_time": "2019-01-25T07:38:16.049387Z"
    }
   },
   "outputs": [
    {
     "data": {
      "text/plain": [
       "'无风险回报为 0 时的 SharpeRatio:0.5645160197056907'"
      ]
     },
     "execution_count": 13,
     "metadata": {},
     "output_type": "execute_result"
    }
   ],
   "source": [
    "risk_free =0\n",
    "'无风险回报为 {1} 时的 SharpeRatio:{0}'.format(pf.timeseries.sharpe_ratio(data_qfq_daily_return,risk_free),risk_free)"
   ]
  },
  {
   "cell_type": "markdown",
   "metadata": {},
   "source": [
    "##### Omega比率\n",
    "\n",
    "介紹： Omega函數是用來分析收益分佈的一種方法，它是一種天然的業績指標。基於Omega的分析是在下跌，下偏矩和損益文獻的精神上進行的。Omega函數捕捉到在收益分佈上的所有高階矩信息並且影響收益水平的敏感性。\n",
    "\n",
    "公式意義：Omega越高越好，它是對偏度和峯值的一個調整。"
   ]
  },
  {
   "cell_type": "code",
   "execution_count": 14,
   "metadata": {
    "ExecuteTime": {
     "end_time": "2019-01-25T08:22:52.686903Z",
     "start_time": "2019-01-25T08:22:52.673902Z"
    }
   },
   "outputs": [
    {
     "data": {
      "text/plain": [
       "1.1094924055188786"
      ]
     },
     "execution_count": 14,
     "metadata": {},
     "output_type": "execute_result"
    }
   ],
   "source": [
    "pf.timeseries.omega_ratio(data_qfq_daily_return,risk_free)"
   ]
  },
  {
   "cell_type": "markdown",
   "metadata": {},
   "source": [
    "##### sortino比率\n",
    "\n",
    "介紹： Sortino ratio是一個能夠評價投資資產、組合或者策略收益的指標。它是夏普比率的修正，它只對收益低於某個值的波動性進行衡量，這個值可能是持有者規定的目標收益或者是要求收益，而夏普比率是同時對上漲的和下降的波動進行衡量。儘管這兩個比率都衡量的是一個調整後的投資風險，但它們的意義卻不同，這導致投資的收益的結果不同。\n",
    "\n",
    "核心思想： 公式及其解釋:R是資產或組合的預期收益，T是投資策略的目標或要求的收益，起源於最小可接受收益。DR是目標方差的平方根。也就是二階低偏矩。 Sharpe and Omega-Sharpe ratio的一個自然擴展就是由Sortino在1991年提出的，他使用的是downside risk作為分母，downside risk就是二階下偏矩。 總風險用下降風險所代替，因為投資組合經理不會被上漲的變化而懲罰，但會被低於最小目標收益的變化而懲罰。 用下降標準差而不是總標準差，以區別不利和有利的波動。"
   ]
  },
  {
   "cell_type": "code",
   "execution_count": 15,
   "metadata": {
    "ExecuteTime": {
     "end_time": "2019-01-25T08:24:18.442792Z",
     "start_time": "2019-01-25T08:24:18.436799Z"
    }
   },
   "outputs": [
    {
     "data": {
      "text/plain": [
       "0.8597003036856221"
      ]
     },
     "execution_count": 15,
     "metadata": {},
     "output_type": "execute_result"
    }
   ],
   "source": [
    "pf.timeseries.sortino_ratio(data_qfq_daily_return)"
   ]
  },
  {
   "cell_type": "markdown",
   "metadata": {},
   "source": [
    "##### 下降風險"
   ]
  },
  {
   "cell_type": "code",
   "execution_count": 16,
   "metadata": {
    "ExecuteTime": {
     "end_time": "2019-01-25T08:25:22.427981Z",
     "start_time": "2019-01-25T08:25:22.420940Z"
    }
   },
   "outputs": [
    {
     "data": {
      "text/plain": [
       "0.2723308537414362"
      ]
     },
     "execution_count": 16,
     "metadata": {},
     "output_type": "execute_result"
    }
   ],
   "source": [
    "pf.timeseries.downside_risk(data_qfq_daily_return)"
   ]
  },
  {
   "cell_type": "markdown",
   "metadata": {},
   "source": [
    "##### tail_ratio"
   ]
  },
  {
   "cell_type": "code",
   "execution_count": 17,
   "metadata": {
    "ExecuteTime": {
     "end_time": "2019-01-25T07:38:18.110891Z",
     "start_time": "2019-01-25T07:38:18.103864Z"
    }
   },
   "outputs": [
    {
     "data": {
      "text/plain": [
       "1.21556579289983"
      ]
     },
     "execution_count": 17,
     "metadata": {},
     "output_type": "execute_result"
    }
   ],
   "source": [
    "pf.timeseries.tail_ratio(data_qfq_daily_return)"
   ]
  },
  {
   "cell_type": "markdown",
   "metadata": {},
   "source": [
    "##### 信息比率(Information Ratio)\n",
    "\n",
    "信息比率主要是用來衡量某一投資組合優於一個特定指數的風險調整超額報酬，或者説是用來衡量超額風險所帶來的超額收益。它表示單位主動風險所帶來的超額收益。\n",
    "\n",
    "Information Ratio = α∕ω (α為組合的超額收益，ω為主動風險)\n",
    "\n",
    "計算信息比率時，可以將基金報酬率減去同類基金或者是大盤報酬率(剩下的值為超額報酬)，再除以該超額報酬的標準差。信息比率越高，該基金表現持續優於大盤的程度越高。"
   ]
  },
  {
   "cell_type": "code",
   "execution_count": 18,
   "metadata": {
    "ExecuteTime": {
     "end_time": "2019-01-25T08:30:56.093258Z",
     "start_time": "2019-01-25T08:30:56.089257Z"
    }
   },
   "outputs": [],
   "source": [
    "# from empyrical import information_ratio\n",
    "# [Remove Information Ratio #41](https://github.com/quantopian/empyrical/issues/41)\n",
    "# information_ratio(data_qfq_daily_return.reset_index().drop(columns=['code']).set_index('date'),zs_data_daily_return.reset_index().drop(columns=['code']).set_index('date'))"
   ]
  },
  {
   "cell_type": "markdown",
   "metadata": {},
   "source": [
    "##### 年均回报"
   ]
  },
  {
   "cell_type": "code",
   "execution_count": 19,
   "metadata": {
    "ExecuteTime": {
     "end_time": "2019-01-25T07:38:20.015070Z",
     "start_time": "2019-01-25T07:38:19.985072Z"
    }
   },
   "outputs": [
    {
     "data": {
      "text/html": [
       "<div>\n",
       "<style scoped>\n",
       "    .dataframe tbody tr th:only-of-type {\n",
       "        vertical-align: middle;\n",
       "    }\n",
       "\n",
       "    .dataframe tbody tr th {\n",
       "        vertical-align: top;\n",
       "    }\n",
       "\n",
       "    .dataframe thead th {\n",
       "        text-align: right;\n",
       "    }\n",
       "</style>\n",
       "<table border=\"1\" class=\"dataframe\">\n",
       "  <thead>\n",
       "    <tr style=\"text-align: right;\">\n",
       "      <th></th>\n",
       "      <th>close</th>\n",
       "    </tr>\n",
       "  </thead>\n",
       "  <tbody>\n",
       "    <tr>\n",
       "      <th>2015</th>\n",
       "      <td>-0.083614</td>\n",
       "    </tr>\n",
       "    <tr>\n",
       "      <th>2016</th>\n",
       "      <td>-0.075695</td>\n",
       "    </tr>\n",
       "    <tr>\n",
       "      <th>2017</th>\n",
       "      <td>0.482896</td>\n",
       "    </tr>\n",
       "    <tr>\n",
       "      <th>2018</th>\n",
       "      <td>-0.283641</td>\n",
       "    </tr>\n",
       "    <tr>\n",
       "      <th>2019</th>\n",
       "      <td>0.111940</td>\n",
       "    </tr>\n",
       "  </tbody>\n",
       "</table>\n",
       "</div>"
      ],
      "text/plain": [
       "         close\n",
       "2015 -0.083614\n",
       "2016 -0.075695\n",
       "2017  0.482896\n",
       "2018 -0.283641\n",
       "2019  0.111940"
      ]
     },
     "execution_count": 19,
     "metadata": {},
     "output_type": "execute_result"
    }
   ],
   "source": [
    "stock_aggregate_returns_year=pf.timeseries.aggregate_returns(data_qfq_daily_return.reset_index().drop(columns=['code']).set_index('date'),'yearly')\n",
    "stock_aggregate_returns_year.tail()\n",
    "# logging.debug('月均回报')\n",
    "# logging.debug(pf.timeseries.aggregate_returns(data_qfq_daily_return.reset_index().drop(columns=['code']).set_index('date'),'monthly'))\n",
    "# logging.debug('周均回报')\n",
    "# logging.debug(pf.timeseries.aggregate_returns(data_qfq_daily_return.reset_index().drop(columns=['code']).set_index('date'),'weekly'))"
   ]
  },
  {
   "cell_type": "markdown",
   "metadata": {},
   "source": [
    "###### 股票年均收益与指数年均收益的比较"
   ]
  },
  {
   "cell_type": "code",
   "execution_count": 20,
   "metadata": {
    "ExecuteTime": {
     "end_time": "2019-01-25T07:38:22.240172Z",
     "start_time": "2019-01-25T07:38:21.985190Z"
    }
   },
   "outputs": [
    {
     "data": {
      "text/plain": [
       "<matplotlib.axes._subplots.AxesSubplot at 0x15d113d6400>"
      ]
     },
     "execution_count": 20,
     "metadata": {},
     "output_type": "execute_result"
    },
    {
     "data": {
      "image/png": "[encoded data removed]",
      "text/plain": [
       "<Figure size 1152x360 with 1 Axes>"
      ]
     },
     "metadata": {},
     "output_type": "display_data"
    }
   ],
   "source": [
    "zs_aggregate_returns_year=pf.timeseries.aggregate_returns(zs_data_daily_return.reset_index().drop(columns=['code']).set_index('date'),'yearly')\n",
    "pd.DataFrame({symbol:stock_aggregate_returns_year['close'],zs_code:zs_aggregate_returns_year['close']}).plot()"
   ]
  },
  {
   "cell_type": "code",
   "execution_count": 21,
   "metadata": {
    "ExecuteTime": {
     "end_time": "2019-01-25T07:38:26.342652Z",
     "start_time": "2019-01-25T07:38:26.339652Z"
    }
   },
   "outputs": [],
   "source": [
    "window=30 #窗口期"
   ]
  },
  {
   "cell_type": "markdown",
   "metadata": {},
   "source": [
    "##### 确定策略的滚动夏普比率"
   ]
  },
  {
   "cell_type": "code",
   "execution_count": 22,
   "metadata": {
    "ExecuteTime": {
     "end_time": "2019-01-25T07:38:27.466810Z",
     "start_time": "2019-01-25T07:38:27.422765Z"
    }
   },
   "outputs": [
    {
     "data": {
      "text/plain": [
       "date        code  \n",
       "2019-01-14  000001   -0.138476\n",
       "2019-01-15  000001   -0.225837\n",
       "2019-01-16  000001   -0.187298\n",
       "2019-01-17  000001   -0.836349\n",
       "2019-01-18  000001    0.079917\n",
       "Name: close, dtype: float64"
      ]
     },
     "execution_count": 22,
     "metadata": {},
     "output_type": "execute_result"
    }
   ],
   "source": [
    "rolling_sharpe=pf.timeseries.rolling_sharpe(data_qfq_daily_return,window)\n",
    "rolling_sharpe.tail()"
   ]
  },
  {
   "cell_type": "code",
   "execution_count": 32,
   "metadata": {
    "ExecuteTime": {
     "end_time": "2019-01-25T09:56:17.619710Z",
     "start_time": "2019-01-25T09:56:17.094709Z"
    }
   },
   "outputs": [],
   "source": [
    "# def _create_year_report():\n",
    "#     \"\"\"按年度创建分析指标数据\"\"\"\n",
    "#     d={}\n",
    "#     risk_free =0\n",
    "#     for year in range(start_date.year,date.today().year):\n",
    "#         d[year]={}\n",
    "#         data_qfq_daily_return_remove_code=data_qfq_daily_return.reset_index().drop(columns=['code']).set_index('date')\n",
    "#         zs_daily_return_remove_code=zs_data_daily_return.reset_index().drop(columns=['code']).set_index('date')\n",
    "#         data_qfq_daily_return_remove_code_year=data_qfq_daily_return_remove_code[data_qfq_daily_return_remove_code.index.year==year]#当年股票日收益（前复权）\n",
    "#         zs_daily_return_remove_code_year=zs_daily_return_remove_code[zs_daily_return_remove_code.index.year==year]#当年指数日收益\n",
    "#         d[year]['alpha']=pf.timeseries.alpha(data_qfq_daily_return_remove_code_year,zs_daily_return_remove_code_year)\n",
    "#         d[year]['beta']=pf.timeseries.beta(data_qfq_daily_return_remove_code_year,zs_daily_return_remove_code_year)\n",
    "#         d[year]['sharp_ratio']=pf.timeseries.sharpe_ratio(data_qfq_daily_return_remove_code_year,risk_free)[0]\n",
    "#         d[year]['tail_ratio']=pf.timeseries.tail_ratio(data_qfq_daily_return_remove_code_year)\n",
    "#         d[year]['annual_return']=pf.timeseries.annual_return(data_qfq_daily_return_remove_code_year)[0]#年化收益\n",
    "#         d[year]['annual_volatility']=pf.timeseries.annual_volatility(data_qfq_daily_return_remove_code_year)[0]#年化波动率\n",
    "#     #     d[year]['omega_ratio']=pf.timeseries.omega_ratio(data_qfq_daily_return_remove_code_year,risk_free)#Omega比率\n",
    "#         d[year]['sortino_ratio']=pf.timeseries.sortino_ratio(data_qfq_daily_return_remove_code_year)[0]#sortino比率\n",
    "#         d[year]['downside_risk']=pf.timeseries.downside_risk(data_qfq_daily_return_remove_code_year)[0]#下降风险\n",
    "#         d[year]['cum_returns']=pf.timeseries.downside_risk(data_qfq_daily_return_remove_code_year)[0]\n",
    "#     return d\n",
    "\n",
    "# _create_year_report\n",
    "\n",
    "# pd.DataFrame.from_dict(d).T\n",
    "# pd.DataFrame.from_dict(d).T.plot()"
   ]
  },
  {
   "cell_type": "markdown",
   "metadata": {},
   "source": [
    "##### 按年份独立统计数据"
   ]
  },
  {
   "cell_type": "code",
   "execution_count": 30,
   "metadata": {},
   "outputs": [
    {
     "data": {
      "text/html": [
       "<table border=\"1\" class=\"dataframe\">\n",
       "  <thead>\n",
       "    <tr style=\"text-align: right;\"><th>Start date</th><td colspan=2>2018-01-02</td></tr>\n",
       "    <tr style=\"text-align: right;\"><th>End date</th><td colspan=2>2018-12-28</td></tr>\n",
       "    <tr style=\"text-align: right;\"><th>Total months</th><td colspan=2>11</td></tr>\n",
       "    <tr style=\"text-align: right;\">\n",
       "      <th></th>\n",
       "      <th>Backtest</th>\n",
       "    </tr>\n",
       "  </thead>\n",
       "  <tbody>\n",
       "    <tr>\n",
       "      <th>Annual return</th>\n",
       "      <td>-29.2%</td>\n",
       "    </tr>\n",
       "    <tr>\n",
       "      <th>Cumulative returns</th>\n",
       "      <td>-28.4%</td>\n",
       "    </tr>\n",
       "    <tr>\n",
       "      <th>Annual volatility</th>\n",
       "      <td>33.8%</td>\n",
       "    </tr>\n",
       "    <tr>\n",
       "      <th>Sharpe ratio</th>\n",
       "      <td>-0.85</td>\n",
       "    </tr>\n",
       "    <tr>\n",
       "      <th>Calmar ratio</th>\n",
       "      <td>-0.70</td>\n",
       "    </tr>\n",
       "    <tr>\n",
       "      <th>Stability</th>\n",
       "      <td>0.38</td>\n",
       "    </tr>\n",
       "    <tr>\n",
       "      <th>Max drawdown</th>\n",
       "      <td>-41.9%</td>\n",
       "    </tr>\n",
       "    <tr>\n",
       "      <th>Omega ratio</th>\n",
       "      <td>0.86</td>\n",
       "    </tr>\n",
       "    <tr>\n",
       "      <th>Sortino ratio</th>\n",
       "      <td>-1.17</td>\n",
       "    </tr>\n",
       "    <tr>\n",
       "      <th>Skew</th>\n",
       "      <td>0.02</td>\n",
       "    </tr>\n",
       "    <tr>\n",
       "      <th>Kurtosis</th>\n",
       "      <td>1.22</td>\n",
       "    </tr>\n",
       "    <tr>\n",
       "      <th>Tail ratio</th>\n",
       "      <td>1.15</td>\n",
       "    </tr>\n",
       "    <tr>\n",
       "      <th>Daily value at risk</th>\n",
       "      <td>-4.4%</td>\n",
       "    </tr>\n",
       "    <tr>\n",
       "      <th>Alpha</th>\n",
       "      <td>0.04</td>\n",
       "    </tr>\n",
       "    <tr>\n",
       "      <th>Beta</th>\n",
       "      <td>1.19</td>\n",
       "    </tr>\n",
       "  </tbody>\n",
       "</table>"
      ],
      "text/plain": [
       "<IPython.core.display.HTML object>"
      ]
     },
     "metadata": {},
     "output_type": "display_data"
    }
   ],
   "source": [
    "pf.plotting.show_perf_stats(data_qfq_daily_return_remove_code_year.close, zs_daily_return_remove_code_year.close)"
   ]
  },
  {
   "cell_type": "code",
   "execution_count": 31,
   "metadata": {},
   "outputs": [
    {
     "data": {
      "text/plain": [
       "Annual return         -0.292436\n",
       "Cumulative returns    -0.283641\n",
       "Annual volatility      0.338109\n",
       "Sharpe ratio          -0.853772\n",
       "Calmar ratio          -0.698074\n",
       "Stability              0.378739\n",
       "Max drawdown          -0.418919\n",
       "Omega ratio            0.864348\n",
       "Sortino ratio         -1.174116\n",
       "Skew                   0.018658\n",
       "Kurtosis               1.220863\n",
       "Tail ratio             1.153219\n",
       "Daily value at risk   -0.043743\n",
       "Alpha                  0.043602\n",
       "Beta                   1.188659\n",
       "dtype: float64"
      ]
     },
     "execution_count": 31,
     "metadata": {},
     "output_type": "execute_result"
    }
   ],
   "source": [
    "pf.timeseries.perf_stats(data_qfq_daily_return_remove_code_year.close, zs_daily_return_remove_code_year.close)"
   ]
  },
  {
   "cell_type": "code",
   "execution_count": null,
   "metadata": {},
   "outputs": [],
   "source": [
    "def _calc_perf_stats_by_year(code,benchmark_code,start:date,end:date,convert_to='yearly'):\n",
    "    \"\"\"计算指定股票\n",
    "    \n",
    "    Args:\n",
    "        convert_to : str\n",
    "            Can be 'weekly', 'monthly', or 'yearly'.\n",
    "    \"\"\"\n",
    "    zs_data=QA_fetch_index_day_adv(zs_code,start,end)#指数日线数据\n",
    "    stock_data_bfq=QA_fetch_stock_day_adv(symbol,start,end)#不复权的日线数据\n",
    "    stock_data_qfq=stock_data_bfq.to_qfq()#前复权日线数据\n",
    "    zs_daily_return=_calc_daily_return(zs_data.close)#指数日收益\n",
    "    stock_daily_return_qfq=_calc_daily_return(stock_data_qfq.close)#股票日收益"
   ]
  }
 ],
 "metadata": {
  "hide_input": false,
  "kernelspec": {
   "display_name": "finance_py_35",
   "language": "python",
   "name": "finance35"
  },
  "language_info": {
   "codemirror_mode": {
    "name": "ipython",
    "version": 3
   },
   "file_extension": ".py",
   "mimetype": "text/x-python",
   "name": "python",
   "nbconvert_exporter": "python",
   "pygments_lexer": "ipython3",
   "version": "3.5.5"
  }
 },
 "nbformat": 4,
 "nbformat_minor": 2
}
