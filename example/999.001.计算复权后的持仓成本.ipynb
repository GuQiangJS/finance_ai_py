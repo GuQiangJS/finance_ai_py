{
 "cells": [
  {
   "cell_type": "markdown",
   "metadata": {},
   "source": [
    "# QA中对于持仓成本的计算未考虑复权因素，这里增加了 `_get_hold_price` 方法来计算复权后的持仓成本\n",
    "\n",
    "维护中的方法已移至 `finance_ai_py.quantaxis_ext`"
   ]
  },
  {
   "cell_type": "code",
   "execution_count": 75,
   "metadata": {},
   "outputs": [],
   "source": [
    "import QUANTAXIS as QA\n",
    "import numpy as np\n",
    "\n",
    "from IPython.core.interactiveshell import InteractiveShell\n",
    "InteractiveShell.ast_node_interactivity = \"all\" "
   ]
  },
  {
   "cell_type": "markdown",
   "metadata": {},
   "source": [
    "### 创建账户\n",
    "\n",
    "股票普通账户"
   ]
  },
  {
   "cell_type": "code",
   "execution_count": 33,
   "metadata": {},
   "outputs": [],
   "source": [
    "stock_account= QA.QA_Account(allow_t0=False,allow_margin=False,allow_sellopen=False,running_environment=QA.MARKET_TYPE.STOCK_CN)\n",
    "# 重设账户初始资金为10万元\n",
    "stock_account.reset_assets(100000)"
   ]
  },
  {
   "cell_type": "markdown",
   "metadata": {},
   "source": [
    "### 初始化回测broker"
   ]
  },
  {
   "cell_type": "code",
   "execution_count": 34,
   "metadata": {},
   "outputs": [],
   "source": [
    "Broker=QA.QA_BacktestBroker()"
   ]
  },
  {
   "cell_type": "markdown",
   "metadata": {},
   "source": [
    "### 读取日线数据\n",
    "\n",
    "000002在 2008-06 间进行过一次分红\n",
    "\n",
    "公告日期\t分红方案(每10股)\t进度\t除权除息日\t股权登记日\n",
    "2008-06-05\t0\t6\t1\t实施\t2008-06-16\t2008-06-13"
   ]
  },
  {
   "cell_type": "code",
   "execution_count": 35,
   "metadata": {},
   "outputs": [],
   "source": [
    "data=QA.QA_fetch_stock_day_adv(['000002'],'2008-06-12','2008-06-18')"
   ]
  },
  {
   "cell_type": "markdown",
   "metadata": {},
   "source": [
    "#### 这几天只做买入操作，之后计算均价用"
   ]
  },
  {
   "cell_type": "code",
   "execution_count": 37,
   "metadata": {
    "code_folding": []
   },
   "outputs": [
    {
     "name": "stdout",
     "output_type": "stream",
     "text": [
      "<class 'QUANTAXIS.QAData.QADataStruct.QA_DataStruct_Stock_day'>\n"
     ]
    },
    {
     "data": {
      "text/plain": [
       "< QA_Order realorder_id Order_M9JTRjSI datetime:2008-06-12 15:00:00 code:000002 amount:100 price:17.35 towards:1 btype:stock_cn order_id:Order_M9JTRjSI account:Acc_YczXG2oq status:queued >"
      ]
     },
     "execution_count": 37,
     "metadata": {},
     "output_type": "execute_result"
    },
    {
     "name": "stdout",
     "output_type": "stream",
     "text": [
      "receive deal\n",
      "<class 'QUANTAXIS.QAData.QADataStruct.QA_DataStruct_Stock_day'>\n"
     ]
    },
    {
     "data": {
      "text/plain": [
       "< QA_Order realorder_id Order_VBUcD7Hh datetime:2008-06-16 15:00:00 code:000002 amount:100 price:10.6 towards:1 btype:stock_cn order_id:Order_VBUcD7Hh account:Acc_YczXG2oq status:queued >"
      ]
     },
     "execution_count": 37,
     "metadata": {},
     "output_type": "execute_result"
    },
    {
     "name": "stdout",
     "output_type": "stream",
     "text": [
      "receive deal\n",
      "<class 'QUANTAXIS.QAData.QADataStruct.QA_DataStruct_Stock_day'>\n"
     ]
    },
    {
     "data": {
      "text/plain": [
       "< QA_Order realorder_id Order_D5AXhNKe datetime:2008-06-18 15:00:00 code:000002 amount:100 price:10.27 towards:1 btype:stock_cn order_id:Order_D5AXhNKe account:Acc_YczXG2oq status:queued >"
      ]
     },
     "execution_count": 37,
     "metadata": {},
     "output_type": "execute_result"
    },
    {
     "name": "stdout",
     "output_type": "stream",
     "text": [
      "receive deal\n"
     ]
    }
   ],
   "source": [
    "i=0\n",
    "for items in data.panel_gen:\n",
    "    for item in items.security_gen:\n",
    "        if i%2!=0:\n",
    "            continue\n",
    "        order = stock_account.send_order(\n",
    "            code=item.code[0],\n",
    "            time=item.date[0],\n",
    "            amount=100,\n",
    "            towards=QA.ORDER_DIRECTION.BUY,\n",
    "            price=0,\n",
    "            order_model=QA.ORDER_MODEL.CLOSE,\n",
    "            amount_model=QA.AMOUNT_MODEL.BY_AMOUNT  # 按数量下单\n",
    "            #在按金额下单的时候,应给予 money参数\n",
    "            #在按数量下单的时候,应给予 amount参数\n",
    "        )\n",
    "        #print(item.to_json()[0])\n",
    "        Broker.receive_order(QA.QA_Event(order=order, market_data=item))\n",
    "\n",
    "        trade_mes = Broker.query_orders(stock_account.account_cookie, 'filled')\n",
    "        res = trade_mes.loc[order.account_cookie, order.realorder_id]\n",
    "        order.trade(res.trade_id, res.trade_price, res.trade_amount,\n",
    "                    res.trade_time)\n",
    "    stock_account.settle()\n",
    "    i=i+1"
   ]
  },
  {
   "cell_type": "markdown",
   "metadata": {},
   "source": [
    "### 账户信息"
   ]
  },
  {
   "cell_type": "code",
   "execution_count": 38,
   "metadata": {
    "scrolled": true
   },
   "outputs": [
    {
     "data": {
      "text/plain": [
       "{'account_cookie': 'Acc_YczXG2oq',\n",
       " 'allow_sellopen': False,\n",
       " 'allow_t0': False,\n",
       " 'broker': 'backtest',\n",
       " 'cash': [100000, 98260.0, 97195.0, 96163.0],\n",
       " 'commission_coeff': 0.00025,\n",
       " 'current_time': 'None',\n",
       " 'end_date': '2008-06-18',\n",
       " 'history': [['2008-06-12 00:00:00',\n",
       "   '000002',\n",
       "   17.35,\n",
       "   100,\n",
       "   98260.0,\n",
       "   'Order_M9JTRjSI',\n",
       "   'Order_M9JTRjSI',\n",
       "   'Trade_ViH0JL5Y',\n",
       "   'Acc_YczXG2oq',\n",
       "   5,\n",
       "   0,\n",
       "   None,\n",
       "   0],\n",
       "  ['2008-06-16 00:00:00',\n",
       "   '000002',\n",
       "   10.6,\n",
       "   100,\n",
       "   97195.0,\n",
       "   'Order_VBUcD7Hh',\n",
       "   'Order_VBUcD7Hh',\n",
       "   'Trade_XTj5rNYZ',\n",
       "   'Acc_YczXG2oq',\n",
       "   5,\n",
       "   0,\n",
       "   None,\n",
       "   0],\n",
       "  ['2008-06-18 00:00:00',\n",
       "   '000002',\n",
       "   10.27,\n",
       "   100,\n",
       "   96163.0,\n",
       "   'Order_D5AXhNKe',\n",
       "   'Order_D5AXhNKe',\n",
       "   'Trade_ynpOBxYW',\n",
       "   'Acc_YczXG2oq',\n",
       "   5,\n",
       "   0,\n",
       "   None,\n",
       "   0]],\n",
       " 'init_assets': {'cash': 100000, 'hold': {}},\n",
       " 'init_cash': 100000,\n",
       " 'init_hold': {},\n",
       " 'margin_level': {},\n",
       " 'market_type': 'stock_cn',\n",
       " 'portfolio_cookie': None,\n",
       " 'quantaxis_version': '1.2.8.dev2',\n",
       " 'running_environment': 'stock_cn',\n",
       " 'running_time': '2019-02-01 10:22:55.259826',\n",
       " 'source': 'account',\n",
       " 'start_date': '2008-06-12',\n",
       " 'strategy_name': None,\n",
       " 'tax_coeff': 0.001,\n",
       " 'trade_index': ['2008-06-12 00:00:00',\n",
       "  '2008-06-16 00:00:00',\n",
       "  '2008-06-18 00:00:00'],\n",
       " 'user_cookie': None}"
      ]
     },
     "execution_count": 38,
     "metadata": {},
     "output_type": "execute_result"
    }
   ],
   "source": [
    "stock_account.message"
   ]
  },
  {
   "cell_type": "code",
   "execution_count": 39,
   "metadata": {},
   "outputs": [
    {
     "data": {
      "text/html": [
       "<div>\n",
       "<style scoped>\n",
       "    .dataframe tbody tr th:only-of-type {\n",
       "        vertical-align: middle;\n",
       "    }\n",
       "\n",
       "    .dataframe tbody tr th {\n",
       "        vertical-align: top;\n",
       "    }\n",
       "\n",
       "    .dataframe thead th {\n",
       "        text-align: right;\n",
       "    }\n",
       "</style>\n",
       "<table border=\"1\" class=\"dataframe\">\n",
       "  <thead>\n",
       "    <tr style=\"text-align: right;\">\n",
       "      <th></th>\n",
       "      <th>datetime</th>\n",
       "      <th>code</th>\n",
       "      <th>price</th>\n",
       "      <th>amount</th>\n",
       "      <th>cash</th>\n",
       "      <th>order_id</th>\n",
       "      <th>realorder_id</th>\n",
       "      <th>trade_id</th>\n",
       "      <th>account_cookie</th>\n",
       "      <th>commission</th>\n",
       "      <th>tax</th>\n",
       "      <th>message</th>\n",
       "      <th>frozen</th>\n",
       "    </tr>\n",
       "  </thead>\n",
       "  <tbody>\n",
       "    <tr>\n",
       "      <th>0</th>\n",
       "      <td>2008-06-12 00:00:00</td>\n",
       "      <td>000002</td>\n",
       "      <td>17.35</td>\n",
       "      <td>100</td>\n",
       "      <td>98260.0</td>\n",
       "      <td>Order_M9JTRjSI</td>\n",
       "      <td>Order_M9JTRjSI</td>\n",
       "      <td>Trade_ViH0JL5Y</td>\n",
       "      <td>Acc_YczXG2oq</td>\n",
       "      <td>5</td>\n",
       "      <td>0</td>\n",
       "      <td>None</td>\n",
       "      <td>0</td>\n",
       "    </tr>\n",
       "    <tr>\n",
       "      <th>1</th>\n",
       "      <td>2008-06-16 00:00:00</td>\n",
       "      <td>000002</td>\n",
       "      <td>10.60</td>\n",
       "      <td>100</td>\n",
       "      <td>97195.0</td>\n",
       "      <td>Order_VBUcD7Hh</td>\n",
       "      <td>Order_VBUcD7Hh</td>\n",
       "      <td>Trade_XTj5rNYZ</td>\n",
       "      <td>Acc_YczXG2oq</td>\n",
       "      <td>5</td>\n",
       "      <td>0</td>\n",
       "      <td>None</td>\n",
       "      <td>0</td>\n",
       "    </tr>\n",
       "    <tr>\n",
       "      <th>2</th>\n",
       "      <td>2008-06-18 00:00:00</td>\n",
       "      <td>000002</td>\n",
       "      <td>10.27</td>\n",
       "      <td>100</td>\n",
       "      <td>96163.0</td>\n",
       "      <td>Order_D5AXhNKe</td>\n",
       "      <td>Order_D5AXhNKe</td>\n",
       "      <td>Trade_ynpOBxYW</td>\n",
       "      <td>Acc_YczXG2oq</td>\n",
       "      <td>5</td>\n",
       "      <td>0</td>\n",
       "      <td>None</td>\n",
       "      <td>0</td>\n",
       "    </tr>\n",
       "  </tbody>\n",
       "</table>\n",
       "</div>"
      ],
      "text/plain": [
       "              datetime    code  price  amount     cash        order_id  \\\n",
       "0  2008-06-12 00:00:00  000002  17.35     100  98260.0  Order_M9JTRjSI   \n",
       "1  2008-06-16 00:00:00  000002  10.60     100  97195.0  Order_VBUcD7Hh   \n",
       "2  2008-06-18 00:00:00  000002  10.27     100  96163.0  Order_D5AXhNKe   \n",
       "\n",
       "     realorder_id        trade_id account_cookie  commission  tax message  \\\n",
       "0  Order_M9JTRjSI  Trade_ViH0JL5Y   Acc_YczXG2oq           5    0    None   \n",
       "1  Order_VBUcD7Hh  Trade_XTj5rNYZ   Acc_YczXG2oq           5    0    None   \n",
       "2  Order_D5AXhNKe  Trade_ynpOBxYW   Acc_YczXG2oq           5    0    None   \n",
       "\n",
       "   frozen  \n",
       "0       0  \n",
       "1       0  \n",
       "2       0  "
      ]
     },
     "execution_count": 39,
     "metadata": {},
     "output_type": "execute_result"
    }
   ],
   "source": [
    "stock_account.history_table"
   ]
  },
  {
   "cell_type": "markdown",
   "metadata": {},
   "source": [
    "#### 持仓成本价\n",
    "\n",
    "这里只是简单的求了平均，未考虑分红配送的因素\n",
    "\n",
    "**应该重新取购买日期~当前日期间的数据后取 前复权 的价格为准**"
   ]
  },
  {
   "cell_type": "code",
   "execution_count": 40,
   "metadata": {},
   "outputs": [
    {
     "data": {
      "text/plain": [
       "code\n",
       "000002    (12.74, 300.0)\n",
       "dtype: object"
      ]
     },
     "execution_count": 40,
     "metadata": {},
     "output_type": "execute_result"
    },
    {
     "data": {
      "text/plain": [
       "12.74"
      ]
     },
     "execution_count": 40,
     "metadata": {},
     "output_type": "execute_result"
    }
   ],
   "source": [
    "stock_account.hold_price()\n",
    "stock_account.history_table.price.mean()"
   ]
  },
  {
   "cell_type": "code",
   "execution_count": 41,
   "metadata": {},
   "outputs": [
    {
     "data": {
      "text/plain": [
       "code\n",
       "000002    300\n",
       "Name: amount, dtype: int64"
      ]
     },
     "execution_count": 41,
     "metadata": {},
     "output_type": "execute_result"
    }
   ],
   "source": [
    "stock_account.hold_table()"
   ]
  },
  {
   "cell_type": "markdown",
   "metadata": {},
   "source": [
    "#### 可用持仓"
   ]
  },
  {
   "cell_type": "code",
   "execution_count": 42,
   "metadata": {},
   "outputs": [
    {
     "data": {
      "text/plain": [
       "code\n",
       "000002    300\n",
       "Name: amount, dtype: int64"
      ]
     },
     "execution_count": 42,
     "metadata": {},
     "output_type": "execute_result"
    }
   ],
   "source": [
    "stock_account.hold_available"
   ]
  },
  {
   "cell_type": "code",
   "execution_count": 43,
   "metadata": {},
   "outputs": [
    {
     "data": {
      "text/plain": [
       "code\n",
       "000002   1 days 09:30:00\n",
       "dtype: timedelta64[ns]"
      ]
     },
     "execution_count": 43,
     "metadata": {},
     "output_type": "execute_result"
    }
   ],
   "source": [
    "stock_account.hold_time()"
   ]
  },
  {
   "cell_type": "markdown",
   "metadata": {},
   "source": [
    "#### hold_price函数实现"
   ]
  },
  {
   "cell_type": "code",
   "execution_count": 44,
   "metadata": {},
   "outputs": [
    {
     "data": {
      "text/html": [
       "<div>\n",
       "<style scoped>\n",
       "    .dataframe tbody tr th:only-of-type {\n",
       "        vertical-align: middle;\n",
       "    }\n",
       "\n",
       "    .dataframe tbody tr th {\n",
       "        vertical-align: top;\n",
       "    }\n",
       "\n",
       "    .dataframe thead th {\n",
       "        text-align: right;\n",
       "    }\n",
       "</style>\n",
       "<table border=\"1\" class=\"dataframe\">\n",
       "  <thead>\n",
       "    <tr style=\"text-align: right;\">\n",
       "      <th></th>\n",
       "      <th>datetime</th>\n",
       "      <th>code</th>\n",
       "      <th>price</th>\n",
       "      <th>amount</th>\n",
       "      <th>cash</th>\n",
       "      <th>order_id</th>\n",
       "      <th>realorder_id</th>\n",
       "      <th>trade_id</th>\n",
       "      <th>account_cookie</th>\n",
       "      <th>commission</th>\n",
       "      <th>tax</th>\n",
       "      <th>message</th>\n",
       "      <th>frozen</th>\n",
       "    </tr>\n",
       "    <tr>\n",
       "      <th>datetime</th>\n",
       "      <th></th>\n",
       "      <th></th>\n",
       "      <th></th>\n",
       "      <th></th>\n",
       "      <th></th>\n",
       "      <th></th>\n",
       "      <th></th>\n",
       "      <th></th>\n",
       "      <th></th>\n",
       "      <th></th>\n",
       "      <th></th>\n",
       "      <th></th>\n",
       "      <th></th>\n",
       "    </tr>\n",
       "  </thead>\n",
       "  <tbody>\n",
       "    <tr>\n",
       "      <th>2008-06-12 00:00:00</th>\n",
       "      <td>2008-06-12 00:00:00</td>\n",
       "      <td>000002</td>\n",
       "      <td>17.35</td>\n",
       "      <td>100</td>\n",
       "      <td>98260.0</td>\n",
       "      <td>Order_M9JTRjSI</td>\n",
       "      <td>Order_M9JTRjSI</td>\n",
       "      <td>Trade_ViH0JL5Y</td>\n",
       "      <td>Acc_YczXG2oq</td>\n",
       "      <td>5</td>\n",
       "      <td>0</td>\n",
       "      <td>None</td>\n",
       "      <td>0</td>\n",
       "    </tr>\n",
       "    <tr>\n",
       "      <th>2008-06-16 00:00:00</th>\n",
       "      <td>2008-06-16 00:00:00</td>\n",
       "      <td>000002</td>\n",
       "      <td>10.60</td>\n",
       "      <td>100</td>\n",
       "      <td>97195.0</td>\n",
       "      <td>Order_VBUcD7Hh</td>\n",
       "      <td>Order_VBUcD7Hh</td>\n",
       "      <td>Trade_XTj5rNYZ</td>\n",
       "      <td>Acc_YczXG2oq</td>\n",
       "      <td>5</td>\n",
       "      <td>0</td>\n",
       "      <td>None</td>\n",
       "      <td>0</td>\n",
       "    </tr>\n",
       "    <tr>\n",
       "      <th>2008-06-18 00:00:00</th>\n",
       "      <td>2008-06-18 00:00:00</td>\n",
       "      <td>000002</td>\n",
       "      <td>10.27</td>\n",
       "      <td>100</td>\n",
       "      <td>96163.0</td>\n",
       "      <td>Order_D5AXhNKe</td>\n",
       "      <td>Order_D5AXhNKe</td>\n",
       "      <td>Trade_ynpOBxYW</td>\n",
       "      <td>Acc_YczXG2oq</td>\n",
       "      <td>5</td>\n",
       "      <td>0</td>\n",
       "      <td>None</td>\n",
       "      <td>0</td>\n",
       "    </tr>\n",
       "  </tbody>\n",
       "</table>\n",
       "</div>"
      ],
      "text/plain": [
       "                                datetime    code  price  amount     cash  \\\n",
       "datetime                                                                   \n",
       "2008-06-12 00:00:00  2008-06-12 00:00:00  000002  17.35     100  98260.0   \n",
       "2008-06-16 00:00:00  2008-06-16 00:00:00  000002  10.60     100  97195.0   \n",
       "2008-06-18 00:00:00  2008-06-18 00:00:00  000002  10.27     100  96163.0   \n",
       "\n",
       "                           order_id    realorder_id        trade_id  \\\n",
       "datetime                                                              \n",
       "2008-06-12 00:00:00  Order_M9JTRjSI  Order_M9JTRjSI  Trade_ViH0JL5Y   \n",
       "2008-06-16 00:00:00  Order_VBUcD7Hh  Order_VBUcD7Hh  Trade_XTj5rNYZ   \n",
       "2008-06-18 00:00:00  Order_D5AXhNKe  Order_D5AXhNKe  Trade_ynpOBxYW   \n",
       "\n",
       "                    account_cookie  commission  tax message  frozen  \n",
       "datetime                                                             \n",
       "2008-06-12 00:00:00   Acc_YczXG2oq           5    0    None       0  \n",
       "2008-06-16 00:00:00   Acc_YczXG2oq           5    0    None       0  \n",
       "2008-06-18 00:00:00   Acc_YczXG2oq           5    0    None       0  "
      ]
     },
     "execution_count": 44,
     "metadata": {},
     "output_type": "execute_result"
    }
   ],
   "source": [
    "stock_account.history_table.set_index('datetime', drop=False).sort_index()"
   ]
  },
  {
   "cell_type": "code",
   "execution_count": 45,
   "metadata": {
    "collapsed": true
   },
   "outputs": [
    {
     "data": {
      "text/plain": [
       "date        code  \n",
       "2008-06-12  000002    17.35\n",
       "2008-06-13  000002    16.50\n",
       "2008-06-16  000002    10.60\n",
       "2008-06-17  000002     9.95\n",
       "2008-06-18  000002    10.27\n",
       "Name: close, dtype: float64"
      ]
     },
     "execution_count": 45,
     "metadata": {},
     "output_type": "execute_result"
    }
   ],
   "source": [
    "QA.QA_fetch_stock_day_adv(['000002'],'2008-06-12','2008-06-18').data.close"
   ]
  },
  {
   "cell_type": "code",
   "execution_count": 46,
   "metadata": {
    "collapsed": true
   },
   "outputs": [
    {
     "data": {
      "text/plain": [
       "date        code  \n",
       "2008-06-12  000002    17.350000\n",
       "2008-06-13  000002    16.500000\n",
       "2008-06-16  000002    17.063415\n",
       "2008-06-17  000002    16.017073\n",
       "2008-06-18  000002    16.532195\n",
       "Name: close, dtype: float64"
      ]
     },
     "execution_count": 46,
     "metadata": {},
     "output_type": "execute_result"
    }
   ],
   "source": [
    "QA.QA_fetch_stock_day_adv(['000002'],'2008-06-12','2008-06-18').to_hfq().data.close"
   ]
  },
  {
   "cell_type": "code",
   "execution_count": 47,
   "metadata": {
    "collapsed": true
   },
   "outputs": [
    {
     "data": {
      "text/plain": [
       "date        code  \n",
       "2008-06-12  000002    10.77803\n",
       "2008-06-13  000002    10.25000\n",
       "2008-06-16  000002    10.60000\n",
       "2008-06-17  000002     9.95000\n",
       "2008-06-18  000002    10.27000\n",
       "Name: close, dtype: float64"
      ]
     },
     "execution_count": 47,
     "metadata": {},
     "output_type": "execute_result"
    }
   ],
   "source": [
    "QA.QA_fetch_stock_day_adv(['000002'],'2008-06-12','2008-06-18').to_qfq().data.close"
   ]
  },
  {
   "cell_type": "code",
   "execution_count": 87,
   "metadata": {
    "code_folding": [
     18
    ]
   },
   "outputs": [],
   "source": [
    "def _get_qfq_history_table(account, enddate):\n",
    "    \"\"\"在history_table中增加前复权价格\"\"\"\n",
    "    hold_df = account.history_table.set_index(\n",
    "        'datetime', drop=False).sort_index()\n",
    "    hold_df[['code', 'price']]\n",
    "    hold_df['price_qfq'] = -1.0\n",
    "    if not isinstance(enddate, str):\n",
    "        enddate = QA.QAUtil.QADate.QA_util_datetime_to_strdate(enddate)\n",
    "    for idx in hold_df.index:\n",
    "        new_value = QA.QA_fetch_stock_day_adv(hold_df.loc[idx, 'code'], idx,\n",
    "                                              enddate).to_qfq()\n",
    "        hold_df.loc[idx, 'price_qfq'] = new_value.close[0]\n",
    "    return hold_df\n",
    "\n",
    "\n",
    "# _get_qfq_history_table(stock_account, '2008-06-18')\n",
    "\n",
    "\n",
    "def _get_hold_price(account, datetime):\n",
    "    \"\"\"计算持仓成本  如果给的是日期,则返回当日开盘前的持仓\n",
    "        **替代QAAccount.hold_price**,以前复权价格来计算\n",
    "        Keyword Arguments:\n",
    "            datetime {[type]} -- [description] (default: {None})\n",
    "\n",
    "        Returns:\n",
    "            [type] -- [description]\n",
    "        \"\"\"\n",
    "\n",
    "    def weights(x):\n",
    "        if sum(x['amount']) != 0:\n",
    "            return np.average(\n",
    "                x['price_qfq'], weights=x['amount'], returned=True)\n",
    "        else:\n",
    "            return np.nan\n",
    "\n",
    "    df = _get_qfq_history_table(account, datetime)\n",
    "\n",
    "    if datetime is None:\n",
    "        return df.groupby('code').apply(weights).dropna()\n",
    "    else:\n",
    "        return df.loc[:datetime].groupby('code').apply(weights).dropna()"
   ]
  },
  {
   "cell_type": "markdown",
   "metadata": {},
   "source": [
    "### 当前持仓成本"
   ]
  },
  {
   "cell_type": "code",
   "execution_count": 88,
   "metadata": {},
   "outputs": [
    {
     "data": {
      "text/plain": [
       "code\n",
       "000002    (10.689015151515152, 200.0)\n",
       "dtype: object"
      ]
     },
     "execution_count": 88,
     "metadata": {},
     "output_type": "execute_result"
    },
    {
     "data": {
      "text/plain": [
       "code\n",
       "000002    (13.975, 200.0)\n",
       "dtype: object"
      ]
     },
     "execution_count": 88,
     "metadata": {},
     "output_type": "execute_result"
    },
    {
     "data": {
      "text/plain": [
       "code\n",
       "000002    (12.74, 300.0)\n",
       "dtype: object"
      ]
     },
     "execution_count": 88,
     "metadata": {},
     "output_type": "execute_result"
    },
    {
     "data": {
      "text/plain": [
       "12.74"
      ]
     },
     "execution_count": 88,
     "metadata": {},
     "output_type": "execute_result"
    }
   ],
   "source": [
    "_get_hold_price(stock_account,'2008-06-18')\n",
    "'以前复权价计算的持仓成本'\n",
    "stock_account.hold_price('2008-06-18')\n",
    "'标准持仓成本（只计算了当时购买价格，未考虑复权）'\n",
    "stock_account.hold_price()"
   ]
  },
  {
   "cell_type": "code",
   "execution_count": 90,
   "metadata": {},
   "outputs": [
    {
     "data": {
      "text/plain": [
       "'以前复权价计算的持仓成本'"
      ]
     },
     "execution_count": 90,
     "metadata": {},
     "output_type": "execute_result"
    },
    {
     "data": {
      "text/plain": [
       "code\n",
       "000002    (10.549343434343434, 300.0)\n",
       "dtype: object"
      ]
     },
     "execution_count": 90,
     "metadata": {},
     "output_type": "execute_result"
    },
    {
     "data": {
      "text/plain": [
       "'标准持仓成本（只计算了当时购买价格，未考虑复权）'"
      ]
     },
     "execution_count": 90,
     "metadata": {},
     "output_type": "execute_result"
    },
    {
     "data": {
      "text/plain": [
       "code\n",
       "000002    (12.74, 300.0)\n",
       "dtype: object"
      ]
     },
     "execution_count": 90,
     "metadata": {},
     "output_type": "execute_result"
    }
   ],
   "source": [
    "'以前复权价计算的持仓成本'\n",
    "_get_hold_price(stock_account, '2008-06-19')\n",
    "'标准持仓成本（只计算了当时购买价格，未考虑复权）'\n",
    "stock_account.hold_price('2008-06-19')"
   ]
  },
  {
   "cell_type": "code",
   "execution_count": null,
   "metadata": {},
   "outputs": [],
   "source": []
  }
 ],
 "metadata": {
  "hide_input": false,
  "kernelspec": {
   "display_name": "finance_py_35",
   "language": "python",
   "name": "finance35"
  },
  "language_info": {
   "codemirror_mode": {
    "name": "ipython",
    "version": 3
   },
   "file_extension": ".py",
   "mimetype": "text/x-python",
   "name": "python",
   "nbconvert_exporter": "python",
   "pygments_lexer": "ipython3",
   "version": "3.5.5"
  },
  "toc": {
   "base_numbering": 1,
   "nav_menu": {},
   "number_sections": true,
   "sideBar": true,
   "skip_h1_title": false,
   "title_cell": "Table of Contents",
   "title_sidebar": "Contents",
   "toc_cell": false,
   "toc_position": {},
   "toc_section_display": true,
   "toc_window_display": true
  }
 },
 "nbformat": 4,
 "nbformat_minor": 2
}
