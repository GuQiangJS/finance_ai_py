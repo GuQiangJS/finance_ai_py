{
 "cells": [
  {
   "cell_type": "code",
   "execution_count": 1,
   "metadata": {},
   "outputs": [
    {
     "name": "stderr",
     "output_type": "stream",
     "text": [
      "QUANTAXIS>> Expand macros in c:\\program files\\python37\\lib\\site-packages\\macropy\\core\\hquotes.py\n",
      "QUANTAXIS>> Finding macros in 'macropy.core.hquotes'\n",
      "QUANTAXIS>> Importing macros from 'macropy.core.quotes' into 'macropy.core.hquotes'\n",
      "QUANTAXIS>> Expand macros in c:\\program files\\python37\\lib\\site-packages\\macropy\\core\\quotes.py\n",
      "QUANTAXIS>> Finding macros in 'macropy.core.quotes'\n",
      "QUANTAXIS>> Expand macros in c:\\program files\\python37\\lib\\site-packages\\macropy\\core\\failure.py\n",
      "QUANTAXIS>> Finding macros in 'macropy.core.failure'\n",
      "QUANTAXIS>> Importing macros from 'macropy.core.hquotes' into 'macropy.core.failure'\n",
      "QUANTAXIS>> failed to import pyecharts_snapshot\n",
      "Traceback (most recent call last):\n",
      "  File \"c:\\program files\\python37\\lib\\site-packages\\lml\\utils.py\", line 43, in do_import\n",
      "    plugin_module = __import__(plugin_module_name)\n",
      "ModuleNotFoundError: No module named 'pyecharts_snapshot'\n",
      "QUANTAXIS>> Expand macros in c:\\program files\\python37\\lib\\site-packages\\cffi\\api.py\n",
      "QUANTAXIS>> Finding macros in 'cffi.api'\n",
      "QUANTAXIS>> Expand macros in c:\\program files\\python37\\lib\\site-packages\\scipy\\__config__.py\n",
      "QUANTAXIS>> Finding macros in 'scipy.__config__'\n"
     ]
    }
   ],
   "source": [
    "import pandas as pd\n",
    "import quantaxis_ext\n",
    "import numpy as np\n",
    "import simulate\n",
    "from talib import MA_Type"
   ]
  },
  {
   "cell_type": "code",
   "execution_count": 2,
   "metadata": {},
   "outputs": [],
   "source": [
    "stock_list=quantaxis_ext.fetch_stock_list()"
   ]
  },
  {
   "cell_type": "code",
   "execution_count": 3,
   "metadata": {},
   "outputs": [
    {
     "data": {
      "text/html": [
       "<div>\n",
       "<style scoped>\n",
       "    .dataframe tbody tr th:only-of-type {\n",
       "        vertical-align: middle;\n",
       "    }\n",
       "\n",
       "    .dataframe tbody tr th {\n",
       "        vertical-align: top;\n",
       "    }\n",
       "\n",
       "    .dataframe thead th {\n",
       "        text-align: right;\n",
       "    }\n",
       "</style>\n",
       "<table border=\"1\" class=\"dataframe\">\n",
       "  <thead>\n",
       "    <tr style=\"text-align: right;\">\n",
       "      <th></th>\n",
       "      <th>code</th>\n",
       "      <th>decimal_point</th>\n",
       "      <th>name</th>\n",
       "      <th>pre_close</th>\n",
       "      <th>sec</th>\n",
       "      <th>sse</th>\n",
       "      <th>volunit</th>\n",
       "    </tr>\n",
       "    <tr>\n",
       "      <th>code</th>\n",
       "      <th></th>\n",
       "      <th></th>\n",
       "      <th></th>\n",
       "      <th></th>\n",
       "      <th></th>\n",
       "      <th></th>\n",
       "      <th></th>\n",
       "    </tr>\n",
       "  </thead>\n",
       "  <tbody>\n",
       "    <tr>\n",
       "      <th>000001</th>\n",
       "      <td>000001</td>\n",
       "      <td>2</td>\n",
       "      <td>平安银行</td>\n",
       "      <td>456.00</td>\n",
       "      <td>stock_cn</td>\n",
       "      <td>sz</td>\n",
       "      <td>100</td>\n",
       "    </tr>\n",
       "    <tr>\n",
       "      <th>000002</th>\n",
       "      <td>000002</td>\n",
       "      <td>2</td>\n",
       "      <td>万 科Ａ</td>\n",
       "      <td>24.93</td>\n",
       "      <td>stock_cn</td>\n",
       "      <td>sz</td>\n",
       "      <td>100</td>\n",
       "    </tr>\n",
       "    <tr>\n",
       "      <th>000004</th>\n",
       "      <td>000004</td>\n",
       "      <td>2</td>\n",
       "      <td>国农科技</td>\n",
       "      <td>16.60</td>\n",
       "      <td>stock_cn</td>\n",
       "      <td>sz</td>\n",
       "      <td>100</td>\n",
       "    </tr>\n",
       "    <tr>\n",
       "      <th>000005</th>\n",
       "      <td>000005</td>\n",
       "      <td>2</td>\n",
       "      <td>世纪星源</td>\n",
       "      <td>3074.00</td>\n",
       "      <td>stock_cn</td>\n",
       "      <td>sz</td>\n",
       "      <td>100</td>\n",
       "    </tr>\n",
       "    <tr>\n",
       "      <th>000006</th>\n",
       "      <td>000006</td>\n",
       "      <td>2</td>\n",
       "      <td>深振业Ａ</td>\n",
       "      <td>5.26</td>\n",
       "      <td>stock_cn</td>\n",
       "      <td>sz</td>\n",
       "      <td>100</td>\n",
       "    </tr>\n",
       "  </tbody>\n",
       "</table>\n",
       "</div>"
      ],
      "text/plain": [
       "          code  decimal_point  name  pre_close       sec sse  volunit\n",
       "code                                                                 \n",
       "000001  000001              2  平安银行     456.00  stock_cn  sz      100\n",
       "000002  000002              2  万 科Ａ      24.93  stock_cn  sz      100\n",
       "000004  000004              2  国农科技      16.60  stock_cn  sz      100\n",
       "000005  000005              2  世纪星源    3074.00  stock_cn  sz      100\n",
       "000006  000006              2  深振业Ａ       5.26  stock_cn  sz      100"
      ]
     },
     "execution_count": 3,
     "metadata": {},
     "output_type": "execute_result"
    }
   ],
   "source": [
    "stock_list.head()"
   ]
  },
  {
   "cell_type": "code",
   "execution_count": 4,
   "metadata": {},
   "outputs": [
    {
     "data": {
      "text/html": [
       "<div>\n",
       "<style scoped>\n",
       "    .dataframe tbody tr th:only-of-type {\n",
       "        vertical-align: middle;\n",
       "    }\n",
       "\n",
       "    .dataframe tbody tr th {\n",
       "        vertical-align: top;\n",
       "    }\n",
       "\n",
       "    .dataframe thead th {\n",
       "        text-align: right;\n",
       "    }\n",
       "</style>\n",
       "<table border=\"1\" class=\"dataframe\">\n",
       "  <thead>\n",
       "    <tr style=\"text-align: right;\">\n",
       "      <th></th>\n",
       "      <th>name</th>\n",
       "    </tr>\n",
       "    <tr>\n",
       "      <th>code</th>\n",
       "      <th></th>\n",
       "    </tr>\n",
       "  </thead>\n",
       "  <tbody>\n",
       "    <tr>\n",
       "      <th>000001</th>\n",
       "      <td>平安银行</td>\n",
       "    </tr>\n",
       "    <tr>\n",
       "      <th>000002</th>\n",
       "      <td>万 科Ａ</td>\n",
       "    </tr>\n",
       "    <tr>\n",
       "      <th>000004</th>\n",
       "      <td>国农科技</td>\n",
       "    </tr>\n",
       "    <tr>\n",
       "      <th>000005</th>\n",
       "      <td>世纪星源</td>\n",
       "    </tr>\n",
       "    <tr>\n",
       "      <th>000006</th>\n",
       "      <td>深振业Ａ</td>\n",
       "    </tr>\n",
       "  </tbody>\n",
       "</table>\n",
       "</div>"
      ],
      "text/plain": [
       "        name\n",
       "code        \n",
       "000001  平安银行\n",
       "000002  万 科Ａ\n",
       "000004  国农科技\n",
       "000005  世纪星源\n",
       "000006  深振业Ａ"
      ]
     },
     "execution_count": 4,
     "metadata": {},
     "output_type": "execute_result"
    }
   ],
   "source": [
    "df=stock_list[['name']].reset_index().set_index('code')[['name']]\n",
    "df.head()"
   ]
  },
  {
   "cell_type": "code",
   "execution_count": 5,
   "metadata": {},
   "outputs": [
    {
     "name": "stderr",
     "output_type": "stream",
     "text": [
      "c:\\program files\\python37\\lib\\site-packages\\numpy\\lib\\function_base.py:356: RuntimeWarning: Mean of empty slice.\n",
      "  avg = a.mean(axis)\n",
      "c:\\program files\\python37\\lib\\site-packages\\numpy\\core\\_methods.py:85: RuntimeWarning: invalid value encountered in double_scalars\n",
      "  ret = ret.dtype.type(ret / rcount)\n"
     ]
    },
    {
     "name": "stdout",
     "output_type": "stream",
     "text": [
      "QA Error QA_fetch_stock_day_adv parameter code=002945 , start=1990-01-01, end=2018-12-31 call QA_fetch_stock_day return None\n",
      "QA Error QA_fetch_stock_day_adv parameter code=002948 , start=1990-01-01, end=2018-12-31 call QA_fetch_stock_day return None\n",
      "QA Error QA_fetch_stock_day_adv parameter code=300755 , start=1990-01-01, end=2018-12-31 call QA_fetch_stock_day return None\n",
      "QA Error QA_fetch_stock_day_adv parameter code=300757 , start=1990-01-01, end=2018-12-31 call QA_fetch_stock_day return None\n",
      "QA Error QA_fetch_stock_day_adv parameter code=601298 , start=1990-01-01, end=2018-12-31 call QA_fetch_stock_day return None\n",
      "QA Error QA_fetch_stock_day_adv parameter code=601615 , start=1990-01-01, end=2018-12-31 call QA_fetch_stock_day return None\n",
      "QA Error QA_fetch_stock_day_adv parameter code=601860 , start=1990-01-01, end=2018-12-31 call QA_fetch_stock_day return None\n",
      "QA Error QA_fetch_stock_day_adv parameter code=601975 , start=1990-01-01, end=2018-12-31 call QA_fetch_stock_day return None\n",
      "QA Error QA_fetch_stock_day_adv parameter code=603121 , start=1990-01-01, end=2018-12-31 call QA_fetch_stock_day return None\n",
      "QA Error QA_fetch_stock_day_adv parameter code=603332 , start=1990-01-01, end=2018-12-31 call QA_fetch_stock_day return None\n",
      "QA Error QA_fetch_stock_day_adv parameter code=603700 , start=1990-01-01, end=2018-12-31 call QA_fetch_stock_day return None\n",
      "QA Error QA_fetch_stock_day_adv parameter code=603739 , start=1990-01-01, end=2018-12-31 call QA_fetch_stock_day return None\n"
     ]
    }
   ],
   "source": [
    "for code in df.index:\n",
    "    try:\n",
    "        df_test=quantaxis_ext.fetch_stock_day_adv(code,'1990-01-01','2018-12-31')\n",
    "        if df_test.empty:\n",
    "            continue\n",
    "        s=simulate.simulate_buy_sale(df_test['close'], MA_Type.WMA,timeperiod=30)\n",
    "        df.loc[code,'hold']=s[0]\n",
    "        df.loc[code,'Profit']=s[3]\n",
    "        df.loc[code,'buy_times']=s[6]\n",
    "        df.loc[code,'sale_times']=s[7]\n",
    "    except Exception as ex:\n",
    "        print(code)\n",
    "        print(ex)\n",
    "        continue"
   ]
  },
  {
   "cell_type": "code",
   "execution_count": 6,
   "metadata": {},
   "outputs": [
    {
     "data": {
      "text/html": [
       "<div>\n",
       "<style scoped>\n",
       "    .dataframe tbody tr th:only-of-type {\n",
       "        vertical-align: middle;\n",
       "    }\n",
       "\n",
       "    .dataframe tbody tr th {\n",
       "        vertical-align: top;\n",
       "    }\n",
       "\n",
       "    .dataframe thead th {\n",
       "        text-align: right;\n",
       "    }\n",
       "</style>\n",
       "<table border=\"1\" class=\"dataframe\">\n",
       "  <thead>\n",
       "    <tr style=\"text-align: right;\">\n",
       "      <th></th>\n",
       "      <th>name</th>\n",
       "      <th>hold</th>\n",
       "      <th>Profit</th>\n",
       "      <th>buy_times</th>\n",
       "      <th>sale_times</th>\n",
       "    </tr>\n",
       "    <tr>\n",
       "      <th>code</th>\n",
       "      <th></th>\n",
       "      <th></th>\n",
       "      <th></th>\n",
       "      <th></th>\n",
       "      <th></th>\n",
       "    </tr>\n",
       "  </thead>\n",
       "  <tbody>\n",
       "    <tr>\n",
       "      <th>000001</th>\n",
       "      <td>平安银行</td>\n",
       "      <td>400.0</td>\n",
       "      <td>42711.0</td>\n",
       "      <td>218.0</td>\n",
       "      <td>18.0</td>\n",
       "    </tr>\n",
       "    <tr>\n",
       "      <th>000002</th>\n",
       "      <td>万 科Ａ</td>\n",
       "      <td>200.0</td>\n",
       "      <td>16873.0</td>\n",
       "      <td>187.0</td>\n",
       "      <td>29.0</td>\n",
       "    </tr>\n",
       "    <tr>\n",
       "      <th>000004</th>\n",
       "      <td>国农科技</td>\n",
       "      <td>1600.0</td>\n",
       "      <td>24724.0</td>\n",
       "      <td>207.0</td>\n",
       "      <td>29.0</td>\n",
       "    </tr>\n",
       "    <tr>\n",
       "      <th>000005</th>\n",
       "      <td>世纪星源</td>\n",
       "      <td>3800.0</td>\n",
       "      <td>7888.0</td>\n",
       "      <td>232.0</td>\n",
       "      <td>27.0</td>\n",
       "    </tr>\n",
       "    <tr>\n",
       "      <th>000006</th>\n",
       "      <td>深振业Ａ</td>\n",
       "      <td>0.0</td>\n",
       "      <td>15721.0</td>\n",
       "      <td>222.0</td>\n",
       "      <td>37.0</td>\n",
       "    </tr>\n",
       "  </tbody>\n",
       "</table>\n",
       "</div>"
      ],
      "text/plain": [
       "        name    hold   Profit  buy_times  sale_times\n",
       "code                                                \n",
       "000001  平安银行   400.0  42711.0      218.0        18.0\n",
       "000002  万 科Ａ   200.0  16873.0      187.0        29.0\n",
       "000004  国农科技  1600.0  24724.0      207.0        29.0\n",
       "000005  世纪星源  3800.0   7888.0      232.0        27.0\n",
       "000006  深振业Ａ     0.0  15721.0      222.0        37.0"
      ]
     },
     "execution_count": 6,
     "metadata": {},
     "output_type": "execute_result"
    }
   ],
   "source": [
    "df.head()"
   ]
  },
  {
   "cell_type": "code",
   "execution_count": 7,
   "metadata": {},
   "outputs": [
    {
     "data": {
      "text/plain": [
       "35755348.0"
      ]
     },
     "execution_count": 7,
     "metadata": {},
     "output_type": "execute_result"
    }
   ],
   "source": [
    "np.sum(df['Profit'])"
   ]
  },
  {
   "cell_type": "code",
   "execution_count": null,
   "metadata": {},
   "outputs": [],
   "source": []
  }
 ],
 "metadata": {
  "kernelspec": {
   "display_name": "Python 3",
   "language": "python",
   "name": "python3"
  },
  "language_info": {
   "codemirror_mode": {
    "name": "ipython",
    "version": 3
   },
   "file_extension": ".py",
   "mimetype": "text/x-python",
   "name": "python",
   "nbconvert_exporter": "python",
   "pygments_lexer": "ipython3",
   "version": "3.7.1"
  }
 },
 "nbformat": 4,
 "nbformat_minor": 2
}
