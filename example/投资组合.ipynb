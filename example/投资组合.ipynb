{
 "cells": [
  {
   "cell_type": "markdown",
   "metadata": {},
   "source": [
    "## 每日投资组合价值\n",
    "\n",
    "[https://youtu.be/UweF-2-Tr9Y](https://youtu.be/UweF-2-Tr9Y)"
   ]
  },
  {
   "cell_type": "markdown",
   "metadata": {},
   "source": [
    "## 如何计算投资组合每日的总价值\n",
    "\n",
    "[https://youtu.be/UweF-2-Tr9Y](https://youtu.be/UweF-2-Tr9Y)\n",
    "\n",
    "![](https://guqiangjs.github.io/Study/2018/07/11/machine-learning-for-trading/1532675498707.png)"
   ]
  },
  {
   "cell_type": "code",
   "execution_count": 3,
   "metadata": {},
   "outputs": [],
   "source": [
    "import pandas as pd\n",
    "import quantaxis_ext\n",
    "from QUANTAXIS import QA_fetch_stock_day_adv\n",
    "from QUANTAXIS import QA_fetch_index_day_adv\n",
    "import ploter\n",
    "import talib\n",
    "import numpy as np\n",
    "import settings\n",
    "import units\n",
    "import header\n",
    "import calculator as calc\n",
    "\n",
    "#设定绘图的默认大小\n",
    "import matplotlib\n",
    "matplotlib.rcParams[\"figure.figsize\"]=[16,5]\n",
    "\n",
    "#加载 seaborn，并且设置默认使用 seaborn\n",
    "import seaborn as sns\n",
    "sns.set()\n",
    "\n",
    "matplotlib.rcParams['font.family'] = 'sans-serif'\n",
    "matplotlib.rcParams['font.sans-serif'] = ['SimHei']\n",
    "matplotlib.rcParams['axes.unicode_minus']=False #用来正常显示负号\n",
    "\n",
    "from IPython.core.interactiveshell import InteractiveShell\n",
    "InteractiveShell.ast_node_interactivity = \"all\" "
   ]
  },
  {
   "cell_type": "markdown",
   "metadata": {},
   "source": [
    "## 投资组合假设"
   ]
  },
  {
   "cell_type": "code",
   "execution_count": 4,
   "metadata": {},
   "outputs": [],
   "source": [
    "start_val = 1000000 # 初始投资总额\n",
    "start_date = '2018-01-01' # 初始投资日期\n",
    "end_date = '2018-12-31' # 结束投资日期\n",
    "# 投资组合：贵州茅台、中国平安、招商银行、格力电器\n",
    "symbols = ['600519','601318','600036','000651'] \n",
    "# 比率分配\n",
    "allocs = [0.4,0.4,0.1,0.1]\n",
    "zs_code='000300'#指数代码。沪深300"
   ]
  },
  {
   "cell_type": "markdown",
   "metadata": {},
   "source": [
    "## 读取并计算投资组合每日收益"
   ]
  },
  {
   "cell_type": "code",
   "execution_count": 5,
   "metadata": {},
   "outputs": [
    {
     "data": {
      "text/html": [
       "<div>\n",
       "<style scoped>\n",
       "    .dataframe tbody tr th:only-of-type {\n",
       "        vertical-align: middle;\n",
       "    }\n",
       "\n",
       "    .dataframe tbody tr th {\n",
       "        vertical-align: top;\n",
       "    }\n",
       "\n",
       "    .dataframe thead th {\n",
       "        text-align: right;\n",
       "    }\n",
       "</style>\n",
       "<table border=\"1\" class=\"dataframe\">\n",
       "  <thead>\n",
       "    <tr style=\"text-align: right;\">\n",
       "      <th></th>\n",
       "      <th>zs_000300</th>\n",
       "      <th>600519</th>\n",
       "      <th>601318</th>\n",
       "      <th>600036</th>\n",
       "      <th>000651</th>\n",
       "    </tr>\n",
       "    <tr>\n",
       "      <th>date</th>\n",
       "      <th></th>\n",
       "      <th></th>\n",
       "      <th></th>\n",
       "      <th></th>\n",
       "      <th></th>\n",
       "    </tr>\n",
       "  </thead>\n",
       "  <tbody>\n",
       "    <tr>\n",
       "      <th>2018-01-03</th>\n",
       "      <td>0.005869</td>\n",
       "      <td>0.017063</td>\n",
       "      <td>-0.022317</td>\n",
       "      <td>0.011816</td>\n",
       "      <td>0.011074</td>\n",
       "    </tr>\n",
       "    <tr>\n",
       "      <th>2018-01-04</th>\n",
       "      <td>0.004237</td>\n",
       "      <td>0.029629</td>\n",
       "      <td>0.002959</td>\n",
       "      <td>-0.010677</td>\n",
       "      <td>0.020372</td>\n",
       "    </tr>\n",
       "    <tr>\n",
       "      <th>2018-01-05</th>\n",
       "      <td>0.002407</td>\n",
       "      <td>0.001750</td>\n",
       "      <td>-0.004074</td>\n",
       "      <td>0.015177</td>\n",
       "      <td>0.027909</td>\n",
       "    </tr>\n",
       "    <tr>\n",
       "      <th>2018-01-08</th>\n",
       "      <td>0.005173</td>\n",
       "      <td>0.018649</td>\n",
       "      <td>-0.012414</td>\n",
       "      <td>-0.020930</td>\n",
       "      <td>-0.001044</td>\n",
       "    </tr>\n",
       "    <tr>\n",
       "      <th>2018-01-09</th>\n",
       "      <td>0.007005</td>\n",
       "      <td>0.040405</td>\n",
       "      <td>0.026568</td>\n",
       "      <td>0.010180</td>\n",
       "      <td>0.032825</td>\n",
       "    </tr>\n",
       "  </tbody>\n",
       "</table>\n",
       "</div>"
      ],
      "text/plain": [
       "            zs_000300    600519    601318    600036    000651\n",
       "date                                                         \n",
       "2018-01-03   0.005869  0.017063 -0.022317  0.011816  0.011074\n",
       "2018-01-04   0.004237  0.029629  0.002959 -0.010677  0.020372\n",
       "2018-01-05   0.002407  0.001750 -0.004074  0.015177  0.027909\n",
       "2018-01-08   0.005173  0.018649 -0.012414 -0.020930 -0.001044\n",
       "2018-01-09   0.007005  0.040405  0.026568  0.010180  0.032825"
      ]
     },
     "execution_count": 5,
     "metadata": {},
     "output_type": "execute_result"
    },
    {
     "data": {
      "text/html": [
       "<div>\n",
       "<style scoped>\n",
       "    .dataframe tbody tr th:only-of-type {\n",
       "        vertical-align: middle;\n",
       "    }\n",
       "\n",
       "    .dataframe tbody tr th {\n",
       "        vertical-align: top;\n",
       "    }\n",
       "\n",
       "    .dataframe thead th {\n",
       "        text-align: right;\n",
       "    }\n",
       "</style>\n",
       "<table border=\"1\" class=\"dataframe\">\n",
       "  <thead>\n",
       "    <tr style=\"text-align: right;\">\n",
       "      <th></th>\n",
       "      <th>zs_000300</th>\n",
       "      <th>600519</th>\n",
       "      <th>601318</th>\n",
       "      <th>600036</th>\n",
       "      <th>000651</th>\n",
       "    </tr>\n",
       "  </thead>\n",
       "  <tbody>\n",
       "    <tr>\n",
       "      <th>count</th>\n",
       "      <td>242.000000</td>\n",
       "      <td>242.000000</td>\n",
       "      <td>242.000000</td>\n",
       "      <td>242.000000</td>\n",
       "      <td>242.000000</td>\n",
       "    </tr>\n",
       "    <tr>\n",
       "      <th>mean</th>\n",
       "      <td>-0.001172</td>\n",
       "      <td>-0.000476</td>\n",
       "      <td>-0.000867</td>\n",
       "      <td>-0.000483</td>\n",
       "      <td>-0.000706</td>\n",
       "    </tr>\n",
       "    <tr>\n",
       "      <th>std</th>\n",
       "      <td>0.013489</td>\n",
       "      <td>0.022485</td>\n",
       "      <td>0.019890</td>\n",
       "      <td>0.019234</td>\n",
       "      <td>0.023067</td>\n",
       "    </tr>\n",
       "    <tr>\n",
       "      <th>min</th>\n",
       "      <td>-0.047992</td>\n",
       "      <td>-0.100000</td>\n",
       "      <td>-0.066097</td>\n",
       "      <td>-0.064414</td>\n",
       "      <td>-0.089674</td>\n",
       "    </tr>\n",
       "    <tr>\n",
       "      <th>25%</th>\n",
       "      <td>-0.008620</td>\n",
       "      <td>-0.013649</td>\n",
       "      <td>-0.012464</td>\n",
       "      <td>-0.012367</td>\n",
       "      <td>-0.013974</td>\n",
       "    </tr>\n",
       "    <tr>\n",
       "      <th>50%</th>\n",
       "      <td>-0.001189</td>\n",
       "      <td>-0.002131</td>\n",
       "      <td>-0.000782</td>\n",
       "      <td>-0.000700</td>\n",
       "      <td>-0.002888</td>\n",
       "    </tr>\n",
       "    <tr>\n",
       "      <th>75%</th>\n",
       "      <td>0.006632</td>\n",
       "      <td>0.013026</td>\n",
       "      <td>0.011751</td>\n",
       "      <td>0.011688</td>\n",
       "      <td>0.011034</td>\n",
       "    </tr>\n",
       "    <tr>\n",
       "      <th>max</th>\n",
       "      <td>0.043165</td>\n",
       "      <td>0.065542</td>\n",
       "      <td>0.050761</td>\n",
       "      <td>0.068696</td>\n",
       "      <td>0.100097</td>\n",
       "    </tr>\n",
       "  </tbody>\n",
       "</table>\n",
       "</div>"
      ],
      "text/plain": [
       "        zs_000300      600519      601318      600036      000651\n",
       "count  242.000000  242.000000  242.000000  242.000000  242.000000\n",
       "mean    -0.001172   -0.000476   -0.000867   -0.000483   -0.000706\n",
       "std      0.013489    0.022485    0.019890    0.019234    0.023067\n",
       "min     -0.047992   -0.100000   -0.066097   -0.064414   -0.089674\n",
       "25%     -0.008620   -0.013649   -0.012464   -0.012367   -0.013974\n",
       "50%     -0.001189   -0.002131   -0.000782   -0.000700   -0.002888\n",
       "75%      0.006632    0.013026    0.011751    0.011688    0.011034\n",
       "max      0.043165    0.065542    0.050761    0.068696    0.100097"
      ]
     },
     "execution_count": 5,
     "metadata": {},
     "output_type": "execute_result"
    }
   ],
   "source": [
    "daily_return=calc.calc_daily_return(symbols,zs_code, start_date,end_date)\n",
    "daily_return.head()\n",
    "daily_return.describe()"
   ]
  },
  {
   "cell_type": "markdown",
   "metadata": {},
   "source": [
    "## 累计收益"
   ]
  },
  {
   "cell_type": "code",
   "execution_count": 12,
   "metadata": {},
   "outputs": [
    {
     "data": {
      "text/html": [
       "<div>\n",
       "<style scoped>\n",
       "    .dataframe tbody tr th:only-of-type {\n",
       "        vertical-align: middle;\n",
       "    }\n",
       "\n",
       "    .dataframe tbody tr th {\n",
       "        vertical-align: top;\n",
       "    }\n",
       "\n",
       "    .dataframe thead th {\n",
       "        text-align: right;\n",
       "    }\n",
       "</style>\n",
       "<table border=\"1\" class=\"dataframe\">\n",
       "  <thead>\n",
       "    <tr style=\"text-align: right;\">\n",
       "      <th></th>\n",
       "      <th>zs_000300</th>\n",
       "      <th>600519</th>\n",
       "      <th>601318</th>\n",
       "      <th>600036</th>\n",
       "      <th>000651</th>\n",
       "    </tr>\n",
       "    <tr>\n",
       "      <th>date</th>\n",
       "      <th></th>\n",
       "      <th></th>\n",
       "      <th></th>\n",
       "      <th></th>\n",
       "      <th></th>\n",
       "    </tr>\n",
       "  </thead>\n",
       "  <tbody>\n",
       "    <tr>\n",
       "      <th>2018-01-02</th>\n",
       "      <td>4087.4</td>\n",
       "      <td>703.85</td>\n",
       "      <td>72.59</td>\n",
       "      <td>29.62</td>\n",
       "      <td>45.15</td>\n",
       "    </tr>\n",
       "  </tbody>\n",
       "</table>\n",
       "</div>"
      ],
      "text/plain": [
       "            zs_000300  600519  601318  600036  000651\n",
       "date                                                 \n",
       "2018-01-02     4087.4  703.85   72.59   29.62   45.15"
      ]
     },
     "execution_count": 12,
     "metadata": {},
     "output_type": "execute_result"
    },
    {
     "data": {
      "text/html": [
       "<div>\n",
       "<style scoped>\n",
       "    .dataframe tbody tr th:only-of-type {\n",
       "        vertical-align: middle;\n",
       "    }\n",
       "\n",
       "    .dataframe tbody tr th {\n",
       "        vertical-align: top;\n",
       "    }\n",
       "\n",
       "    .dataframe thead th {\n",
       "        text-align: right;\n",
       "    }\n",
       "</style>\n",
       "<table border=\"1\" class=\"dataframe\">\n",
       "  <thead>\n",
       "    <tr style=\"text-align: right;\">\n",
       "      <th></th>\n",
       "      <th>zs_000300</th>\n",
       "      <th>600519</th>\n",
       "      <th>601318</th>\n",
       "      <th>600036</th>\n",
       "      <th>000651</th>\n",
       "    </tr>\n",
       "    <tr>\n",
       "      <th>date</th>\n",
       "      <th></th>\n",
       "      <th></th>\n",
       "      <th></th>\n",
       "      <th></th>\n",
       "      <th></th>\n",
       "    </tr>\n",
       "  </thead>\n",
       "  <tbody>\n",
       "    <tr>\n",
       "      <th>2018-12-28</th>\n",
       "      <td>3010.65</td>\n",
       "      <td>590.01</td>\n",
       "      <td>56.1</td>\n",
       "      <td>25.2</td>\n",
       "      <td>35.69</td>\n",
       "    </tr>\n",
       "  </tbody>\n",
       "</table>\n",
       "</div>"
      ],
      "text/plain": [
       "            zs_000300  600519  601318  600036  000651\n",
       "date                                                 \n",
       "2018-12-28    3010.65  590.01    56.1    25.2   35.69"
      ]
     },
     "execution_count": 12,
     "metadata": {},
     "output_type": "execute_result"
    }
   ],
   "source": [
    "daily_df=quantaxis_ext.fetch_index_stock_daily_adv(symbols,zs_code, start_date,end_date)\n",
    "daily_df.head(1)\n",
    "daily_df.tail(1)"
   ]
  },
  {
   "cell_type": "code",
   "execution_count": 14,
   "metadata": {},
   "outputs": [
    {
     "data": {
      "text/plain": [
       "zs_000300    -26.34%\n",
       "600519       -16.17%\n",
       "601318       -22.72%\n",
       "600036       -14.92%\n",
       "000651       -20.95%\n",
       "dtype: object"
      ]
     },
     "execution_count": 14,
     "metadata": {},
     "output_type": "execute_result"
    }
   ],
   "source": [
    "cum_ret=(daily_df.iloc[-1]/daily_df.iloc[0])-1\n",
    "cum_ret.map('{:.2%}'.format)"
   ]
  },
  {
   "cell_type": "code",
   "execution_count": 17,
   "metadata": {},
   "outputs": [
    {
     "data": {
      "text/plain": [
       "<matplotlib.axes._subplots.AxesSubplot at 0x122e487b8>"
      ]
     },
     "execution_count": 17,
     "metadata": {},
     "output_type": "execute_result"
    },
    {
     "data": {
      "image/png": "[encoded data removed]",
      "text/plain": [
       "<Figure size 432x288 with 1 Axes>"
      ]
     },
     "metadata": {
      "needs_background": "light"
     },
     "output_type": "display_data"
    }
   ],
   "source": [
    "cum_ret.plot(kind='bar')"
   ]
  },
  {
   "cell_type": "markdown",
   "metadata": {},
   "source": [
    "## 按照设定的比率计算组合剩余价值\n",
    "\n",
    "### 收盘价归一化。所有收盘价数据从1开始计算。"
   ]
  },
  {
   "cell_type": "code",
   "execution_count": 27,
   "metadata": {},
   "outputs": [
    {
     "data": {
      "text/html": [
       "<div>\n",
       "<style scoped>\n",
       "    .dataframe tbody tr th:only-of-type {\n",
       "        vertical-align: middle;\n",
       "    }\n",
       "\n",
       "    .dataframe tbody tr th {\n",
       "        vertical-align: top;\n",
       "    }\n",
       "\n",
       "    .dataframe thead th {\n",
       "        text-align: right;\n",
       "    }\n",
       "</style>\n",
       "<table border=\"1\" class=\"dataframe\">\n",
       "  <thead>\n",
       "    <tr style=\"text-align: right;\">\n",
       "      <th></th>\n",
       "      <th>600519</th>\n",
       "      <th>601318</th>\n",
       "      <th>600036</th>\n",
       "      <th>000651</th>\n",
       "    </tr>\n",
       "    <tr>\n",
       "      <th>date</th>\n",
       "      <th></th>\n",
       "      <th></th>\n",
       "      <th></th>\n",
       "      <th></th>\n",
       "    </tr>\n",
       "  </thead>\n",
       "  <tbody>\n",
       "    <tr>\n",
       "      <th>2018-01-02</th>\n",
       "      <td>1.000000</td>\n",
       "      <td>1.000000</td>\n",
       "      <td>1.000000</td>\n",
       "      <td>1.000000</td>\n",
       "    </tr>\n",
       "    <tr>\n",
       "      <th>2018-01-03</th>\n",
       "      <td>1.017063</td>\n",
       "      <td>0.977683</td>\n",
       "      <td>1.011816</td>\n",
       "      <td>1.011074</td>\n",
       "    </tr>\n",
       "    <tr>\n",
       "      <th>2018-01-04</th>\n",
       "      <td>1.047198</td>\n",
       "      <td>0.980576</td>\n",
       "      <td>1.001013</td>\n",
       "      <td>1.031672</td>\n",
       "    </tr>\n",
       "    <tr>\n",
       "      <th>2018-01-05</th>\n",
       "      <td>1.049030</td>\n",
       "      <td>0.976581</td>\n",
       "      <td>1.016205</td>\n",
       "      <td>1.060465</td>\n",
       "    </tr>\n",
       "    <tr>\n",
       "      <th>2018-01-08</th>\n",
       "      <td>1.068594</td>\n",
       "      <td>0.964458</td>\n",
       "      <td>0.994936</td>\n",
       "      <td>1.059358</td>\n",
       "    </tr>\n",
       "  </tbody>\n",
       "</table>\n",
       "</div>"
      ],
      "text/plain": [
       "              600519    601318    600036    000651\n",
       "date                                              \n",
       "2018-01-02  1.000000  1.000000  1.000000  1.000000\n",
       "2018-01-03  1.017063  0.977683  1.011816  1.011074\n",
       "2018-01-04  1.047198  0.980576  1.001013  1.031672\n",
       "2018-01-05  1.049030  0.976581  1.016205  1.060465\n",
       "2018-01-08  1.068594  0.964458  0.994936  1.059358"
      ]
     },
     "execution_count": 27,
     "metadata": {},
     "output_type": "execute_result"
    }
   ],
   "source": [
    "# 移除指数列\n",
    "daily_normed = daily_df.copy().drop('zs_'+zs_code, axis=1)\n",
    "# 收盘价归一化\n",
    "daily_normed=daily_normed/daily_normed.iloc[0]\n",
    "daily_normed.head()"
   ]
  },
  {
   "cell_type": "markdown",
   "metadata": {},
   "source": [
    "### 每日剩余价值明细"
   ]
  },
  {
   "cell_type": "code",
   "execution_count": 29,
   "metadata": {},
   "outputs": [
    {
     "data": {
      "text/html": [
       "<div>\n",
       "<style scoped>\n",
       "    .dataframe tbody tr th:only-of-type {\n",
       "        vertical-align: middle;\n",
       "    }\n",
       "\n",
       "    .dataframe tbody tr th {\n",
       "        vertical-align: top;\n",
       "    }\n",
       "\n",
       "    .dataframe thead th {\n",
       "        text-align: right;\n",
       "    }\n",
       "</style>\n",
       "<table border=\"1\" class=\"dataframe\">\n",
       "  <thead>\n",
       "    <tr style=\"text-align: right;\">\n",
       "      <th></th>\n",
       "      <th>600519</th>\n",
       "      <th>601318</th>\n",
       "      <th>600036</th>\n",
       "      <th>000651</th>\n",
       "    </tr>\n",
       "    <tr>\n",
       "      <th>date</th>\n",
       "      <th></th>\n",
       "      <th></th>\n",
       "      <th></th>\n",
       "      <th></th>\n",
       "    </tr>\n",
       "  </thead>\n",
       "  <tbody>\n",
       "    <tr>\n",
       "      <th>2018-01-02</th>\n",
       "      <td>400000.000000</td>\n",
       "      <td>400000.000000</td>\n",
       "      <td>100000.000000</td>\n",
       "      <td>100000.000000</td>\n",
       "    </tr>\n",
       "    <tr>\n",
       "      <th>2018-01-03</th>\n",
       "      <td>406825.317894</td>\n",
       "      <td>391073.150572</td>\n",
       "      <td>101181.634031</td>\n",
       "      <td>101107.419712</td>\n",
       "    </tr>\n",
       "  </tbody>\n",
       "</table>\n",
       "</div>"
      ],
      "text/plain": [
       "                   600519         601318         600036         000651\n",
       "date                                                                  \n",
       "2018-01-02  400000.000000  400000.000000  100000.000000  100000.000000\n",
       "2018-01-03  406825.317894  391073.150572  101181.634031  101107.419712"
      ]
     },
     "execution_count": 29,
     "metadata": {},
     "output_type": "execute_result"
    },
    {
     "data": {
      "text/html": [
       "<div>\n",
       "<style scoped>\n",
       "    .dataframe tbody tr th:only-of-type {\n",
       "        vertical-align: middle;\n",
       "    }\n",
       "\n",
       "    .dataframe tbody tr th {\n",
       "        vertical-align: top;\n",
       "    }\n",
       "\n",
       "    .dataframe thead th {\n",
       "        text-align: right;\n",
       "    }\n",
       "</style>\n",
       "<table border=\"1\" class=\"dataframe\">\n",
       "  <thead>\n",
       "    <tr style=\"text-align: right;\">\n",
       "      <th></th>\n",
       "      <th>600519</th>\n",
       "      <th>601318</th>\n",
       "      <th>600036</th>\n",
       "      <th>000651</th>\n",
       "    </tr>\n",
       "    <tr>\n",
       "      <th>date</th>\n",
       "      <th></th>\n",
       "      <th></th>\n",
       "      <th></th>\n",
       "      <th></th>\n",
       "    </tr>\n",
       "  </thead>\n",
       "  <tbody>\n",
       "    <tr>\n",
       "      <th>2018-12-27</th>\n",
       "      <td>319954.535768</td>\n",
       "      <td>313541.810167</td>\n",
       "      <td>83896.016205</td>\n",
       "      <td>79025.470653</td>\n",
       "    </tr>\n",
       "    <tr>\n",
       "      <th>2018-12-28</th>\n",
       "      <td>335304.397244</td>\n",
       "      <td>309133.489461</td>\n",
       "      <td>85077.650236</td>\n",
       "      <td>79047.619048</td>\n",
       "    </tr>\n",
       "  </tbody>\n",
       "</table>\n",
       "</div>"
      ],
      "text/plain": [
       "                   600519         601318        600036        000651\n",
       "date                                                                \n",
       "2018-12-27  319954.535768  313541.810167  83896.016205  79025.470653\n",
       "2018-12-28  335304.397244  309133.489461  85077.650236  79047.619048"
      ]
     },
     "execution_count": 29,
     "metadata": {},
     "output_type": "execute_result"
    }
   ],
   "source": [
    "port_val=daily_normed*allocs*start_val\n",
    "port_val.head(2)\n",
    "port_val.tail(2)"
   ]
  },
  {
   "cell_type": "markdown",
   "metadata": {},
   "source": [
    "### 每日剩余价值汇总"
   ]
  },
  {
   "cell_type": "code",
   "execution_count": 32,
   "metadata": {},
   "outputs": [
    {
     "data": {
      "text/plain": [
       "date\n",
       "2018-01-02    1.000000e+06\n",
       "2018-01-03    1.000188e+06\n",
       "dtype: float64"
      ]
     },
     "execution_count": 32,
     "metadata": {},
     "output_type": "execute_result"
    },
    {
     "data": {
      "text/plain": [
       "date\n",
       "2018-12-27    796417.832793\n",
       "2018-12-28    808563.155989\n",
       "dtype: float64"
      ]
     },
     "execution_count": 32,
     "metadata": {},
     "output_type": "execute_result"
    }
   ],
   "source": [
    "port_vals=port_val.sum(axis=1)\n",
    "port_vals.head(2)\n",
    "port_vals.tail(2)"
   ]
  },
  {
   "cell_type": "markdown",
   "metadata": {},
   "source": [
    "---\n",
    "投资组合 [贵州茅台、中国平安、招商银行、格力电器] 投资比率 [0.4,0.4,0.1,0.1]\n",
    "\n",
    "比较对象 沪深300指数\n",
    "\n",
    "比较时间：2018年全年\n",
    "\n",
    "年度收益：\n",
    "\n",
    "    * 沪深300指数    -26.34%\n",
    "    * 贵州茅台       -16.17%\n",
    "    * 中国平安       -22.72%\n",
    "    * 招商银行       -14.92%\n",
    "    * 格力电器       -20.95%\n",
    "\n",
    "根据预定投资比率计算。期初资金1000000元，期末资金808563元。盈亏-19.14%。跑赢指数。"
   ]
  },
  {
   "cell_type": "code",
   "execution_count": null,
   "metadata": {},
   "outputs": [],
   "source": []
  }
 ],
 "metadata": {
  "kernelspec": {
   "display_name": "Python 3",
   "language": "python",
   "name": "python3"
  },
  "language_info": {
   "codemirror_mode": {
    "name": "ipython",
    "version": 3
   },
   "file_extension": ".py",
   "mimetype": "text/x-python",
   "name": "python",
   "nbconvert_exporter": "python",
   "pygments_lexer": "ipython3",
   "version": "3.7.2"
  }
 },
 "nbformat": 4,
 "nbformat_minor": 2
}
