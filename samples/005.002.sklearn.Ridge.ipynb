{
 "cells": [
  {
   "cell_type": "code",
   "execution_count": 318,
   "metadata": {},
   "outputs": [],
   "source": [
    "import QUANTAXIS as QA\n",
    "import jupyter_helper\n",
    "import talib\n",
    "import numpy as np\n",
    "import pyecharts\n",
    "import pandas as pd\n",
    "import seaborn as sns\n",
    "from sklearn.preprocessing import MinMaxScaler\n",
    "from sklearn.model_selection import train_test_split\n",
    "from sklearn.linear_model import ElasticNet\n",
    "from sklearn.linear_model import Lasso\n",
    "from sklearn.linear_model import Ridge\n",
    "from sklearn.metrics import accuracy_score\n",
    "from talib import MA_Type"
   ]
  },
  {
   "cell_type": "code",
   "execution_count": 2,
   "metadata": {},
   "outputs": [],
   "source": [
    "s,e=jupyter_helper.get_start_end_date()\n",
    "benchmark_code=jupyter_helper.get_benchmark_code()\n",
    "stock_code='601398'\n",
    "DAYS=5#计算时间段"
   ]
  },
  {
   "cell_type": "markdown",
   "metadata": {},
   "source": [
    "## 原始数据（不复权）"
   ]
  },
  {
   "cell_type": "code",
   "execution_count": 82,
   "metadata": {},
   "outputs": [],
   "source": [
    "raw_data=QA.QA_fetch_stock_day_adv(stock_code,s,e)"
   ]
  },
  {
   "cell_type": "code",
   "execution_count": 83,
   "metadata": {},
   "outputs": [],
   "source": [
    "qfq_data=raw_data.to_qfq().data.reset_index().set_index('date')#DataFrame格式"
   ]
  },
  {
   "cell_type": "code",
   "execution_count": 84,
   "metadata": {},
   "outputs": [
    {
     "data": {
      "text/html": [
       "<div>\n",
       "<style scoped>\n",
       "    .dataframe tbody tr th:only-of-type {\n",
       "        vertical-align: middle;\n",
       "    }\n",
       "\n",
       "    .dataframe tbody tr th {\n",
       "        vertical-align: top;\n",
       "    }\n",
       "\n",
       "    .dataframe thead th {\n",
       "        text-align: right;\n",
       "    }\n",
       "</style>\n",
       "<table border=\"1\" class=\"dataframe\">\n",
       "  <thead>\n",
       "    <tr style=\"text-align: right;\">\n",
       "      <th></th>\n",
       "      <th>code</th>\n",
       "      <th>open</th>\n",
       "      <th>high</th>\n",
       "      <th>low</th>\n",
       "      <th>close</th>\n",
       "      <th>volume</th>\n",
       "      <th>amount</th>\n",
       "      <th>preclose</th>\n",
       "      <th>adj</th>\n",
       "    </tr>\n",
       "    <tr>\n",
       "      <th>date</th>\n",
       "      <th></th>\n",
       "      <th></th>\n",
       "      <th></th>\n",
       "      <th></th>\n",
       "      <th></th>\n",
       "      <th></th>\n",
       "      <th></th>\n",
       "      <th></th>\n",
       "      <th></th>\n",
       "    </tr>\n",
       "  </thead>\n",
       "  <tbody>\n",
       "    <tr>\n",
       "      <th>2006-10-27</th>\n",
       "      <td>601398</td>\n",
       "      <td>1.992133</td>\n",
       "      <td>2.01557</td>\n",
       "      <td>1.910104</td>\n",
       "      <td>1.921823</td>\n",
       "      <td>4.407654e+07</td>\n",
       "      <td>8.725310e+09</td>\n",
       "      <td>NaN</td>\n",
       "      <td>0.585922</td>\n",
       "    </tr>\n",
       "  </tbody>\n",
       "</table>\n",
       "</div>"
      ],
      "text/plain": [
       "              code      open     high       low     close        volume  \\\n",
       "date                                                                      \n",
       "2006-10-27  601398  1.992133  2.01557  1.910104  1.921823  4.407654e+07   \n",
       "\n",
       "                  amount  preclose       adj  \n",
       "date                                          \n",
       "2006-10-27  8.725310e+09       NaN  0.585922  "
      ]
     },
     "execution_count": 84,
     "metadata": {},
     "output_type": "execute_result"
    }
   ],
   "source": [
    "qfq_data.head(1)"
   ]
  },
  {
   "cell_type": "markdown",
   "metadata": {},
   "source": [
    "## 计算用原始数据"
   ]
  },
  {
   "cell_type": "code",
   "execution_count": 85,
   "metadata": {},
   "outputs": [
    {
     "data": {
      "text/html": [
       "<div>\n",
       "<style scoped>\n",
       "    .dataframe tbody tr th:only-of-type {\n",
       "        vertical-align: middle;\n",
       "    }\n",
       "\n",
       "    .dataframe tbody tr th {\n",
       "        vertical-align: top;\n",
       "    }\n",
       "\n",
       "    .dataframe thead th {\n",
       "        text-align: right;\n",
       "    }\n",
       "</style>\n",
       "<table border=\"1\" class=\"dataframe\">\n",
       "  <thead>\n",
       "    <tr style=\"text-align: right;\">\n",
       "      <th></th>\n",
       "      <th>open</th>\n",
       "      <th>high</th>\n",
       "      <th>low</th>\n",
       "      <th>close</th>\n",
       "      <th>volume</th>\n",
       "      <th>amount</th>\n",
       "    </tr>\n",
       "    <tr>\n",
       "      <th>date</th>\n",
       "      <th></th>\n",
       "      <th></th>\n",
       "      <th></th>\n",
       "      <th></th>\n",
       "      <th></th>\n",
       "      <th></th>\n",
       "    </tr>\n",
       "  </thead>\n",
       "  <tbody>\n",
       "    <tr>\n",
       "      <th>2006-10-27</th>\n",
       "      <td>1.992133</td>\n",
       "      <td>2.01557</td>\n",
       "      <td>1.910104</td>\n",
       "      <td>1.921823</td>\n",
       "      <td>4.407654e+07</td>\n",
       "      <td>8.725310e+09</td>\n",
       "    </tr>\n",
       "  </tbody>\n",
       "</table>\n",
       "</div>"
      ],
      "text/plain": [
       "                open     high       low     close        volume        amount\n",
       "date                                                                         \n",
       "2006-10-27  1.992133  2.01557  1.910104  1.921823  4.407654e+07  8.725310e+09"
      ]
     },
     "execution_count": 85,
     "metadata": {},
     "output_type": "execute_result"
    }
   ],
   "source": [
    "calc_data_raw=qfq_data.drop(columns=['code','preclose','adj'])#丢弃多余的列\n",
    "calc_data_raw.head(1)"
   ]
  },
  {
   "cell_type": "markdown",
   "metadata": {},
   "source": [
    "## 计算用加工后数据"
   ]
  },
  {
   "cell_type": "markdown",
   "metadata": {},
   "source": [
    "### 将原值中 volume ，amount 做归一化处理"
   ]
  },
  {
   "cell_type": "code",
   "execution_count": 86,
   "metadata": {},
   "outputs": [
    {
     "data": {
      "text/html": [
       "<div>\n",
       "<style scoped>\n",
       "    .dataframe tbody tr th:only-of-type {\n",
       "        vertical-align: middle;\n",
       "    }\n",
       "\n",
       "    .dataframe tbody tr th {\n",
       "        vertical-align: top;\n",
       "    }\n",
       "\n",
       "    .dataframe thead th {\n",
       "        text-align: right;\n",
       "    }\n",
       "</style>\n",
       "<table border=\"1\" class=\"dataframe\">\n",
       "  <thead>\n",
       "    <tr style=\"text-align: right;\">\n",
       "      <th></th>\n",
       "      <th>open</th>\n",
       "      <th>high</th>\n",
       "      <th>low</th>\n",
       "      <th>close</th>\n",
       "      <th>volume</th>\n",
       "      <th>amount</th>\n",
       "    </tr>\n",
       "    <tr>\n",
       "      <th>date</th>\n",
       "      <th></th>\n",
       "      <th></th>\n",
       "      <th></th>\n",
       "      <th></th>\n",
       "      <th></th>\n",
       "      <th></th>\n",
       "    </tr>\n",
       "  </thead>\n",
       "  <tbody>\n",
       "    <tr>\n",
       "      <th>2006-10-27</th>\n",
       "      <td>1.992133</td>\n",
       "      <td>2.01557</td>\n",
       "      <td>1.910104</td>\n",
       "      <td>1.921823</td>\n",
       "      <td>1.0</td>\n",
       "      <td>0.52128</td>\n",
       "    </tr>\n",
       "  </tbody>\n",
       "</table>\n",
       "</div>"
      ],
      "text/plain": [
       "                open     high       low     close  volume   amount\n",
       "date                                                              \n",
       "2006-10-27  1.992133  2.01557  1.910104  1.921823     1.0  0.52128"
      ]
     },
     "execution_count": 86,
     "metadata": {},
     "output_type": "execute_result"
    }
   ],
   "source": [
    "# calc_data=calc_data_raw.pct_change()[1:]\n",
    "calc_data=calc_data_raw.copy()\n",
    "for column in ['amount','volume']:\n",
    "    calc_data[[column]]=MinMaxScaler().fit_transform(calc_data[[column]])\n",
    "calc_data.head(1)"
   ]
  },
  {
   "cell_type": "code",
   "execution_count": 87,
   "metadata": {},
   "outputs": [
    {
     "data": {
      "text/html": [
       "<div>\n",
       "<style scoped>\n",
       "    .dataframe tbody tr th:only-of-type {\n",
       "        vertical-align: middle;\n",
       "    }\n",
       "\n",
       "    .dataframe tbody tr th {\n",
       "        vertical-align: top;\n",
       "    }\n",
       "\n",
       "    .dataframe thead th {\n",
       "        text-align: right;\n",
       "    }\n",
       "</style>\n",
       "<table border=\"1\" class=\"dataframe\">\n",
       "  <thead>\n",
       "    <tr style=\"text-align: right;\">\n",
       "      <th></th>\n",
       "      <th>open</th>\n",
       "      <th>high</th>\n",
       "      <th>low</th>\n",
       "      <th>close</th>\n",
       "      <th>volume</th>\n",
       "      <th>amount</th>\n",
       "    </tr>\n",
       "  </thead>\n",
       "  <tbody>\n",
       "    <tr>\n",
       "      <th>count</th>\n",
       "      <td>2948.000000</td>\n",
       "      <td>2948.000000</td>\n",
       "      <td>2948.000000</td>\n",
       "      <td>2948.000000</td>\n",
       "      <td>2948.000000</td>\n",
       "      <td>2948.000000</td>\n",
       "    </tr>\n",
       "    <tr>\n",
       "      <th>mean</th>\n",
       "      <td>3.554996</td>\n",
       "      <td>3.597808</td>\n",
       "      <td>3.516377</td>\n",
       "      <td>3.560160</td>\n",
       "      <td>0.052923</td>\n",
       "      <td>0.052411</td>\n",
       "    </tr>\n",
       "    <tr>\n",
       "      <th>std</th>\n",
       "      <td>1.002676</td>\n",
       "      <td>1.017516</td>\n",
       "      <td>0.990389</td>\n",
       "      <td>1.005053</td>\n",
       "      <td>0.067586</td>\n",
       "      <td>0.070880</td>\n",
       "    </tr>\n",
       "    <tr>\n",
       "      <th>min</th>\n",
       "      <td>1.915963</td>\n",
       "      <td>1.933541</td>\n",
       "      <td>1.888271</td>\n",
       "      <td>1.921823</td>\n",
       "      <td>0.000000</td>\n",
       "      <td>0.000000</td>\n",
       "    </tr>\n",
       "    <tr>\n",
       "      <th>25%</th>\n",
       "      <td>2.868193</td>\n",
       "      <td>2.891491</td>\n",
       "      <td>2.841474</td>\n",
       "      <td>2.869440</td>\n",
       "      <td>0.013480</td>\n",
       "      <td>0.011747</td>\n",
       "    </tr>\n",
       "    <tr>\n",
       "      <th>50%</th>\n",
       "      <td>3.077302</td>\n",
       "      <td>3.123482</td>\n",
       "      <td>3.043764</td>\n",
       "      <td>3.088881</td>\n",
       "      <td>0.029359</td>\n",
       "      <td>0.027901</td>\n",
       "    </tr>\n",
       "    <tr>\n",
       "      <th>75%</th>\n",
       "      <td>4.058404</td>\n",
       "      <td>4.089194</td>\n",
       "      <td>4.024172</td>\n",
       "      <td>4.060658</td>\n",
       "      <td>0.065786</td>\n",
       "      <td>0.065821</td>\n",
       "    </tr>\n",
       "    <tr>\n",
       "      <th>max</th>\n",
       "      <td>7.276664</td>\n",
       "      <td>7.439432</td>\n",
       "      <td>7.142620</td>\n",
       "      <td>7.420283</td>\n",
       "      <td>1.000000</td>\n",
       "      <td>1.000000</td>\n",
       "    </tr>\n",
       "  </tbody>\n",
       "</table>\n",
       "</div>"
      ],
      "text/plain": [
       "              open         high          low        close       volume  \\\n",
       "count  2948.000000  2948.000000  2948.000000  2948.000000  2948.000000   \n",
       "mean      3.554996     3.597808     3.516377     3.560160     0.052923   \n",
       "std       1.002676     1.017516     0.990389     1.005053     0.067586   \n",
       "min       1.915963     1.933541     1.888271     1.921823     0.000000   \n",
       "25%       2.868193     2.891491     2.841474     2.869440     0.013480   \n",
       "50%       3.077302     3.123482     3.043764     3.088881     0.029359   \n",
       "75%       4.058404     4.089194     4.024172     4.060658     0.065786   \n",
       "max       7.276664     7.439432     7.142620     7.420283     1.000000   \n",
       "\n",
       "            amount  \n",
       "count  2948.000000  \n",
       "mean      0.052411  \n",
       "std       0.070880  \n",
       "min       0.000000  \n",
       "25%       0.011747  \n",
       "50%       0.027901  \n",
       "75%       0.065821  \n",
       "max       1.000000  "
      ]
     },
     "execution_count": 87,
     "metadata": {},
     "output_type": "execute_result"
    }
   ],
   "source": [
    "calc_data.describe()"
   ]
  },
  {
   "cell_type": "markdown",
   "metadata": {},
   "source": [
    "## 获取计算用数据的方法定义"
   ]
  },
  {
   "cell_type": "code",
   "execution_count": 152,
   "metadata": {},
   "outputs": [],
   "source": [
    "def get_calc_data(stock_code,s,e,drop_columns=['code','preclose','adj'],minmaxscaler=['amount','volume']):\n",
    "    raw_data=QA.QA_fetch_stock_day_adv(stock_code,s,e)\n",
    "    qfq_data=raw_data.to_qfq().data.reset_index().set_index('date')#DataFrame格式\n",
    "    calc_data=qfq_data.copy()\n",
    "    if drop_columns:\n",
    "        calc_data=calc_data.drop(columns=drop_columns)#丢弃多余的列\n",
    "    if minmaxscaler:\n",
    "        calc_data[minmaxscaler]=MinMaxScaler().fit_transform(calc_data[minmaxscaler])\n",
    "    return calc_data"
   ]
  },
  {
   "cell_type": "markdown",
   "metadata": {},
   "source": [
    "## 计算方法定义"
   ]
  },
  {
   "cell_type": "code",
   "execution_count": 382,
   "metadata": {
    "code_folding": [
     0
    ]
   },
   "outputs": [],
   "source": [
    "def create_validate_df(df,days)->pd.DataFrame:\n",
    "    '''根据 `df` 中的 high,low 列，制作新的数据。\n",
    "    根据 `days` 指定的日期，选择 当前日期 之后的 `days`，分别选择其中最大，最小的 `high`,`low` 生成数据。\n",
    "    '''\n",
    "    result={}\n",
    "    if 'high' not in df.columns or 'low' not in df.columns:\n",
    "        raise ValueError('数据中不包含 high,low 列。')\n",
    "    result=[]\n",
    "    for i in range(len(calc_data.index)-days):\n",
    "        result.append([calc_data[i+1:i+days].high.max(),\n",
    "                     calc_data[i+1:i+days].high.min(),\n",
    "                      calc_data[i+1:i+days].low.max(),\n",
    "                     calc_data[i+1:i+days].low.min()])\n",
    "    return pd.DataFrame(result,columns=['high_max','high_min','low_max','low_min'],index=calc_data.index[:-days])\n",
    "\n",
    "def create_validate_df_1(df,days)->pd.DataFrame:\n",
    "    '''根据 `df` 中的 close 列，制作新的数据。\n",
    "    '''\n",
    "    result={}\n",
    "    if 'close' not in df.columns:\n",
    "        raise ValueError('数据中不包含 close 列。')\n",
    "    df_copy=df.copy()\n",
    "    for i in range(1,days+1):\n",
    "        df_copy[i]=df_copy.shift(i*-1).close\n",
    "    return df_copy[[i for i in range(1,days+1)]].dropna()\n",
    "\n",
    "def fit(df,days,test_size=0.1,func=ElasticNet,create_validate_func=create_validate_df_1):\n",
    "    \"\"\"\n",
    "    Args:\n",
    "        test_size: 测试集占比\n",
    "    \"\"\"\n",
    "    y=create_validate_func(df,days)\n",
    "    X=df[df.index.isin(y.index)]\n",
    "#     y=np.round(y,4)\n",
    "#     X=np.round(X,4)\n",
    "    #定义测试\n",
    "    shuffle = False  # 对于时间序列来说，不能把数据打乱\n",
    "    X_train, X_test, y_train, y_test = train_test_split(\n",
    "        X, y, shuffle=shuffle, test_size=test_size)\n",
    "    X_train.shape,X_test.shape,y_train.shape,y_test.shape\n",
    "    enet = func()\n",
    "    fit=enet.fit(X_train, y_train)\n",
    "    return fit,X_train, X_test, y_train, y_test\n",
    "\n",
    "def get_prediction(f,days,df):\n",
    "    test=f.predict(df)\n",
    "    result=df['close'].reset_index().join(pd.DataFrame(test,columns=[i for i in range(1,days+1)])).set_index('date')\n",
    "    return result\n",
    "    return result['close'][1:].to_frame().reset_index().join(result.iloc[0].to_frame('prediction')).set_index('date')\n",
    "\n",
    "# def report_prediction(f,days,df):\n",
    "#     p=get_prediction(f,days,df)\n",
    "#     pct_c=p.pct_change()\n",
    "#     print(p.iloc[-1]/p.iloc[0]-1)\n",
    "#     bar=pyecharts.Bar('原值与预测值')\n",
    "#     bar.add(\"原值\",p.index.date,p['close'])\n",
    "#     bar.add('预测值',p.index.date,p['prediction'])\n",
    "#     return p,pct_c,bar"
   ]
  },
  {
   "cell_type": "markdown",
   "metadata": {},
   "source": [
    "## 得分"
   ]
  },
  {
   "cell_type": "markdown",
   "metadata": {},
   "source": [
    "### RSI数据"
   ]
  },
  {
   "cell_type": "code",
   "execution_count": 195,
   "metadata": {},
   "outputs": [],
   "source": [
    "calc_data=get_calc_data(stock_code,s,e)\n",
    "calc_data['rsi']=talib.RSI(np.array(calc_data_raw.close),DAYS)\n",
    "calc_data=calc_data.dropna()\n",
    "calc_data[['rsi']]=MinMaxScaler().fit_transform(calc_data[['rsi']])\n",
    "# calc_data"
   ]
  },
  {
   "cell_type": "markdown",
   "metadata": {},
   "source": [
    "#### ElasticNet"
   ]
  },
  {
   "cell_type": "code",
   "execution_count": 196,
   "metadata": {},
   "outputs": [
    {
     "data": {
      "text/plain": [
       "-24.95956935375647"
      ]
     },
     "execution_count": 196,
     "metadata": {},
     "output_type": "execute_result"
    }
   ],
   "source": [
    "f,X_train, X_test, y_train, y_test=fit(calc_data,DAYS)\n",
    "f.score(X_test.dropna(),y_test.dropna())"
   ]
  },
  {
   "cell_type": "markdown",
   "metadata": {},
   "source": [
    "#### Lasso"
   ]
  },
  {
   "cell_type": "code",
   "execution_count": 197,
   "metadata": {},
   "outputs": [
    {
     "data": {
      "text/plain": [
       "-26.831415085527684"
      ]
     },
     "execution_count": 197,
     "metadata": {},
     "output_type": "execute_result"
    }
   ],
   "source": [
    "f,X_train, X_test, y_train, y_test=fit(calc_data,DAYS,func=Lasso)\n",
    "f.score(X_test.dropna(),y_test.dropna())"
   ]
  },
  {
   "cell_type": "markdown",
   "metadata": {},
   "source": [
    "#### Ridge"
   ]
  },
  {
   "cell_type": "code",
   "execution_count": 198,
   "metadata": {},
   "outputs": [
    {
     "data": {
      "text/plain": [
       "0.8559345052345169"
      ]
     },
     "execution_count": 198,
     "metadata": {},
     "output_type": "execute_result"
    }
   ],
   "source": [
    "f,X_train, X_test, y_train, y_test=fit(calc_data,DAYS,func=Ridge)\n",
    "f.score(X_test.dropna(),y_test.dropna())"
   ]
  },
  {
   "cell_type": "code",
   "execution_count": 205,
   "metadata": {},
   "outputs": [
    {
     "data": {
      "text/html": [
       "<div>\n",
       "<style scoped>\n",
       "    .dataframe tbody tr th:only-of-type {\n",
       "        vertical-align: middle;\n",
       "    }\n",
       "\n",
       "    .dataframe tbody tr th {\n",
       "        vertical-align: top;\n",
       "    }\n",
       "\n",
       "    .dataframe thead th {\n",
       "        text-align: right;\n",
       "    }\n",
       "</style>\n",
       "<table border=\"1\" class=\"dataframe\">\n",
       "  <thead>\n",
       "    <tr style=\"text-align: right;\">\n",
       "      <th></th>\n",
       "      <th>close</th>\n",
       "      <th>prediction</th>\n",
       "    </tr>\n",
       "    <tr>\n",
       "      <th>date</th>\n",
       "      <th></th>\n",
       "      <th></th>\n",
       "    </tr>\n",
       "  </thead>\n",
       "  <tbody>\n",
       "    <tr>\n",
       "      <th>2019-01-04</th>\n",
       "      <td>5.27</td>\n",
       "      <td>5.197616</td>\n",
       "    </tr>\n",
       "    <tr>\n",
       "      <th>2019-01-07</th>\n",
       "      <td>5.24</td>\n",
       "      <td>5.195257</td>\n",
       "    </tr>\n",
       "    <tr>\n",
       "      <th>2019-01-08</th>\n",
       "      <td>5.20</td>\n",
       "      <td>5.192693</td>\n",
       "    </tr>\n",
       "    <tr>\n",
       "      <th>2019-01-09</th>\n",
       "      <td>5.26</td>\n",
       "      <td>5.193046</td>\n",
       "    </tr>\n",
       "  </tbody>\n",
       "</table>\n",
       "</div>"
      ],
      "text/plain": [
       "            close  prediction\n",
       "date                         \n",
       "2019-01-04   5.27    5.197616\n",
       "2019-01-07   5.24    5.195257\n",
       "2019-01-08   5.20    5.192693\n",
       "2019-01-09   5.26    5.193046"
      ]
     },
     "execution_count": 205,
     "metadata": {},
     "output_type": "execute_result"
    }
   ],
   "source": [
    "get_prediction(f,DAYS,calc_data[-DAYS:])"
   ]
  },
  {
   "cell_type": "markdown",
   "metadata": {},
   "source": [
    "### beta数据"
   ]
  },
  {
   "cell_type": "code",
   "execution_count": 187,
   "metadata": {},
   "outputs": [],
   "source": [
    "calc_data=get_calc_data(stock_code,s,e)\n",
    "calc_data['beta']=talib.BETA(np.array(calc_data_raw.high),np.array(calc_data_raw.low))\n",
    "calc_data=calc_data.dropna()"
   ]
  },
  {
   "cell_type": "markdown",
   "metadata": {},
   "source": [
    "#### ElasticNet"
   ]
  },
  {
   "cell_type": "code",
   "execution_count": 188,
   "metadata": {},
   "outputs": [
    {
     "data": {
      "text/plain": [
       "-24.95956935375647"
      ]
     },
     "execution_count": 188,
     "metadata": {},
     "output_type": "execute_result"
    }
   ],
   "source": [
    "f,X_train, X_test, y_train, y_test=fit(calc_data,DAYS)\n",
    "f.score(X_test,y_test)"
   ]
  },
  {
   "cell_type": "markdown",
   "metadata": {},
   "source": [
    "#### Lasso"
   ]
  },
  {
   "cell_type": "code",
   "execution_count": 189,
   "metadata": {},
   "outputs": [
    {
     "data": {
      "text/plain": [
       "-26.831415085527684"
      ]
     },
     "execution_count": 189,
     "metadata": {},
     "output_type": "execute_result"
    }
   ],
   "source": [
    "f,X_train, X_test, y_train, y_test=fit(calc_data,DAYS,func=Lasso)\n",
    "f.score(X_test,y_test)"
   ]
  },
  {
   "cell_type": "markdown",
   "metadata": {},
   "source": [
    "#### Ridge"
   ]
  },
  {
   "cell_type": "code",
   "execution_count": 190,
   "metadata": {},
   "outputs": [
    {
     "data": {
      "text/plain": [
       "0.8561810009252508"
      ]
     },
     "execution_count": 190,
     "metadata": {},
     "output_type": "execute_result"
    }
   ],
   "source": [
    "f,X_train, X_test, y_train, y_test=fit(calc_data,DAYS,func=Ridge)\n",
    "f.score(X_test,y_test)"
   ]
  },
  {
   "cell_type": "markdown",
   "metadata": {},
   "source": [
    "### MACD指标"
   ]
  },
  {
   "cell_type": "code",
   "execution_count": 191,
   "metadata": {},
   "outputs": [],
   "source": [
    "calc_data=get_calc_data(stock_code,s,e,minmaxscaler=['open','high','low','close','volume','amount'])\n",
    "calc_data['macd'], calc_data['macdsignal'], calc_data['macdhist'] = talib.MACDEXT(np.array(calc_data_raw.low),fastmatype=MA_Type.WMA,slowmatype=MA_Type.WMA,signalmatype=MA_Type.WMA)\n",
    "calc_data=calc_data.dropna()"
   ]
  },
  {
   "cell_type": "markdown",
   "metadata": {},
   "source": [
    "#### ElasticNet"
   ]
  },
  {
   "cell_type": "code",
   "execution_count": 192,
   "metadata": {},
   "outputs": [
    {
     "data": {
      "text/plain": [
       "-26.24810791021557"
      ]
     },
     "execution_count": 192,
     "metadata": {},
     "output_type": "execute_result"
    }
   ],
   "source": [
    "f,X_train, X_test, y_train, y_test=fit(calc_data,DAYS)\n",
    "f.score(X_test,y_test)"
   ]
  },
  {
   "cell_type": "markdown",
   "metadata": {},
   "source": [
    "#### Lasso"
   ]
  },
  {
   "cell_type": "code",
   "execution_count": 193,
   "metadata": {},
   "outputs": [
    {
     "data": {
      "text/plain": [
       "-26.24810791021557"
      ]
     },
     "execution_count": 193,
     "metadata": {},
     "output_type": "execute_result"
    }
   ],
   "source": [
    "f,X_train, X_test, y_train, y_test=fit(calc_data,DAYS,func=Lasso)\n",
    "f.score(X_test,y_test)"
   ]
  },
  {
   "cell_type": "markdown",
   "metadata": {},
   "source": [
    "#### Ridge"
   ]
  },
  {
   "cell_type": "code",
   "execution_count": 194,
   "metadata": {},
   "outputs": [
    {
     "data": {
      "text/plain": [
       "0.8484558064854796"
      ]
     },
     "execution_count": 194,
     "metadata": {},
     "output_type": "execute_result"
    }
   ],
   "source": [
    "f,X_train, X_test, y_train, y_test=fit(calc_data,DAYS,func=Ridge)\n",
    "f.score(X_test,y_test)"
   ]
  },
  {
   "cell_type": "markdown",
   "metadata": {},
   "source": [
    "#### SVR"
   ]
  },
  {
   "cell_type": "code",
   "execution_count": 295,
   "metadata": {},
   "outputs": [],
   "source": [
    "# f,X_train, X_test, y_train, y_test=fit(calc_data,DAYS,func=SVR)\n",
    "# f.score(X_test,y_test)"
   ]
  },
  {
   "cell_type": "markdown",
   "metadata": {},
   "source": [
    "### 组合"
   ]
  },
  {
   "cell_type": "code",
   "execution_count": 355,
   "metadata": {
    "code_folding": [
     5,
     12,
     16,
     39
    ]
   },
   "outputs": [],
   "source": [
    "DAYS=5\n",
    "calc_data=get_calc_data(stock_code,s,e)\n",
    "\n",
    "#动量\t\n",
    "#资金流量指数（MFI） 相对强弱指数（RSI） 随机振荡器 真实强度指数（TSI） 终极振荡器(ultosc) 威廉姆斯％R（％R）\n",
    "calc_data['mfi']=talib.MFI(np.array(calc_data_raw.high),\n",
    "                           np.array(calc_data_raw.low),\n",
    "                           np.array(calc_data_raw.close),\n",
    "                           np.array(calc_data_raw.volume),\n",
    "                           DAYS)\n",
    "calc_data['rsi']=talib.RSI(np.array(calc_data_raw.close),DAYS)\n",
    "#https://en.wikipedia.org/wiki/Ultimate_oscillator\n",
    "calc_data['ultosc']=talib.ULTOSC(np.array(calc_data_raw.high),\n",
    "                           np.array(calc_data_raw.low),\n",
    "                           np.array(calc_data_raw.close), \n",
    "                        timeperiod1=DAYS, timeperiod2=2*DAYS, timeperiod3=3*DAYS)\n",
    "calc_data['wiilr']=talib.WILLR(np.array(calc_data_raw.high),\n",
    "                           np.array(calc_data_raw.low),\n",
    "                           np.array(calc_data_raw.close),\n",
    "                           DAYS)\n",
    "\n",
    "#移动平均\n",
    "calc_data['dema']=talib.DEMA(np.array(calc_data_raw.close),DAYS)\n",
    "calc_data['ema']=talib.EMA(np.array(calc_data_raw.close),DAYS)\n",
    "calc_data['kama']=talib.KAMA(np.array(calc_data_raw.close),DAYS)\n",
    "#mama, fama = MAMA(close, fastlimit=0, slowlimit=0)\n",
    "calc_data['sma']=talib.SMA(np.array(calc_data_raw.close),DAYS)\n",
    "calc_data['t3']=talib.T3(np.array(calc_data_raw.close),DAYS)\n",
    "calc_data['tema']=talib.TEMA(np.array(calc_data_raw.close),DAYS)\n",
    "calc_data['trima']=talib.TRIMA(np.array(calc_data_raw.close),DAYS)\n",
    "calc_data['wma']=talib.WMA(np.array(calc_data_raw.close),DAYS)\n",
    "\n",
    "calc_data['obv']=talib.OBV(np.array(calc_data_raw.close),np.array(calc_data_raw.volume))\n",
    "\n",
    "\n",
    "calc_data['stddev']=talib.STDDEV(np.array(calc_data_raw.close),DAYS)\n",
    "calc_data['tsf']=talib.TSF(np.array(calc_data_raw.close),DAYS)\n",
    "calc_data['var']=talib.VAR(np.array(calc_data_raw.close),DAYS)\n",
    "\n",
    "minmax_scaler_columns=['rsi','mfi','wiilr','ultosc','dema',\n",
    "                       'ema','kama','sma','t3','tema','trima',\n",
    "                       'wma','obv','tsf']\n",
    "\n",
    "calc_data[minmax_scaler_columns]=MinMaxScaler().fit_transform(calc_data[minmax_scaler_columns])\n",
    "\n",
    "calc_data=calc_data.dropna()"
   ]
  },
  {
   "cell_type": "code",
   "execution_count": 356,
   "metadata": {},
   "outputs": [
    {
     "data": {
      "text/html": [
       "<div>\n",
       "<style scoped>\n",
       "    .dataframe tbody tr th:only-of-type {\n",
       "        vertical-align: middle;\n",
       "    }\n",
       "\n",
       "    .dataframe tbody tr th {\n",
       "        vertical-align: top;\n",
       "    }\n",
       "\n",
       "    .dataframe thead th {\n",
       "        text-align: right;\n",
       "    }\n",
       "</style>\n",
       "<table border=\"1\" class=\"dataframe\">\n",
       "  <thead>\n",
       "    <tr style=\"text-align: right;\">\n",
       "      <th></th>\n",
       "      <th>open</th>\n",
       "      <th>high</th>\n",
       "      <th>low</th>\n",
       "      <th>close</th>\n",
       "      <th>volume</th>\n",
       "      <th>amount</th>\n",
       "      <th>mfi</th>\n",
       "      <th>rsi</th>\n",
       "      <th>ultosc</th>\n",
       "      <th>wiilr</th>\n",
       "      <th>...</th>\n",
       "      <th>kama</th>\n",
       "      <th>sma</th>\n",
       "      <th>t3</th>\n",
       "      <th>tema</th>\n",
       "      <th>trima</th>\n",
       "      <th>wma</th>\n",
       "      <th>obv</th>\n",
       "      <th>stddev</th>\n",
       "      <th>tsf</th>\n",
       "      <th>var</th>\n",
       "    </tr>\n",
       "  </thead>\n",
       "  <tbody>\n",
       "    <tr>\n",
       "      <th>count</th>\n",
       "      <td>2924.000000</td>\n",
       "      <td>2924.000000</td>\n",
       "      <td>2924.000000</td>\n",
       "      <td>2924.000000</td>\n",
       "      <td>2924.000000</td>\n",
       "      <td>2924.000000</td>\n",
       "      <td>2924.000000</td>\n",
       "      <td>2924.000000</td>\n",
       "      <td>2924.000000</td>\n",
       "      <td>2924.000000</td>\n",
       "      <td>...</td>\n",
       "      <td>2924.000000</td>\n",
       "      <td>2924.000000</td>\n",
       "      <td>2924.000000</td>\n",
       "      <td>2924.000000</td>\n",
       "      <td>2924.000000</td>\n",
       "      <td>2924.000000</td>\n",
       "      <td>2924.000000</td>\n",
       "      <td>2924.000000</td>\n",
       "      <td>2924.000000</td>\n",
       "      <td>2924.000000</td>\n",
       "    </tr>\n",
       "    <tr>\n",
       "      <th>mean</th>\n",
       "      <td>3.567018</td>\n",
       "      <td>3.609879</td>\n",
       "      <td>3.528261</td>\n",
       "      <td>3.572114</td>\n",
       "      <td>0.052081</td>\n",
       "      <td>0.052147</td>\n",
       "      <td>0.536328</td>\n",
       "      <td>0.511160</td>\n",
       "      <td>0.533048</td>\n",
       "      <td>0.510135</td>\n",
       "      <td>...</td>\n",
       "      <td>0.316452</td>\n",
       "      <td>0.306167</td>\n",
       "      <td>0.278110</td>\n",
       "      <td>0.287263</td>\n",
       "      <td>0.304909</td>\n",
       "      <td>0.305335</td>\n",
       "      <td>0.649742</td>\n",
       "      <td>0.043430</td>\n",
       "      <td>0.301792</td>\n",
       "      <td>0.003527</td>\n",
       "    </tr>\n",
       "    <tr>\n",
       "      <th>std</th>\n",
       "      <td>0.997842</td>\n",
       "      <td>1.012796</td>\n",
       "      <td>0.985607</td>\n",
       "      <td>1.000346</td>\n",
       "      <td>0.065085</td>\n",
       "      <td>0.070569</td>\n",
       "      <td>0.265316</td>\n",
       "      <td>0.201442</td>\n",
       "      <td>0.153808</td>\n",
       "      <td>0.287159</td>\n",
       "      <td>...</td>\n",
       "      <td>0.192595</td>\n",
       "      <td>0.186091</td>\n",
       "      <td>0.192826</td>\n",
       "      <td>0.186529</td>\n",
       "      <td>0.185613</td>\n",
       "      <td>0.185621</td>\n",
       "      <td>0.222953</td>\n",
       "      <td>0.040520</td>\n",
       "      <td>0.176651</td>\n",
       "      <td>0.008420</td>\n",
       "    </tr>\n",
       "    <tr>\n",
       "      <th>min</th>\n",
       "      <td>1.966698</td>\n",
       "      <td>2.135617</td>\n",
       "      <td>1.888271</td>\n",
       "      <td>2.063223</td>\n",
       "      <td>0.000000</td>\n",
       "      <td>0.000000</td>\n",
       "      <td>0.000000</td>\n",
       "      <td>0.000000</td>\n",
       "      <td>0.000000</td>\n",
       "      <td>0.000000</td>\n",
       "      <td>...</td>\n",
       "      <td>0.044644</td>\n",
       "      <td>0.037863</td>\n",
       "      <td>0.000000</td>\n",
       "      <td>0.000000</td>\n",
       "      <td>0.037165</td>\n",
       "      <td>0.036858</td>\n",
       "      <td>0.069726</td>\n",
       "      <td>0.002759</td>\n",
       "      <td>0.000000</td>\n",
       "      <td>0.000008</td>\n",
       "    </tr>\n",
       "    <tr>\n",
       "      <th>25%</th>\n",
       "      <td>2.874734</td>\n",
       "      <td>2.896649</td>\n",
       "      <td>2.846166</td>\n",
       "      <td>2.875958</td>\n",
       "      <td>0.013415</td>\n",
       "      <td>0.011713</td>\n",
       "      <td>0.342042</td>\n",
       "      <td>0.362066</td>\n",
       "      <td>0.426786</td>\n",
       "      <td>0.250000</td>\n",
       "      <td>...</td>\n",
       "      <td>0.184860</td>\n",
       "      <td>0.176934</td>\n",
       "      <td>0.144400</td>\n",
       "      <td>0.157321</td>\n",
       "      <td>0.175826</td>\n",
       "      <td>0.176260</td>\n",
       "      <td>0.572273</td>\n",
       "      <td>0.017061</td>\n",
       "      <td>0.179406</td>\n",
       "      <td>0.000291</td>\n",
       "    </tr>\n",
       "    <tr>\n",
       "      <th>50%</th>\n",
       "      <td>3.088801</td>\n",
       "      <td>3.132651</td>\n",
       "      <td>3.052488</td>\n",
       "      <td>3.095134</td>\n",
       "      <td>0.029055</td>\n",
       "      <td>0.027532</td>\n",
       "      <td>0.550118</td>\n",
       "      <td>0.500742</td>\n",
       "      <td>0.532953</td>\n",
       "      <td>0.500000</td>\n",
       "      <td>...</td>\n",
       "      <td>0.221103</td>\n",
       "      <td>0.216058</td>\n",
       "      <td>0.185096</td>\n",
       "      <td>0.198579</td>\n",
       "      <td>0.215873</td>\n",
       "      <td>0.215955</td>\n",
       "      <td>0.649224</td>\n",
       "      <td>0.030418</td>\n",
       "      <td>0.220161</td>\n",
       "      <td>0.000925</td>\n",
       "    </tr>\n",
       "    <tr>\n",
       "      <th>75%</th>\n",
       "      <td>4.060658</td>\n",
       "      <td>4.097325</td>\n",
       "      <td>4.029214</td>\n",
       "      <td>4.060852</td>\n",
       "      <td>0.064651</td>\n",
       "      <td>0.065446</td>\n",
       "      <td>0.735627</td>\n",
       "      <td>0.658127</td>\n",
       "      <td>0.636130</td>\n",
       "      <td>0.760217</td>\n",
       "      <td>...</td>\n",
       "      <td>0.411332</td>\n",
       "      <td>0.396309</td>\n",
       "      <td>0.372127</td>\n",
       "      <td>0.378970</td>\n",
       "      <td>0.395290</td>\n",
       "      <td>0.395324</td>\n",
       "      <td>0.851439</td>\n",
       "      <td>0.054911</td>\n",
       "      <td>0.390800</td>\n",
       "      <td>0.003015</td>\n",
       "    </tr>\n",
       "    <tr>\n",
       "      <th>max</th>\n",
       "      <td>7.276664</td>\n",
       "      <td>7.439432</td>\n",
       "      <td>7.142620</td>\n",
       "      <td>7.420283</td>\n",
       "      <td>0.805797</td>\n",
       "      <td>1.000000</td>\n",
       "      <td>1.000000</td>\n",
       "      <td>1.000000</td>\n",
       "      <td>1.000000</td>\n",
       "      <td>1.000000</td>\n",
       "      <td>...</td>\n",
       "      <td>1.000000</td>\n",
       "      <td>1.000000</td>\n",
       "      <td>1.000000</td>\n",
       "      <td>1.000000</td>\n",
       "      <td>1.000000</td>\n",
       "      <td>1.000000</td>\n",
       "      <td>1.000000</td>\n",
       "      <td>0.396761</td>\n",
       "      <td>1.000000</td>\n",
       "      <td>0.157419</td>\n",
       "    </tr>\n",
       "  </tbody>\n",
       "</table>\n",
       "<p>8 rows × 22 columns</p>\n",
       "</div>"
      ],
      "text/plain": [
       "              open         high          low        close       volume  \\\n",
       "count  2924.000000  2924.000000  2924.000000  2924.000000  2924.000000   \n",
       "mean      3.567018     3.609879     3.528261     3.572114     0.052081   \n",
       "std       0.997842     1.012796     0.985607     1.000346     0.065085   \n",
       "min       1.966698     2.135617     1.888271     2.063223     0.000000   \n",
       "25%       2.874734     2.896649     2.846166     2.875958     0.013415   \n",
       "50%       3.088801     3.132651     3.052488     3.095134     0.029055   \n",
       "75%       4.060658     4.097325     4.029214     4.060852     0.064651   \n",
       "max       7.276664     7.439432     7.142620     7.420283     0.805797   \n",
       "\n",
       "            amount          mfi          rsi       ultosc        wiilr  ...  \\\n",
       "count  2924.000000  2924.000000  2924.000000  2924.000000  2924.000000  ...   \n",
       "mean      0.052147     0.536328     0.511160     0.533048     0.510135  ...   \n",
       "std       0.070569     0.265316     0.201442     0.153808     0.287159  ...   \n",
       "min       0.000000     0.000000     0.000000     0.000000     0.000000  ...   \n",
       "25%       0.011713     0.342042     0.362066     0.426786     0.250000  ...   \n",
       "50%       0.027532     0.550118     0.500742     0.532953     0.500000  ...   \n",
       "75%       0.065446     0.735627     0.658127     0.636130     0.760217  ...   \n",
       "max       1.000000     1.000000     1.000000     1.000000     1.000000  ...   \n",
       "\n",
       "              kama          sma           t3         tema        trima  \\\n",
       "count  2924.000000  2924.000000  2924.000000  2924.000000  2924.000000   \n",
       "mean      0.316452     0.306167     0.278110     0.287263     0.304909   \n",
       "std       0.192595     0.186091     0.192826     0.186529     0.185613   \n",
       "min       0.044644     0.037863     0.000000     0.000000     0.037165   \n",
       "25%       0.184860     0.176934     0.144400     0.157321     0.175826   \n",
       "50%       0.221103     0.216058     0.185096     0.198579     0.215873   \n",
       "75%       0.411332     0.396309     0.372127     0.378970     0.395290   \n",
       "max       1.000000     1.000000     1.000000     1.000000     1.000000   \n",
       "\n",
       "               wma          obv       stddev          tsf          var  \n",
       "count  2924.000000  2924.000000  2924.000000  2924.000000  2924.000000  \n",
       "mean      0.305335     0.649742     0.043430     0.301792     0.003527  \n",
       "std       0.185621     0.222953     0.040520     0.176651     0.008420  \n",
       "min       0.036858     0.069726     0.002759     0.000000     0.000008  \n",
       "25%       0.176260     0.572273     0.017061     0.179406     0.000291  \n",
       "50%       0.215955     0.649224     0.030418     0.220161     0.000925  \n",
       "75%       0.395324     0.851439     0.054911     0.390800     0.003015  \n",
       "max       1.000000     1.000000     0.396761     1.000000     0.157419  \n",
       "\n",
       "[8 rows x 22 columns]"
      ]
     },
     "execution_count": 356,
     "metadata": {},
     "output_type": "execute_result"
    }
   ],
   "source": [
    "calc_data.describe()"
   ]
  },
  {
   "cell_type": "code",
   "execution_count": 357,
   "metadata": {},
   "outputs": [
    {
     "data": {
      "text/plain": [
       "0.8581533485265771"
      ]
     },
     "execution_count": 357,
     "metadata": {},
     "output_type": "execute_result"
    }
   ],
   "source": [
    "f,X_train, X_test, y_train, y_test=fit(calc_data,DAYS,func=Ridge)\n",
    "f.score(X_test.dropna(),y_test.dropna())"
   ]
  },
  {
   "cell_type": "code",
   "execution_count": 373,
   "metadata": {},
   "outputs": [
    {
     "name": "stdout",
     "output_type": "stream",
     "text": [
      "close        -0.001898\n",
      "prediction   -0.001462\n",
      "dtype: float64\n"
     ]
    }
   ],
   "source": [
    "# p,pct_c,plt=report_prediction(f,DAYS,calc_data[-DAYS:])"
   ]
  },
  {
   "cell_type": "code",
   "execution_count": 384,
   "metadata": {},
   "outputs": [],
   "source": [
    "report=get_prediction(f,DAYS,calc_data[-10:])"
   ]
  },
  {
   "cell_type": "code",
   "execution_count": 385,
   "metadata": {},
   "outputs": [
    {
     "data": {
      "text/html": [
       "<div>\n",
       "<style scoped>\n",
       "    .dataframe tbody tr th:only-of-type {\n",
       "        vertical-align: middle;\n",
       "    }\n",
       "\n",
       "    .dataframe tbody tr th {\n",
       "        vertical-align: top;\n",
       "    }\n",
       "\n",
       "    .dataframe thead th {\n",
       "        text-align: right;\n",
       "    }\n",
       "</style>\n",
       "<table border=\"1\" class=\"dataframe\">\n",
       "  <thead>\n",
       "    <tr style=\"text-align: right;\">\n",
       "      <th></th>\n",
       "      <th>close</th>\n",
       "      <th>1</th>\n",
       "      <th>2</th>\n",
       "      <th>3</th>\n",
       "      <th>4</th>\n",
       "      <th>5</th>\n",
       "    </tr>\n",
       "    <tr>\n",
       "      <th>date</th>\n",
       "      <th></th>\n",
       "      <th></th>\n",
       "      <th></th>\n",
       "      <th></th>\n",
       "      <th></th>\n",
       "      <th></th>\n",
       "    </tr>\n",
       "  </thead>\n",
       "  <tbody>\n",
       "    <tr>\n",
       "      <th>2018-12-25</th>\n",
       "      <td>5.23</td>\n",
       "      <td>5.223274</td>\n",
       "      <td>5.217092</td>\n",
       "      <td>5.216261</td>\n",
       "      <td>5.217853</td>\n",
       "      <td>5.212778</td>\n",
       "    </tr>\n",
       "    <tr>\n",
       "      <th>2018-12-26</th>\n",
       "      <td>5.27</td>\n",
       "      <td>5.263017</td>\n",
       "      <td>5.258348</td>\n",
       "      <td>5.257126</td>\n",
       "      <td>5.257513</td>\n",
       "      <td>5.251325</td>\n",
       "    </tr>\n",
       "    <tr>\n",
       "      <th>2018-12-27</th>\n",
       "      <td>5.28</td>\n",
       "      <td>5.286290</td>\n",
       "      <td>5.285064</td>\n",
       "      <td>5.284784</td>\n",
       "      <td>5.278978</td>\n",
       "      <td>5.272758</td>\n",
       "    </tr>\n",
       "    <tr>\n",
       "      <th>2018-12-28</th>\n",
       "      <td>5.29</td>\n",
       "      <td>5.295060</td>\n",
       "      <td>5.292759</td>\n",
       "      <td>5.291902</td>\n",
       "      <td>5.285750</td>\n",
       "      <td>5.282352</td>\n",
       "    </tr>\n",
       "    <tr>\n",
       "      <th>2019-01-02</th>\n",
       "      <td>5.20</td>\n",
       "      <td>5.195364</td>\n",
       "      <td>5.194283</td>\n",
       "      <td>5.190974</td>\n",
       "      <td>5.186458</td>\n",
       "      <td>5.191740</td>\n",
       "    </tr>\n",
       "    <tr>\n",
       "      <th>2019-01-03</th>\n",
       "      <td>5.20</td>\n",
       "      <td>5.191160</td>\n",
       "      <td>5.186556</td>\n",
       "      <td>5.182065</td>\n",
       "      <td>5.183569</td>\n",
       "      <td>5.184623</td>\n",
       "    </tr>\n",
       "    <tr>\n",
       "      <th>2019-01-04</th>\n",
       "      <td>5.27</td>\n",
       "      <td>5.251548</td>\n",
       "      <td>5.246717</td>\n",
       "      <td>5.246321</td>\n",
       "      <td>5.253859</td>\n",
       "      <td>5.253062</td>\n",
       "    </tr>\n",
       "    <tr>\n",
       "      <th>2019-01-07</th>\n",
       "      <td>5.24</td>\n",
       "      <td>5.242463</td>\n",
       "      <td>5.243610</td>\n",
       "      <td>5.243456</td>\n",
       "      <td>5.240528</td>\n",
       "      <td>5.240788</td>\n",
       "    </tr>\n",
       "    <tr>\n",
       "      <th>2019-01-08</th>\n",
       "      <td>5.20</td>\n",
       "      <td>5.199115</td>\n",
       "      <td>5.198444</td>\n",
       "      <td>5.195560</td>\n",
       "      <td>5.193920</td>\n",
       "      <td>5.193905</td>\n",
       "    </tr>\n",
       "    <tr>\n",
       "      <th>2019-01-09</th>\n",
       "      <td>5.26</td>\n",
       "      <td>5.256841</td>\n",
       "      <td>5.253200</td>\n",
       "      <td>5.253482</td>\n",
       "      <td>5.254193</td>\n",
       "      <td>5.250772</td>\n",
       "    </tr>\n",
       "  </tbody>\n",
       "</table>\n",
       "</div>"
      ],
      "text/plain": [
       "            close         1         2         3         4         5\n",
       "date                                                               \n",
       "2018-12-25   5.23  5.223274  5.217092  5.216261  5.217853  5.212778\n",
       "2018-12-26   5.27  5.263017  5.258348  5.257126  5.257513  5.251325\n",
       "2018-12-27   5.28  5.286290  5.285064  5.284784  5.278978  5.272758\n",
       "2018-12-28   5.29  5.295060  5.292759  5.291902  5.285750  5.282352\n",
       "2019-01-02   5.20  5.195364  5.194283  5.190974  5.186458  5.191740\n",
       "2019-01-03   5.20  5.191160  5.186556  5.182065  5.183569  5.184623\n",
       "2019-01-04   5.27  5.251548  5.246717  5.246321  5.253859  5.253062\n",
       "2019-01-07   5.24  5.242463  5.243610  5.243456  5.240528  5.240788\n",
       "2019-01-08   5.20  5.199115  5.198444  5.195560  5.193920  5.193905\n",
       "2019-01-09   5.26  5.256841  5.253200  5.253482  5.254193  5.250772"
      ]
     },
     "execution_count": 385,
     "metadata": {},
     "output_type": "execute_result"
    }
   ],
   "source": [
    "report"
   ]
  },
  {
   "cell_type": "code",
   "execution_count": 394,
   "metadata": {},
   "outputs": [
    {
     "data": {
      "image/png": "[encoded data removed]",
      "text/plain": [
       "<Figure size 432x288 with 1 Axes>"
      ]
     },
     "metadata": {
      "needs_background": "light"
     },
     "output_type": "display_data"
    }
   ],
   "source": [
    "sns.lineplot(x=report.index.date,y=report.close)\n",
    "for i in range(len(report.index)-DAYS):\n",
    "    sns.lineplot(x=report.index[i:DAYS+i].date,y=report.iloc[0][[1,2,3,4,5]])"
   ]
  },
  {
   "cell_type": "code",
   "execution_count": 413,
   "metadata": {},
   "outputs": [],
   "source": [
    "for i in range(len(report.index)-DAYS):\n",
    "    line=pyecharts.Line('')\n",
    "    line.add('真实值',report.index[i:DAYS+i].date,report.iloc[i:DAYS+i]['close'])\n",
    "    columns=[i for i in range(1,DAYS+1)]\n",
    "    line.add('预测值',report.index[i:DAYS+i].date,report.iloc[0][columns])\n",
    "    line.render()"
   ]
  },
  {
   "cell_type": "code",
   "execution_count": 177,
   "metadata": {},
   "outputs": [],
   "source": []
  },
  {
   "cell_type": "code",
   "execution_count": null,
   "metadata": {},
   "outputs": [],
   "source": []
  },
  {
   "cell_type": "code",
   "execution_count": null,
   "metadata": {},
   "outputs": [],
   "source": []
  },
  {
   "cell_type": "code",
   "execution_count": null,
   "metadata": {},
   "outputs": [],
   "source": []
  },
  {
   "cell_type": "code",
   "execution_count": null,
   "metadata": {},
   "outputs": [],
   "source": []
  },
  {
   "cell_type": "code",
   "execution_count": null,
   "metadata": {},
   "outputs": [],
   "source": []
  },
  {
   "cell_type": "code",
   "execution_count": null,
   "metadata": {},
   "outputs": [],
   "source": []
  },
  {
   "cell_type": "code",
   "execution_count": null,
   "metadata": {},
   "outputs": [],
   "source": []
  },
  {
   "cell_type": "code",
   "execution_count": null,
   "metadata": {},
   "outputs": [],
   "source": []
  },
  {
   "cell_type": "code",
   "execution_count": null,
   "metadata": {},
   "outputs": [],
   "source": []
  },
  {
   "cell_type": "code",
   "execution_count": null,
   "metadata": {},
   "outputs": [],
   "source": []
  },
  {
   "cell_type": "code",
   "execution_count": null,
   "metadata": {},
   "outputs": [],
   "source": []
  },
  {
   "cell_type": "code",
   "execution_count": null,
   "metadata": {},
   "outputs": [],
   "source": []
  }
 ],
 "metadata": {
  "kernelspec": {
   "display_name": "finance_py_35",
   "language": "python",
   "name": "finance35"
  },
  "language_info": {
   "codemirror_mode": {
    "name": "ipython",
    "version": 3
   },
   "file_extension": ".py",
   "mimetype": "text/x-python",
   "name": "python",
   "nbconvert_exporter": "python",
   "pygments_lexer": "ipython3",
   "version": "3.5.5"
  },
  "toc": {
   "base_numbering": 1,
   "nav_menu": {},
   "number_sections": true,
   "sideBar": true,
   "skip_h1_title": false,
   "title_cell": "Table of Contents",
   "title_sidebar": "Contents",
   "toc_cell": false,
   "toc_position": {
    "height": "calc(100% - 180px)",
    "left": "10px",
    "top": "150px",
    "width": "268.797px"
   },
   "toc_section_display": true,
   "toc_window_display": true
  }
 },
 "nbformat": 4,
 "nbformat_minor": 2
}
