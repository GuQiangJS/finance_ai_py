{
 "cells": [
  {
   "cell_type": "code",
   "execution_count": 48,
   "metadata": {},
   "outputs": [],
   "source": [
    "import QUANTAXIS as QA\n",
    "import pandas as pd\n",
    "import keras_helper"
   ]
  },
  {
   "cell_type": "code",
   "execution_count": 10,
   "metadata": {},
   "outputs": [],
   "source": [
    "all_block=QA.QA_fetch_stock_block_adv()"
   ]
  },
  {
   "cell_type": "code",
   "execution_count": 59,
   "metadata": {},
   "outputs": [
    {
     "ename": "AttributeError",
     "evalue": "QA_DataStruct_* Class Currently has no attribute empty",
     "output_type": "error",
     "traceback": [
      "\u001b[1;31m---------------------------------------------------------------------------\u001b[0m",
      "\u001b[1;31mAttributeError\u001b[0m                            Traceback (most recent call last)",
      "\u001b[1;32m<ipython-input-59-836153a7371d>\u001b[0m in \u001b[0;36m<module>\u001b[1;34m\u001b[0m\n\u001b[0;32m      5\u001b[0m         \u001b[0md\u001b[0m\u001b[1;33m=\u001b[0m\u001b[0mQA\u001b[0m\u001b[1;33m.\u001b[0m\u001b[0mQA_fetch_stock_day_adv\u001b[0m\u001b[1;33m(\u001b[0m\u001b[0mcode\u001b[0m\u001b[1;33m,\u001b[0m\u001b[1;34m'2018-12-01'\u001b[0m\u001b[1;33m,\u001b[0m\u001b[1;34m'2018-12-31'\u001b[0m\u001b[1;33m)\u001b[0m\u001b[1;33m\u001b[0m\u001b[0m\n\u001b[0;32m      6\u001b[0m         \u001b[1;32mif\u001b[0m \u001b[0md\u001b[0m\u001b[1;33m:\u001b[0m\u001b[1;33m\u001b[0m\u001b[0m\n\u001b[1;32m----> 7\u001b[1;33m             \u001b[0mdf\u001b[0m\u001b[1;33m=\u001b[0m\u001b[0md\u001b[0m \u001b[1;32mif\u001b[0m \u001b[0mdf\u001b[0m\u001b[1;33m.\u001b[0m\u001b[0mempty\u001b[0m \u001b[1;32melse\u001b[0m \u001b[0mdf\u001b[0m\u001b[1;33m+\u001b[0m\u001b[0md\u001b[0m\u001b[1;33m.\u001b[0m\u001b[0mdata\u001b[0m\u001b[1;33m.\u001b[0m\u001b[0mreset_index\u001b[0m\u001b[1;33m(\u001b[0m\u001b[1;33m)\u001b[0m\u001b[1;33m.\u001b[0m\u001b[0mdrop\u001b[0m\u001b[1;33m(\u001b[0m\u001b[0mcolumns\u001b[0m\u001b[1;33m=\u001b[0m\u001b[1;34m'code'\u001b[0m\u001b[1;33m)\u001b[0m\u001b[1;33m.\u001b[0m\u001b[0mset_index\u001b[0m\u001b[1;33m(\u001b[0m\u001b[1;34m'date'\u001b[0m\u001b[1;33m)\u001b[0m \u001b[1;32mif\u001b[0m \u001b[1;32mnot\u001b[0m \u001b[0md\u001b[0m\u001b[1;33m.\u001b[0m\u001b[0mdata\u001b[0m\u001b[1;33m.\u001b[0m\u001b[0mempty\u001b[0m \u001b[1;32melse\u001b[0m \u001b[0mdf\u001b[0m\u001b[1;33m\u001b[0m\u001b[0m\n\u001b[0m\u001b[0;32m      8\u001b[0m     \u001b[0mblock_dict\u001b[0m\u001b[1;33m[\u001b[0m\u001b[0mname\u001b[0m\u001b[1;33m]\u001b[0m\u001b[1;33m=\u001b[0m\u001b[1;33m[\u001b[0m\u001b[0mdf\u001b[0m\u001b[1;33m,\u001b[0m\u001b[0mdf\u001b[0m\u001b[1;33m.\u001b[0m\u001b[0mfillna\u001b[0m\u001b[1;33m(\u001b[0m\u001b[0mmethod\u001b[0m\u001b[1;33m=\u001b[0m\u001b[1;34m'ffill'\u001b[0m\u001b[1;33m)\u001b[0m\u001b[1;33m.\u001b[0m\u001b[0mfillna\u001b[0m\u001b[1;33m(\u001b[0m\u001b[0mmethod\u001b[0m\u001b[1;33m=\u001b[0m\u001b[1;34m'bfill'\u001b[0m\u001b[1;33m)\u001b[0m\u001b[1;33m]\u001b[0m\u001b[1;33m\u001b[0m\u001b[0m\n\u001b[0;32m      9\u001b[0m \u001b[1;33m\u001b[0m\u001b[0m\n",
      "\u001b[1;32m~\\AppData\\Local\\conda\\conda\\envs\\finance35\\lib\\site-packages\\QUANTAXIS\\QAData\\base_datastruct.py\u001b[0m in \u001b[0;36m__getattr__\u001b[1;34m(self, attr)\u001b[0m\n\u001b[0;32m    237\u001b[0m         \u001b[1;31m# except:\u001b[0m\u001b[1;33m\u001b[0m\u001b[1;33m\u001b[0m\u001b[0m\n\u001b[0;32m    238\u001b[0m         raise AttributeError(\n\u001b[1;32m--> 239\u001b[1;33m             \u001b[1;34m'QA_DataStruct_* Class Currently has no attribute {}'\u001b[0m\u001b[1;33m.\u001b[0m\u001b[0mformat\u001b[0m\u001b[1;33m(\u001b[0m\u001b[0mattr\u001b[0m\u001b[1;33m)\u001b[0m\u001b[1;33m\u001b[0m\u001b[0m\n\u001b[0m\u001b[0;32m    240\u001b[0m         )\n\u001b[0;32m    241\u001b[0m \u001b[1;33m\u001b[0m\u001b[0m\n",
      "\u001b[1;31mAttributeError\u001b[0m: QA_DataStruct_* Class Currently has no attribute empty"
     ]
    }
   ],
   "source": [
    "block_dict={}\n",
    "for name in all_block.get_code(keras_helper.STOCK_CODE).view_block.index:\n",
    "    df=pd.DataFrame()\n",
    "    for code in all_block.get_block(name).code:\n",
    "        d=QA.QA_fetch_stock_day_adv(code,'2018-12-01','2018-12-31')\n",
    "        if d:\n",
    "            df=d if df.empty else df+d.data.reset_index().drop(columns='code').set_index('date') if not d.data.empty else df\n",
    "    block_dict[name]=[df,df.fillna(method='ffill').fillna(method='bfill')]\n",
    "\n"
   ]
  },
  {
   "cell_type": "code",
   "execution_count": 54,
   "metadata": {},
   "outputs": [
    {
     "data": {
      "text/plain": [
       "(               open     high      low    close      volume        amount\n",
       " date                                                                    \n",
       " 2018-12-03      NaN      NaN      NaN      NaN         NaN           NaN\n",
       " 2018-12-04      NaN      NaN      NaN      NaN         NaN           NaN\n",
       " 2018-12-05      NaN      NaN      NaN      NaN         NaN           NaN\n",
       " 2018-12-06      NaN      NaN      NaN      NaN         NaN           NaN\n",
       " 2018-12-07      NaN      NaN      NaN      NaN         NaN           NaN\n",
       " 2018-12-10  1399.05  1412.23  1379.73  1391.40  28565955.0  2.822158e+10\n",
       " 2018-12-11  1393.98  1408.60  1381.56  1399.46  25821670.0  2.342535e+10\n",
       " 2018-12-12  1407.33  1420.77  1394.95  1403.72  27318659.0  2.614473e+10\n",
       " 2018-12-13  1408.46  1438.58  1396.57  1425.79  42749134.0  4.229227e+10\n",
       " 2018-12-14  1421.02  1431.15  1391.15  1396.83  40222023.0  3.743045e+10\n",
       " 2018-12-17  1393.65  1412.02  1377.79  1398.95  31614941.0  3.017754e+10\n",
       " 2018-12-18  1391.17  1408.23  1366.64  1382.09  31812989.0  3.103624e+10\n",
       " 2018-12-19  1385.00  1396.18  1363.60  1369.03  28103330.0  2.805347e+10\n",
       " 2018-12-20  1366.98  1384.90  1346.80  1365.43  37904972.0  3.589492e+10\n",
       " 2018-12-21  1361.02  1368.26  1324.46  1340.46  37925233.0  3.710119e+10\n",
       " 2018-12-24  1335.01  1353.04  1321.68  1341.13  28652303.0  2.620135e+10\n",
       " 2018-12-25      NaN      NaN      NaN      NaN         NaN           NaN\n",
       " 2018-12-26      NaN      NaN      NaN      NaN         NaN           NaN\n",
       " 2018-12-27      NaN      NaN      NaN      NaN         NaN           NaN\n",
       " 2018-12-28      NaN      NaN      NaN      NaN         NaN           NaN,\n",
       "                open     high      low    close      volume        amount\n",
       " date                                                                    \n",
       " 2018-12-03  1399.05  1412.23  1379.73  1391.40  28565955.0  2.822158e+10\n",
       " 2018-12-04  1399.05  1412.23  1379.73  1391.40  28565955.0  2.822158e+10\n",
       " 2018-12-05  1399.05  1412.23  1379.73  1391.40  28565955.0  2.822158e+10\n",
       " 2018-12-06  1399.05  1412.23  1379.73  1391.40  28565955.0  2.822158e+10\n",
       " 2018-12-07  1399.05  1412.23  1379.73  1391.40  28565955.0  2.822158e+10\n",
       " 2018-12-10  1399.05  1412.23  1379.73  1391.40  28565955.0  2.822158e+10\n",
       " 2018-12-11  1393.98  1408.60  1381.56  1399.46  25821670.0  2.342535e+10\n",
       " 2018-12-12  1407.33  1420.77  1394.95  1403.72  27318659.0  2.614473e+10\n",
       " 2018-12-13  1408.46  1438.58  1396.57  1425.79  42749134.0  4.229227e+10\n",
       " 2018-12-14  1421.02  1431.15  1391.15  1396.83  40222023.0  3.743045e+10\n",
       " 2018-12-17  1393.65  1412.02  1377.79  1398.95  31614941.0  3.017754e+10\n",
       " 2018-12-18  1391.17  1408.23  1366.64  1382.09  31812989.0  3.103624e+10\n",
       " 2018-12-19  1385.00  1396.18  1363.60  1369.03  28103330.0  2.805347e+10\n",
       " 2018-12-20  1366.98  1384.90  1346.80  1365.43  37904972.0  3.589492e+10\n",
       " 2018-12-21  1361.02  1368.26  1324.46  1340.46  37925233.0  3.710119e+10\n",
       " 2018-12-24  1335.01  1353.04  1321.68  1341.13  28652303.0  2.620135e+10\n",
       " 2018-12-25  1335.01  1353.04  1321.68  1341.13  28652303.0  2.620135e+10\n",
       " 2018-12-26  1335.01  1353.04  1321.68  1341.13  28652303.0  2.620135e+10\n",
       " 2018-12-27  1335.01  1353.04  1321.68  1341.13  28652303.0  2.620135e+10\n",
       " 2018-12-28  1335.01  1353.04  1321.68  1341.13  28652303.0  2.620135e+10)"
      ]
     },
     "execution_count": 54,
     "metadata": {},
     "output_type": "execute_result"
    }
   ],
   "source": [
    "block_dict"
   ]
  },
  {
   "cell_type": "code",
   "execution_count": null,
   "metadata": {},
   "outputs": [],
   "source": []
  }
 ],
 "metadata": {
  "hide_input": false,
  "kernelspec": {
   "display_name": "finance_py_35",
   "language": "python",
   "name": "finance35"
  },
  "language_info": {
   "codemirror_mode": {
    "name": "ipython",
    "version": 3
   },
   "file_extension": ".py",
   "mimetype": "text/x-python",
   "name": "python",
   "nbconvert_exporter": "python",
   "pygments_lexer": "ipython3",
   "version": "3.5.5"
  },
  "toc": {
   "base_numbering": 1,
   "nav_menu": {},
   "number_sections": true,
   "sideBar": true,
   "skip_h1_title": false,
   "title_cell": "Table of Contents",
   "title_sidebar": "Contents",
   "toc_cell": false,
   "toc_position": {},
   "toc_section_display": true,
   "toc_window_display": false
  }
 },
 "nbformat": 4,
 "nbformat_minor": 2
}
